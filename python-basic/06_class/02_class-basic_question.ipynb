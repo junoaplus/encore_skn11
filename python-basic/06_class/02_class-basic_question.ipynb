{
 "cells": [
  {
   "cell_type": "markdown",
   "metadata": {},
   "source": [
    "### **문제 1: 클래스 속성, 인스턴스 속성 테스트**\n",
    "\n",
    "토끼는 이직 준비를 위해 ` 작성해야 합니다. `Rabbit`이라는 클래스를 만들어 토끼의 기본 정보를 설정하세요.\n",
    "\n",
    "1. 클래스 속성 `species`를 설정하여 \"토끼\"로 초기화하세요.\n",
    "2. 생성자를 통해 인스턴스 속성 `name`과 `current_job`을 설정하세요.\n",
    "3. 메서드 `introduce`를 만들어 이름과 현재 직업을 소개하는 문자열을 반환하세요.\n",
    "4. 다른 인스턴스를 생성해도 `species`는 공유되지만, `name`과 `current_job`은 서로 독립적임을 확인하세요."
   ]
  },
  {
   "cell_type": "code",
   "execution_count": null,
   "metadata": {},
   "outputs": [],
   "source": [
    "class Rabbit:\n",
    "    \n",
    "    species = '토끼'\n",
    "    \n",
    "    "
   ]
  },
  {
   "cell_type": "code",
   "execution_count": 1,
   "metadata": {},
   "outputs": [
    {
     "name": "stdout",
     "output_type": "stream",
     "text": [
      "전역:  global variable\n",
      "지역(외부 함수):  outer variable\n",
      "지역(내부 함수):  inner variable\n",
      "인스턴스:  instance variable\n",
      "클래스 지역:  local variable\n"
     ]
    }
   ],
   "source": [
    "# 전역 네임스페이스\n",
    "variable = \"global variable\"\n",
    "print('전역: ', variable)    # 전역:  global variable\n",
    "\n",
    "def outer_function():\n",
    "    # 외부 함수 네임스페이스\n",
    "    variable = \"outer variable\"\n",
    "    print('지역(외부 함수): ', variable)\n",
    "    \n",
    "    def inner_function():\n",
    "        # 지역 네임스페이스\n",
    "        variable = \"inner variable\"\n",
    "        print('지역(내부 함수): ', variable)\n",
    "    \n",
    "    inner_function()\n",
    "\n",
    "outer_function()    # 지역(외부 함수):  outer variable\n",
    "                    # 지역(내부 함수):  inner variable\n",
    "\n",
    "class TestClass:\n",
    "    # 클래스 네임스페이스\n",
    "    variable = \"class variable\"\n",
    "    \n",
    "    def __init__(self, value):\n",
    "        self.variable = value  # 인스턴스 네임스페이스\n",
    "    \n",
    "    def class_function(self):\n",
    "        variable = \"local variable\"\n",
    "        print('클래스 지역: ', variable)\n",
    "\n",
    "# 인스턴스 생성 및 메서드 호출\n",
    "obj = TestClass(\"instance variable\")\n",
    "print('인스턴스: ', obj.variable)    # 인스턴스:  instance variable\n",
    "obj.class_function()                # 클래스 지역:  local variable"
   ]
  }
 ],
 "metadata": {
  "kernelspec": {
   "display_name": "pystudy_env",
   "language": "python",
   "name": "python3"
  },
  "language_info": {
   "codemirror_mode": {
    "name": "ipython",
    "version": 3
   },
   "file_extension": ".py",
   "mimetype": "text/x-python",
   "name": "python",
   "nbconvert_exporter": "python",
   "pygments_lexer": "ipython3",
   "version": "3.12.9"
  }
 },
 "nbformat": 4,
 "nbformat_minor": 2
}
