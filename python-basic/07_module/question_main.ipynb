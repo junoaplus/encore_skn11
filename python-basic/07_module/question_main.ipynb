{
 "cells": [
  {
   "cell_type": "markdown",
   "metadata": {},
   "source": [
    "### 문제 1: 토끼**의 팀원 소개 모듈**\n",
    "\n",
    "토끼는 대기업에 입사한 후, 팀원들의 역할을 소개하는 프로그램을 작성하려고 합니다. `team_module.py`라는 모듈을 생성하고 이를 사용해 아래 요구사항을 구현하세요.\n",
    "\n",
    "1. **`team_module.py` 내용**:\n",
    "    - 함수 `introduce_manager()`: \"저는 팀장입니다. 팀을 이끌고 있습니다.\" 반환\n",
    "    - 함수 `introduce_developer()`: \"저는 개발자입니다. LLM 서비스를 개발하고 있습니다.\" 반환\n",
    "    - 변수 `company`: \"주식회사 Python\"\n",
    "2. 메인 스크립트에서 `team_module.py`를 불러와 아래와 같이 출력하세요:\n",
    "    \n",
    "    ```\n",
    "    \"안녕하세요, 주식회사 Python입니다.\"\n",
    "    \"저는 팀장입니다. 팀을 이끌고 있습니다.\"\n",
    "    \"저는 개발자입니다. 프로젝트를 개발하고 있습니다.\"\n",
    "    ```"
   ]
  },
  {
   "cell_type": "code",
   "execution_count": 1,
   "metadata": {},
   "outputs": [
    {
     "name": "stdout",
     "output_type": "stream",
     "text": [
      "안녕하세요, 주식회서 Python\n",
      "저는 팀장입니다. 팀을 이끌고 있습니다.\n",
      "저는 개발자입니다, LLM 서비스를 개발하고 있습니다.\n"
     ]
    }
   ],
   "source": [
    "import q_modules.team_module as q1\n",
    "\n",
    "print(f\"안녕하세요, {q1.company}\")\n",
    "print(q1.introduce_manager())\n",
    "print(q1.introduce_developer())\n"
   ]
  },
  {
   "cell_type": "markdown",
   "metadata": {},
   "source": [
    "---\n",
    "\n",
    "### 문제 2: 토끼**의 출퇴근 관리 모듈**\n",
    "\n",
    "토끼는 팀원들의 출퇴근 시간을 관리하는 프로그램을 작성하고자 합니다. `attendance_module.py`를 생성하고 이를 사용해 아래 요구사항을 구현하세요.\n",
    "\n",
    "1. **`attendance_module.py` 내용**:\n",
    "    - 함수 **`record_attendance(name, time)`**: \"{name}님이 {time}에 출근했습니다.\" 반환\n",
    "    - 함수 `record_leave(name, time)`: \"{name}님이 {time}에 퇴근했습니다.\" 반환\n",
    "2. 메인 스크립트에서 `attendance_module.py`를 불러와 아래와 같이 출력하세요:\n",
    "    \n",
    "    ```\n",
    "    \"토끼님이 9:00에 출근했습니다.\"\n",
    "    \"토끼님이 18:00에 퇴근했습니다.\"\n",
    "    ```\n",
    "    \n"
   ]
  },
  {
   "cell_type": "code",
   "execution_count": 7,
   "metadata": {},
   "outputs": [
    {
     "name": "stdout",
     "output_type": "stream",
     "text": [
      "준호님이 09:00에 출근했습니다.\n",
      "준호님이 18:00에 퇴근했습니다.\n"
     ]
    }
   ],
   "source": [
    "import q_modules.attendance_module as q2\n",
    "\n",
    "print(q2.record_attendance(\"준호\", \"09:00\"))\n",
    "print(q2.record_leave(\"준호\", \"18:00\"))"
   ]
  },
  {
   "cell_type": "markdown",
   "metadata": {},
   "source": [
    "---\n",
    "\n",
    "### 문제 3: 토끼**의 업무 진행 모듈**\n",
    "\n",
    "토끼는 팀에서 업무 진행 상황을 기록하는 프로그램을 작성하려 합니다. `task_module.py`를 생성하고 이를 사용해 아래 요구사항을 구현하세요.\n",
    "\n",
    "1. **`task_module.py` 내용**:\n",
    "    - 함수 `start_task(task_name)`: \"작업 '{task_name}'이(가) 시작되었습니다.\" 반환\n",
    "    - 함수 `complete_task(task_name)`: \"작업 '{task_name}'이(가) 완료되었습니다.\" 반환\n",
    "2. 메인 스크립트에서 `task_module.py`를 불러와 아래와 같이 출력하세요:\n",
    "    \n",
    "    ```\n",
    "    \"작업 '코드 리뷰'이(가) 시작되었습니다.\"\n",
    "    \"작업 '코드 리뷰'이(가) 완료되었습니다.\"\n",
    "    ```"
   ]
  },
  {
   "cell_type": "code",
   "execution_count": 3,
   "metadata": {},
   "outputs": [
    {
     "name": "stdout",
     "output_type": "stream",
     "text": [
      "작업 '코드 리뷰'이(가) 시작되었씁니다.\n",
      "작업 '코드 리뷰'이(가) 완료 되었습니다.\n"
     ]
    }
   ],
   "source": [
    "import q_modules.task_module as q3\n",
    "\n",
    "print(q3.start_task(\"코드 리뷰\"))\n",
    "print(q3.complete_task(\"코드 리뷰\"))"
   ]
  },
  {
   "cell_type": "markdown",
   "metadata": {},
   "source": [
    "---\n",
    "\n",
    "### 문제 4: **내장 모듈을 활용한 토끼의 업무 효율성 계산**\n",
    "\n",
    "토끼는 자신의 업무 효율성을 계산하려고 합니다. `math` 모듈을 사용하여 아래 요구사항을 구현하세요.\n",
    "\n",
    "1. 매일 처리한 업무량을 기록한 배열이 [10, 12, 8, 15, 9]라면 평균 업무량을 올림하여(math.ceil) 출력하세요.\n",
    "2. 평균 업무량보다 많이 처리한 날의 개수를 계산하세요."
   ]
  },
  {
   "cell_type": "code",
   "execution_count": 6,
   "metadata": {},
   "outputs": [
    {
     "name": "stdout",
     "output_type": "stream",
     "text": [
      "11\n",
      "2\n"
     ]
    }
   ],
   "source": [
    "import math\n",
    "\n",
    "work = [10, 12, 8, 15, 9]\n",
    "\n",
    "avg = sum(work) / len(work)\n",
    "\n",
    "avg = math.ceil(avg)\n",
    "\n",
    "print(avg)\n",
    "\n",
    "day = 0 \n",
    "\n",
    "for i in work:\n",
    "    if i > avg:\n",
    "        day += 1\n",
    "        \n",
    "print(day)"
   ]
  },
  {
   "cell_type": "markdown",
   "metadata": {},
   "source": [
    "---\n",
    "\n",
    "### 문제 5: **내장 모듈을 활용한 토끼의 업무 보고서 작성**\n",
    "\n",
    "토끼는 팀원의 업무 보고서를 작성하려고 합니다. `datetime` 모듈을 사용하여 현재 날짜와 시간을 포함한 보고서를 생성하세요.\n",
    "\n",
    "1. 현재 날짜와 시간. 팀원 이름과 작업 내용을 출력하세요.\n",
    "\n",
    "```\n",
    "[2024-12-24 08:55:31] 토끼님이 작업 '코드 리뷰'을(를) 완료했습니다.\n",
    "```"
   ]
  },
  {
   "cell_type": "code",
   "execution_count": 11,
   "metadata": {},
   "outputs": [
    {
     "name": "stdout",
     "output_type": "stream",
     "text": [
      "[25-02-14 17:08:51] 토끼님이 작업 '코드 리뷰을(를) 완료했습니다.\n"
     ]
    }
   ],
   "source": [
    "import datetime\n",
    "\n",
    "now = datetime.datetime.now()\n",
    "\n",
    "now1 = now.strftime(\"%y-%m-%d %H:%M:%S\")\n",
    "print(f\"[{datetime.datetime.now().strftime('%y-%m-%d %H:%M:%S')}] 토끼님이 작업 '코드 리뷰을(를) 완료했습니다.\")"
   ]
  },
  {
   "cell_type": "code",
   "execution_count": 12,
   "metadata": {},
   "outputs": [
    {
     "name": "stdout",
     "output_type": "stream",
     "text": [
      "Package                   Version\n",
      "------------------------- --------------\n",
      "anyio                     4.8.0\n",
      "appnope                   0.1.4\n",
      "argon2-cffi               23.1.0\n",
      "argon2-cffi-bindings      21.2.0\n",
      "arrow                     1.3.0\n",
      "asttokens                 3.0.0\n",
      "async-lru                 2.0.4\n",
      "attrs                     25.1.0\n",
      "babel                     2.17.0\n",
      "beautifulsoup4            4.13.3\n",
      "bleach                    6.2.0\n",
      "certifi                   2025.1.31\n",
      "cffi                      1.17.1\n",
      "charset-normalizer        3.4.1\n",
      "comm                      0.2.2\n",
      "debugpy                   1.8.12\n",
      "decorator                 5.1.1\n",
      "defusedxml                0.7.1\n",
      "executing                 2.2.0\n",
      "fastjsonschema            2.21.1\n",
      "fqdn                      1.5.1\n",
      "h11                       0.14.0\n",
      "httpcore                  1.0.7\n",
      "httpx                     0.28.1\n",
      "idna                      3.10\n",
      "ipykernel                 6.29.5\n",
      "ipython                   8.32.0\n",
      "ipywidgets                8.1.5\n",
      "isoduration               20.11.0\n",
      "jedi                      0.19.2\n",
      "Jinja2                    3.1.5\n",
      "json5                     0.10.0\n",
      "jsonpointer               3.0.0\n",
      "jsonschema                4.23.0\n",
      "jsonschema-specifications 2024.10.1\n",
      "jupyter                   1.1.1\n",
      "jupyter_client            8.6.3\n",
      "jupyter-console           6.6.3\n",
      "jupyter_core              5.7.2\n",
      "jupyter-events            0.12.0\n",
      "jupyter-lsp               2.2.5\n",
      "jupyter_server            2.15.0\n",
      "jupyter_server_terminals  0.5.3\n",
      "jupyterlab                4.3.5\n",
      "jupyterlab_pygments       0.3.0\n",
      "jupyterlab_server         2.27.3\n",
      "jupyterlab_widgets        3.0.13\n",
      "MarkupSafe                3.0.2\n",
      "matplotlib-inline         0.1.7\n",
      "mistune                   3.1.1\n",
      "nbclient                  0.10.2\n",
      "nbconvert                 7.16.6\n",
      "nbformat                  5.10.4\n",
      "nest-asyncio              1.6.0\n",
      "notebook                  7.3.2\n",
      "notebook_shim             0.2.4\n",
      "overrides                 7.7.0\n",
      "packaging                 24.2\n",
      "pandocfilters             1.5.1\n",
      "parso                     0.8.4\n",
      "pexpect                   4.9.0\n",
      "pip                       25.0\n",
      "platformdirs              4.3.6\n",
      "prometheus_client         0.21.1\n",
      "prompt_toolkit            3.0.50\n",
      "psutil                    6.1.1\n",
      "ptyprocess                0.7.0\n",
      "pure_eval                 0.2.3\n",
      "pycparser                 2.22\n",
      "Pygments                  2.19.1\n",
      "python-dateutil           2.9.0.post0\n",
      "python-json-logger        3.2.1\n",
      "PyYAML                    6.0.2\n",
      "pyzmq                     26.2.1\n",
      "referencing               0.36.2\n",
      "requests                  2.32.3\n",
      "rfc3339-validator         0.1.4\n",
      "rfc3986-validator         0.1.1\n",
      "rpds-py                   0.22.3\n",
      "Send2Trash                1.8.3\n",
      "setuptools                75.8.0\n",
      "six                       1.17.0\n",
      "sniffio                   1.3.1\n",
      "soupsieve                 2.6\n",
      "stack-data                0.6.3\n",
      "terminado                 0.18.1\n",
      "tinycss2                  1.4.0\n",
      "tornado                   6.4.2\n",
      "traitlets                 5.14.3\n",
      "types-python-dateutil     2.9.0.20241206\n",
      "typing_extensions         4.12.2\n",
      "uri-template              1.3.0\n",
      "urllib3                   2.3.0\n",
      "wcwidth                   0.2.13\n",
      "webcolors                 24.11.1\n",
      "webencodings              0.5.1\n",
      "websocket-client          1.8.0\n",
      "wheel                     0.45.1\n",
      "widgetsnbextension        4.0.13\n"
     ]
    }
   ],
   "source": [
    "!pip list"
   ]
  },
  {
   "cell_type": "code",
   "execution_count": 14,
   "metadata": {},
   "outputs": [
    {
     "name": "stdout",
     "output_type": "stream",
     "text": [
      "Requirement already satisfied: numpy in /opt/anaconda3/envs/pystudy_env/lib/python3.12/site-packages (2.2.3)\n",
      "Requirement already satisfied: pandas in /opt/anaconda3/envs/pystudy_env/lib/python3.12/site-packages (2.2.3)\n",
      "Requirement already satisfied: numpy>=1.26.0 in /opt/anaconda3/envs/pystudy_env/lib/python3.12/site-packages (from pandas) (2.2.3)\n",
      "Requirement already satisfied: python-dateutil>=2.8.2 in /opt/anaconda3/envs/pystudy_env/lib/python3.12/site-packages (from pandas) (2.9.0.post0)\n",
      "Requirement already satisfied: pytz>=2020.1 in /opt/anaconda3/envs/pystudy_env/lib/python3.12/site-packages (from pandas) (2025.1)\n",
      "Requirement already satisfied: tzdata>=2022.7 in /opt/anaconda3/envs/pystudy_env/lib/python3.12/site-packages (from pandas) (2025.1)\n",
      "Requirement already satisfied: six>=1.5 in /opt/anaconda3/envs/pystudy_env/lib/python3.12/site-packages (from python-dateutil>=2.8.2->pandas) (1.17.0)\n"
     ]
    }
   ],
   "source": [
    "!pip install numpy\n",
    "!pip install pandas"
   ]
  },
  {
   "cell_type": "code",
   "execution_count": 15,
   "metadata": {},
   "outputs": [],
   "source": [
    "import numpy"
   ]
  },
  {
   "cell_type": "code",
   "execution_count": 16,
   "metadata": {},
   "outputs": [],
   "source": [
    "import pandas"
   ]
  },
  {
   "cell_type": "code",
   "execution_count": 18,
   "metadata": {},
   "outputs": [
    {
     "name": "stdout",
     "output_type": "stream",
     "text": [
      "ERROR: unknown command \"feeeze\" - maybe you meant \"freeze\"\n"
     ]
    }
   ],
   "source": [
    "!pip feeeze > requirements.txt"
   ]
  }
 ],
 "metadata": {
  "kernelspec": {
   "display_name": "pystudy_env",
   "language": "python",
   "name": "python3"
  },
  "language_info": {
   "codemirror_mode": {
    "name": "ipython",
    "version": 3
   },
   "file_extension": ".py",
   "mimetype": "text/x-python",
   "name": "python",
   "nbconvert_exporter": "python",
   "pygments_lexer": "ipython3",
   "version": "3.12.9"
  }
 },
 "nbformat": 4,
 "nbformat_minor": 2
}
