{
 "cells": [
  {
   "cell_type": "markdown",
   "metadata": {},
   "source": [
    "# 변수(variable)\n"
   ]
  },
  {
   "cell_type": "code",
   "execution_count": 39,
   "metadata": {},
   "outputs": [],
   "source": [
    "date = 250210\n",
    "name = \"황준호\""
   ]
  },
  {
   "cell_type": "code",
   "execution_count": 40,
   "metadata": {},
   "outputs": [
    {
     "name": "stdout",
     "output_type": "stream",
     "text": [
      "250210\n",
      "황준호\n"
     ]
    }
   ],
   "source": [
    "print(date)\n",
    "print(name)"
   ]
  },
  {
   "cell_type": "code",
   "execution_count": 41,
   "metadata": {},
   "outputs": [
    {
     "name": "stdout",
     "output_type": "stream",
     "text": [
      "200\n"
     ]
    }
   ],
   "source": [
    "m = 100\n",
    "n = m + 10\n",
    "m = 200\n",
    "print(m)"
   ]
  },
  {
   "cell_type": "markdown",
   "metadata": {},
   "source": [
    "---\n",
    "### **문제 1**\n",
    "\n",
    "아래 설명에 맞게 변수를 선언하고 값을 대입하세요.\n",
    "\n",
    "1. `name`이라는 이름의 변수를 선언하고, **당신의 이름**을 문자열로 저장하세요.\n",
    "2. `age`라는 이름의 변수를 선언하고, **당신의 나이**를 숫자로 저장하세요."
   ]
  },
  {
   "cell_type": "code",
   "execution_count": 54,
   "metadata": {},
   "outputs": [],
   "source": [
    "name = \"황준호\"\n",
    "age = 22"
   ]
  },
  {
   "cell_type": "code",
   "execution_count": 55,
   "metadata": {},
   "outputs": [
    {
     "name": "stdout",
     "output_type": "stream",
     "text": [
      "황준호\n",
      "22\n"
     ]
    }
   ],
   "source": [
    "print(name)\n",
    "print(age)"
   ]
  },
  {
   "cell_type": "markdown",
   "metadata": {},
   "source": [
    "### **문제 2**\n",
    "\n",
    "다음 조건에 맞게 변수를 작성해보세요.\n",
    "\n",
    "1. `height`라는 변수에 **키**를 숫자형으로 저장하세요.\n",
    "2. `dream`이라는 변수에 **당신의 목표**을 문자열로 저장하세요."
   ]
  },
  {
   "cell_type": "code",
   "execution_count": 52,
   "metadata": {},
   "outputs": [],
   "source": [
    "height = 171.4\n",
    "dream = \"행복한 사람\""
   ]
  },
  {
   "cell_type": "code",
   "execution_count": 53,
   "metadata": {},
   "outputs": [
    {
     "name": "stdout",
     "output_type": "stream",
     "text": [
      "171.4\n",
      "행복한 사람\n"
     ]
    }
   ],
   "source": [
    "print(height)\n",
    "print(dream)"
   ]
  },
  {
   "cell_type": "markdown",
   "metadata": {},
   "source": [
    "### **문제 3**\n",
    "\n",
    "변수에 담긴 값을 다른 변수에 대입하는 연습을 해봅시다.\n",
    "\n",
    "1. `city`라는 변수에 **당신이 살고 있는 도시 이름**을 문자열로 저장하세요.\n",
    "2. `my_city`라는 변수에 `city` 변수의 값을 대입하세요.\n",
    "3. 두 변수를 각각 `print()`로 출력해보세요."
   ]
  },
  {
   "cell_type": "code",
   "execution_count": 44,
   "metadata": {},
   "outputs": [
    {
     "name": "stdout",
     "output_type": "stream",
     "text": [
      "서울\n",
      "서울\n"
     ]
    }
   ],
   "source": [
    "city = \"서울\"\n",
    "my_city = city\n",
    "print(city)\n",
    "print(my_city)"
   ]
  },
  {
   "cell_type": "markdown",
   "metadata": {},
   "source": [
    "### **문제 4**\n",
    "\n",
    "다음과 같은 규칙에 맞는 변수를 작성하세요.\n",
    "\n",
    "---\n",
    "\n",
    "1. **사과의 개수**를 나타내는 변수를 `apple_count`로 선언하고 숫자 `10`을 저장하세요.\n",
    "2. **오렌지의 개수**를 나타내는 변수를 `orange_count`로 선언하고 숫자 `20`을 저장하세요.\n",
    "3. 두 변수를 출력해보세요."
   ]
  },
  {
   "cell_type": "code",
   "execution_count": 56,
   "metadata": {},
   "outputs": [
    {
     "name": "stdout",
     "output_type": "stream",
     "text": [
      "10 20\n"
     ]
    }
   ],
   "source": [
    "apple_count = 10\n",
    "orange_count = 20\n",
    "print(apple_count, orange_count)"
   ]
  },
  {
   "cell_type": "markdown",
   "metadata": {},
   "source": [
    "### **문제 5**\n",
    "\n",
    "다음과 같은 규칙을 지켜 변수를 작성하세요.\n",
    "\n",
    "1. 변수 이름은 **스네이크 케이스**를 따릅니다.\n",
    "2. `first_name`에 **당신의 이름의 첫 글자**를 문자열로 저장하세요.\n",
    "3. `last_name`에 **당신의 성**을 문자열로 저장하세요.\n",
    "4. `full_name` 변수에 `first_name`과 `last_name`을 이어붙여서 저장하세요.\n",
    "5. `print()`를 사용해 `full_name`을 출력해보세요."
   ]
  },
  {
   "cell_type": "code",
   "execution_count": 57,
   "metadata": {},
   "outputs": [
    {
     "name": "stdout",
     "output_type": "stream",
     "text": [
      "준황\n"
     ]
    }
   ],
   "source": [
    "first_name = \"준\"\n",
    "last_name = \"황\"\n",
    "full_name = first_name + last_name\n",
    "print(full_name)"
   ]
  }
 ],
 "metadata": {
  "kernelspec": {
   "display_name": "pystudy_env",
   "language": "python",
   "name": "python3"
  },
  "language_info": {
   "codemirror_mode": {
    "name": "ipython",
    "version": 3
   },
   "file_extension": ".py",
   "mimetype": "text/x-python",
   "name": "python",
   "nbconvert_exporter": "python",
   "pygments_lexer": "ipython3",
   "version": "3.12.9"
  }
 },
 "nbformat": 4,
 "nbformat_minor": 2
}
