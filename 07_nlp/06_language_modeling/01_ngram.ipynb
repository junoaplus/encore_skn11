{
 "cells": [
  {
   "cell_type": "markdown",
   "metadata": {},
   "source": [
    "# n-gram 언어 모델"
   ]
  },
  {
   "cell_type": "code",
   "execution_count": 15,
   "metadata": {},
   "outputs": [],
   "source": [
    "import nltk\n",
    "from nltk.util import ngrams\n",
    "from collections import  Counter"
   ]
  },
  {
   "cell_type": "code",
   "execution_count": 16,
   "metadata": {},
   "outputs": [
    {
     "name": "stdout",
     "output_type": "stream",
     "text": [
      "P(오늘은|날씨가) = 0.400\n",
      "P(날씨가|좋다) = 0.500\n",
      "P(좋다|.) = 1.000\n",
      "P(.|오늘은) = 1.000\n",
      "P(오늘은|기분이) = 0.200\n",
      "P(기분이|좋다) = 1.000\n",
      "P(오늘은|일이) = 0.200\n",
      "P(일이|많다) = 1.000\n",
      "P(많다|.) = 1.000\n",
      "P(오늘은|사람이) = 0.200\n",
      "P(사람이|많다) = 1.000\n",
      "P(날씨가|맑다) = 0.500\n"
     ]
    }
   ],
   "source": [
    "text = \"오늘은 날씨가 좋다. 오늘은 기분이 좋다. 오늘은 일이 많다. 오늘은 사람이 많다. 오늘은 날씨가 맑다\"\n",
    "\n",
    "tokens = nltk.word_tokenize(text)\n",
    "\n",
    "# 1-gram, 2-gram 생성 -> 빈도수 계산\n",
    "unigrams = tokens\n",
    "bigram = list(ngrams(tokens, 2))\n",
    "\n",
    "unigrams_freq = Counter(unigrams)\n",
    "bigram_freq = Counter(bigram)\n",
    "\n",
    "# 조건부 확률 계산\n",
    "for (w1, w2), freq in bigram_freq.items():\n",
    "    prob = freq / unigrams_freq[w1]\n",
    "    print(f\"P({w1}|{w2}) = {prob:.3f}\")"
   ]
  },
  {
   "cell_type": "markdown",
   "metadata": {},
   "source": [
    "### Perplexity 계산"
   ]
  },
  {
   "cell_type": "code",
   "execution_count": 27,
   "metadata": {},
   "outputs": [],
   "source": [
    "import math\n",
    "\n",
    "def compute_bigram_perplexity(test_text, unigrams_freq, bigram_freq):\n",
    "    test_tokens = nltk.word_tokenize(test_text)\n",
    "    test_bigrams = list(ngrams(test_tokens, 2))\n",
    "    \n",
    "    log_prob_sum = 0\n",
    "    N = len(test_bigrams)\n",
    "    \n",
    "    for bigram in test_bigrams:\n",
    "        w1, w2 = bigram\n",
    "        prob = bigram_freq.get(bigram, 0) / unigrams_freq.get(w1, 1)\n",
    "        if prob == 0:\n",
    "            prob = 1e-10\n",
    "        log_prob_sum += math.log2(prob)\n",
    "        \n",
    "    cross_entropy = -log_prob_sum / N\n",
    "    perplexity = math.pow(2, cross_entropy)\n",
    "    return perplexity"
   ]
  },
  {
   "cell_type": "code",
   "execution_count": 28,
   "metadata": {},
   "outputs": [],
   "source": [
    "train_text = \"자연어 처리는 재미있다. 자연어 처리는 어렵지만 도전하고 싶다. 오늘은 날씨가 좋다\"\n",
    "# 단어 토큰화\n",
    "train_tokens = nltk.word_tokenize(train_text)\n",
    "# 유니그램\n",
    "unigrams = train_tokens\n",
    "# 바이그램\n",
    "bigram = list(ngrams(train_tokens, 2))\n",
    "# 카운트로 빈도수 계산(유니그램)\n",
    "unigrams_freq = Counter(unigrams)\n",
    "# 카운트로 빈도수 계산(바이그램)\n",
    "bigram_freq = Counter(bigram)"
   ]
  },
  {
   "cell_type": "code",
   "execution_count": 30,
   "metadata": {},
   "outputs": [
    {
     "name": "stdout",
     "output_type": "stream",
     "text": [
      "문장 : 자연어 처리는 재미있다. | perplexity : 1.260\n",
      "문장 : 자연어 처리는 어렵지만 도전하고 싶다. | perplexity : 1.149\n",
      "문장 : 오늘은 날씨가 좋다. | perplexity : 2154.435\n",
      "문장 : 기계 번역은 어렵다. | perplexity : 10000000000.000\n",
      "문장 : 자연어 처리에 도전하고 싶다. | perplexity : 100000.000\n",
      "문장 : 오늘 날씨가 흐리다. | perplexity : 10000000000.000\n"
     ]
    }
   ],
   "source": [
    "test_sentences = [\n",
    "    \"자연어 처리는 재미있다.\",\n",
    "    \"자연어 처리는 어렵지만 도전하고 싶다.\",\n",
    "    \"오늘은 날씨가 좋다.\",\n",
    "    \"기계 번역은 어렵다.\",\n",
    "    \"자연어 처리에 도전하고 싶다.\",\n",
    "    \"오늘 날씨가 흐리다.\"\n",
    "]\n",
    "\n",
    "for sentence in test_sentences:\n",
    "    pp = compute_bigram_perplexity(sentence, unigrams_freq, bigram_freq)\n",
    "    print(f'문장 : {sentence} | perplexity : {pp:.3f}')"
   ]
  }
 ],
 "metadata": {
  "kernelspec": {
   "display_name": "pystudy_env",
   "language": "python",
   "name": "python3"
  },
  "language_info": {
   "codemirror_mode": {
    "name": "ipython",
    "version": 3
   },
   "file_extension": ".py",
   "mimetype": "text/x-python",
   "name": "python",
   "nbconvert_exporter": "python",
   "pygments_lexer": "ipython3",
   "version": "3.12.9"
  }
 },
 "nbformat": 4,
 "nbformat_minor": 2
}
