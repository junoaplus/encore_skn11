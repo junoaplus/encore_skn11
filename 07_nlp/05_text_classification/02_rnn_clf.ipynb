{
 "cells": [
  {
   "cell_type": "markdown",
   "metadata": {},
   "source": [
    "# RNN 텍스트 분류기"
   ]
  },
  {
   "cell_type": "code",
   "execution_count": 163,
   "metadata": {},
   "outputs": [],
   "source": [
    "# 데이터 준비 \n",
    "corpus = [\n",
    "    \"자연어 처리는 재미있다\",\n",
    "    \"Python이 더 쉽다\",\n",
    "    \"자연어 처리 공부는 어렵다\",\n",
    "    \"Python 활용법을 더 찾아보자\"\n",
    "]\n",
    "labels = [1, 0, 0, 1]\n",
    "\n",
    "# 토큰화\n",
    "tokenized_corpus = [sentence.split() for sentence in corpus]\n",
    "\n",
    "# 단어 사전\n",
    "vocab = {}\n",
    "for tokens in tokenized_corpus:\n",
    "    for token in tokens:\n",
    "        if token not in vocab:\n",
    "            vocab[token] = len(vocab) + 1\n",
    "            \n",
    "# 문장 인덱싱\n",
    "indexed_corpus = []\n",
    "for tokens in tokenized_corpus:\n",
    "    indexed_sent = [vocab[token]for token in tokens]\n",
    "    indexed_corpus.append(indexed_sent)\n",
    "    \n",
    "# 패딩 \n",
    "max_seq_len = max(len(seq) for seq in indexed_corpus)\n",
    "def pad_sequence(seq, max_len):\n",
    "    if len(seq) < max_len:\n",
    "        seq = seq + [0] * (max_len - len(seq))\n",
    "    return seq\n",
    "\n",
    "padded_corpus = [pad_sequence(seq, max_seq_len) for seq in indexed_corpus]"
   ]
  },
  {
   "cell_type": "code",
   "execution_count": 164,
   "metadata": {},
   "outputs": [],
   "source": [
    "import torch\n",
    "\n",
    "inputs = torch.tensor(padded_corpus, dtype=torch.long)\n",
    "labels = torch.tensor(labels, dtype=torch.float32).unsqueeze(1)"
   ]
  },
  {
   "cell_type": "code",
   "execution_count": 165,
   "metadata": {},
   "outputs": [],
   "source": [
    "# RNN 기반 텍스트 분류기 모델 정의\n",
    "import torch.nn as nn\n",
    "\n",
    "class RNNClassifier(nn.Module):\n",
    "    def __init__(self, vocab_size, embedding_dim, hidden_dim, output_dim):\n",
    "        super(RNNClassifier, self).__init__()\n",
    "        self.embedding = nn.Embedding(vocab_size, embedding_dim)\n",
    "        self.rnn = nn.RNN(embedding_dim, hidden_dim, batch_first=True)\n",
    "        self.fc = nn.Linear(hidden_dim, output_dim)\n",
    "        self.sigmoid = nn.Sigmoid()\n",
    "        \n",
    "    def forward(self, x):\n",
    "        x = self.embedding(x)\n",
    "        output, hidden = self.rnn(x)\n",
    "        return self.sigmoid(self.fc(hidden[-1]))"
   ]
  },
  {
   "cell_type": "code",
   "execution_count": 166,
   "metadata": {},
   "outputs": [
    {
     "name": "stdout",
     "output_type": "stream",
     "text": [
      "RNNClassifier(\n",
      "  (embedding): Embedding(13, 128)\n",
      "  (rnn): RNN(128, 64, batch_first=True)\n",
      "  (fc): Linear(in_features=64, out_features=1, bias=True)\n",
      "  (sigmoid): Sigmoid()\n",
      ")\n"
     ]
    }
   ],
   "source": [
    "vocab_size = len(vocab) + 1\n",
    "embed_size = 128\n",
    "hidden_size = 64\n",
    "num_classes = 1\n",
    "\n",
    "model = RNNClassifier(vocab_size, embed_size, hidden_size, num_classes)\n",
    "print(model)"
   ]
  },
  {
   "cell_type": "code",
   "execution_count": 167,
   "metadata": {},
   "outputs": [
    {
     "name": "stdout",
     "output_type": "stream",
     "text": [
      "Epoch [1/20], Loss: 0.6908\n",
      "Epoch [2/20], Loss: 0.5851\n",
      "Epoch [3/20], Loss: 0.5430\n",
      "Epoch [4/20], Loss: 0.5227\n",
      "Epoch [5/20], Loss: 0.5137\n",
      "Epoch [6/20], Loss: 0.5093\n",
      "Epoch [7/20], Loss: 0.5070\n",
      "Epoch [8/20], Loss: 0.5057\n",
      "Epoch [9/20], Loss: 0.5049\n",
      "Epoch [10/20], Loss: 0.5044\n",
      "Epoch [11/20], Loss: 0.5041\n",
      "Epoch [12/20], Loss: 0.5039\n",
      "Epoch [13/20], Loss: 0.5037\n",
      "Epoch [14/20], Loss: 0.5036\n",
      "Epoch [15/20], Loss: 0.5035\n",
      "Epoch [16/20], Loss: 0.5035\n",
      "Epoch [17/20], Loss: 0.5034\n",
      "Epoch [18/20], Loss: 0.5034\n",
      "Epoch [19/20], Loss: 0.5034\n",
      "Epoch [20/20], Loss: 0.5033\n"
     ]
    }
   ],
   "source": [
    "import torch.optim as optim\n",
    "\n",
    "# 학습\n",
    "criterion = nn.BCELoss()\n",
    "optimizer = optim.Adam(model.parameters(), lr=0.01)\n",
    "epochs = 20\n",
    "\n",
    "for epoch in range(epochs):\n",
    "    model.train()\n",
    "    optimizer.zero_grad()\n",
    "    outputs = model(inputs)\n",
    "    outputs = torch.sigmoid(outputs)\n",
    "    loss = criterion(outputs, labels)\n",
    "    loss.backward()\n",
    "    optimizer.step()\n",
    "    print(f'Epoch [{epoch+1}/{epochs}], Loss: {loss.item():.4f}')"
   ]
  },
  {
   "cell_type": "code",
   "execution_count": 168,
   "metadata": {},
   "outputs": [],
   "source": [
    "test_text = [\n",
    "    \"자연어 처리 재미있다\",\n",
    "    \"Python이 어렵다\"\n",
    "]\n",
    "\n",
    "def preprocessed_sentence(sentence, vocab, max_len):\n",
    "    tokens = sentence.split()\n",
    "    indices = [vocab.get(token, 0) for token in tokens]\n",
    "    indices = pad_sequence(indices, max_len)\n",
    "    return torch.tensor(indices, dtype=torch.long)\n",
    "\n",
    "test_input = []\n",
    "for sent in test_text:\n",
    "    test_input.append(preprocessed_sentence(sent, vocab, max_seq_len))\n",
    "test_input = torch.stack(test_input)"
   ]
  },
  {
   "cell_type": "code",
   "execution_count": 169,
   "metadata": {},
   "outputs": [
    {
     "name": "stdout",
     "output_type": "stream",
     "text": [
      "tensor([[0.9994],\n",
      "        [0.0399]])\n"
     ]
    }
   ],
   "source": [
    "model.eval()\n",
    "with torch.no_grad():\n",
    "    outputs = model(test_input)\n",
    "    print(outputs)"
   ]
  }
 ],
 "metadata": {
  "kernelspec": {
   "display_name": "pystudy_env",
   "language": "python",
   "name": "python3"
  },
  "language_info": {
   "codemirror_mode": {
    "name": "ipython",
    "version": 3
   },
   "file_extension": ".py",
   "mimetype": "text/x-python",
   "name": "python",
   "nbconvert_exporter": "python",
   "pygments_lexer": "ipython3",
   "version": "3.12.2"
  }
 },
 "nbformat": 4,
 "nbformat_minor": 2
}
