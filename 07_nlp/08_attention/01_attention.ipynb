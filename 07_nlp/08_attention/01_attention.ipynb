{
 "cells": [
  {
   "cell_type": "markdown",
   "metadata": {},
   "source": [
    "# Attention"
   ]
  },
  {
   "cell_type": "code",
   "execution_count": 11,
   "metadata": {},
   "outputs": [],
   "source": [
    "import torch\n",
    "import torch.nn as nn\n",
    "\n",
    "import torch.nn.functional as F"
   ]
  },
  {
   "cell_type": "markdown",
   "metadata": {},
   "source": [
    "### 어텐션 가중치 계산"
   ]
  },
  {
   "cell_type": "code",
   "execution_count": 19,
   "metadata": {},
   "outputs": [],
   "source": [
    "def attention(query, key, value):\n",
    "    # 1. 어텐션 스코어 계산 (Query - Key)\n",
    "    scores = torch.matmul(query, key.transpose(-2, -1))\n",
    "    print('Attention Scores Shape:', scores.shape)\n",
    "    \n",
    "    # 2.Softmax 적용 (가중치 계산)\n",
    "    attention_weights = F.softmax(scores, dim=-1)\n",
    "    print('Attention weights shape:', attention_weights.shape)\n",
    "    \n",
    "    # 3. 어텐션 밸류 계산 (value 적용 => 최종 Context vector 계산)\n",
    "    context_vextor = torch.matmul(attention_weights, value)\n",
    "    print('Context Vector shape:', context_vextor.shape)\n",
    "    \n",
    "    return context_vextor"
   ]
  },
  {
   "cell_type": "code",
   "execution_count": null,
   "metadata": {},
   "outputs": [],
   "source": []
  },
  {
   "cell_type": "code",
   "execution_count": 13,
   "metadata": {},
   "outputs": [],
   "source": [
    "# 토큰화 및 임베딩 결과 예측\n",
    "vocab = {\n",
    "    \"나는\": 0,\n",
    "    \"학교에\": 1,\n",
    "    \"간다\": 2,\n",
    "    \"<ped>\": 3\n",
    "}\n",
    "\n",
    "vocab_size = len(vocab)\n",
    "EMBEDDING_DIM = 4"
   ]
  },
  {
   "cell_type": "code",
   "execution_count": 14,
   "metadata": {},
   "outputs": [],
   "source": [
    "# 입력 문장\n",
    "inputs = [\"나는\", \"학교에\", \"간다\"]\n",
    "inputs_ids = torch.tensor([[vocab[word] for word in inputs]])"
   ]
  },
  {
   "cell_type": "code",
   "execution_count": 18,
   "metadata": {},
   "outputs": [
    {
     "name": "stdout",
     "output_type": "stream",
     "text": [
      "torch.Size([1, 3, 4])\n",
      "torch.Size([1, 3, 4]) torch.Size([1, 3, 4]) torch.Size([1, 3, 4])\n"
     ]
    }
   ],
   "source": [
    "# 1. 임베딩 적용\n",
    "embedding_layer = nn.Embedding(vocab_size, EMBEDDING_DIM)\n",
    "inputs_embedded = embedding_layer(inputs_ids)\n",
    "print(inputs_embedded.shape)\n",
    "\n",
    "# 2. 선형 변환 -> Query, key, Value\n",
    "HIDDEN_DIM = 4\n",
    "nn.Linear(EMBEDDING_DIM, HIDDEN_DIM)\n",
    "W_query = nn.Linear(EMBEDDING_DIM, HIDDEN_DIM)\n",
    "W_key = nn.Linear(EMBEDDING_DIM, HIDDEN_DIM)\n",
    "W_value = nn.Linear(EMBEDDING_DIM, HIDDEN_DIM)\n",
    "\n",
    "input_query = W_query(inputs_embedded)\n",
    "input_key = W_key(inputs_embedded)\n",
    "input_value = W_value(inputs_embedded)\n",
    "\n",
    "print(input_query.shape, input_key.shape, input_value.shape)"
   ]
  },
  {
   "cell_type": "code",
   "execution_count": 20,
   "metadata": {},
   "outputs": [
    {
     "name": "stdout",
     "output_type": "stream",
     "text": [
      "Attention Scores Shape: torch.Size([1, 3, 3])\n",
      "Attention weights shape: torch.Size([1, 3, 3])\n",
      "Context Vector shape: torch.Size([1, 3, 4])\n"
     ]
    },
    {
     "data": {
      "text/plain": [
       "tensor([[[-0.9200,  0.0515, -0.8134, -1.0266],\n",
       "         [-0.8844, -0.1619, -0.6380, -0.5385],\n",
       "         [-0.8520, -0.1299, -0.6814, -0.6173]]], grad_fn=<UnsafeViewBackward0>)"
      ]
     },
     "execution_count": 20,
     "metadata": {},
     "output_type": "execute_result"
    }
   ],
   "source": [
    "context_vector = attention(input_query, input_key, input_value)\n",
    "context_vector"
   ]
  },
  {
   "cell_type": "markdown",
   "metadata": {},
   "source": [
    "### seq2seq 모델에 어텐션 추가"
   ]
  },
  {
   "cell_type": "code",
   "execution_count": 30,
   "metadata": {},
   "outputs": [],
   "source": [
    "class Attention(nn.Module):\n",
    "    def __init__(self, hidden_size):\n",
    "        super(Attention, self).__init__()\n",
    "        self.attn = nn.Linear(hidden_size * 2, hidden_size)\n",
    "        self.v = nn.Parameter(torch.rand(hidden_size))\n",
    "        \n",
    "    def forward(self, hidden, encoder_outputs):\n",
    "        seq_len = encoder_outputs.shape[1]\n",
    "        hidden_expended = hidden.unsqueeze(1).repeat(1, seq_len, 1)  # Fixed typo here\n",
    "        energy = torch.tanh(self.attn(torch.cat((hidden_expended, encoder_outputs), dim=2)))\n",
    "        attention_scores = torch.sum(self.v * energy, dim=2)\n",
    "        attention_weights = F.softmax(attention_scores, dim=1)\n",
    "        context_vector = torch.bmm(attention_weights.unsqueeze(1), encoder_outputs).squeeze(1)\n",
    "        return context_vector, attention_weights"
   ]
  },
  {
   "cell_type": "code",
   "execution_count": 31,
   "metadata": {},
   "outputs": [],
   "source": [
    "class Seq2SeqwithAttention(nn.Module):\n",
    "    def __init__(self, input_dim, hidden_dim, output_dim):\n",
    "        super(Seq2SeqwithAttention, self).__init__()\n",
    "        self.encoder = nn.GRU(input_dim, hidden_dim, batch_first=True)\n",
    "        self.decoder = nn.GRU(hidden_dim, hidden_dim, batch_first=True)\n",
    "        self.attention = Attention(hidden_dim)\n",
    "        self.fc = nn.Linear(hidden_dim * 2, output_dim)\n",
    "        self.decoder_input_transform = nn.Linear(output_dim, hidden_dim)        \n",
    "        \n",
    "    def forward(self, encoder_input, decoder_input):\n",
    "        encoder_outputs, hidden = self.encoder(encoder_input)\n",
    "        context_vector, _ = self.attention(hidden[-1], encoder_outputs)\n",
    "        decoder_input_ = self.decoder_input_transform(decoder_input)\n",
    "        output, _ = self.decoder(decoder_input_, hidden)\n",
    "        combined = torch.cat((output, context_vector.unsqueeze(1)), dim=2)\n",
    "        return self.fc(combined)"
   ]
  },
  {
   "cell_type": "code",
   "execution_count": 36,
   "metadata": {},
   "outputs": [
    {
     "name": "stdout",
     "output_type": "stream",
     "text": [
      "tensor([[[-0.0312,  0.2091, -0.0575, -0.3144, -0.1320, -0.0540, -0.0075,\n",
      "           0.1530, -0.2696,  0.0589,  0.0383, -0.1846, -0.0604, -0.1025,\n",
      "           0.0129]]], grad_fn=<ViewBackward0>)\n"
     ]
    }
   ],
   "source": [
    "batch_size = 1\n",
    "seq_len = 5\n",
    "input_dim = 10\n",
    "hidden_dim = 20\n",
    "output_dim = 15\n",
    "\n",
    "encoder_input = torch.randn(batch_size, seq_len, input_dim)\n",
    "decoder_input = torch.randn(batch_size, 1, output_dim)\n",
    "\n",
    "model = Seq2SeqwithAttention(input_dim=input_dim, hidden_dim=hidden_dim, output_dim=output_dim)\n",
    "result = model(encoder_input, decoder_input)\n",
    "print(result)"
   ]
  }
 ],
 "metadata": {
  "kernelspec": {
   "display_name": "pystudy_env",
   "language": "python",
   "name": "python3"
  },
  "language_info": {
   "codemirror_mode": {
    "name": "ipython",
    "version": 3
   },
   "file_extension": ".py",
   "mimetype": "text/x-python",
   "name": "python",
   "nbconvert_exporter": "python",
   "pygments_lexer": "ipython3",
   "version": "3.12.2"
  }
 },
 "nbformat": 4,
 "nbformat_minor": 2
}
