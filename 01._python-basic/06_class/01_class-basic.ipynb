{
 "cells": [
  {
   "cell_type": "markdown",
   "metadata": {},
   "source": [
    "### class"
   ]
  },
  {
   "cell_type": "code",
   "execution_count": 1,
   "metadata": {},
   "outputs": [
    {
     "name": "stdout",
     "output_type": "stream",
     "text": [
      "황준호은 23살이고, 취미는 ['야구보기']입니다.\n",
      "황준호은 23살이고, 취미는 ['야구보기']입니다.\n",
      "황준호은 23살이고, 취미는 ['야구보기']입니다.\n",
      "황준호은 23살이고, 취미는 ['야구보기']입니다.\n"
     ]
    }
   ],
   "source": [
    "name = '황준호'\n",
    "age = 23\n",
    "hobby = ['야구보기']\n",
    "print(f'{name}은 {age}살이고, 취미는 {hobby}입니다.')\n",
    "\n",
    "name = '황준호'\n",
    "age = 23\n",
    "hobby = ['야구보기']\n",
    "print(f'{name}은 {age}살이고, 취미는 {hobby}입니다.')\n",
    "\n",
    "name = '황준호'\n",
    "age = 23\n",
    "hobby = ['야구보기']\n",
    "print(f'{name}은 {age}살이고, 취미는 {hobby}입니다.')\n",
    "\n",
    "name = '황준호'\n",
    "age = 23\n",
    "hobby = ['야구보기']\n",
    "print(f'{name}은 {age}살이고, 취미는 {hobby}입니다.')"
   ]
  },
  {
   "cell_type": "code",
   "execution_count": 2,
   "metadata": {},
   "outputs": [
    {
     "name": "stdout",
     "output_type": "stream",
     "text": [
      "황준호은 23살이고, 취미는 ['야구보기']\n",
      "None\n"
     ]
    }
   ],
   "source": [
    "class Friend:\n",
    "    def __init__(self, name, age, hobby):\n",
    "        self.name = name\n",
    "        self.age = age\n",
    "        self.hobby = hobby\n",
    "\n",
    "    def introduce(self):\n",
    "        print(f'{self.name}은 {self.age}살이고, 취미는 {self.hobby}')\n",
    "        \n",
    "friend1 = Friend('황준호', 23, ['야구보기'])\n",
    "print(friend1.introduce())  "
   ]
  },
  {
   "cell_type": "code",
   "execution_count": 4,
   "metadata": {},
   "outputs": [],
   "source": [
    "class Friend:\n",
    "    def __init__(self, name, age, hobby):\n",
    "        self.name = name\n",
    "        self.age = age\n",
    "        self.hobby = hobby\n",
    "\n",
    "        #인스턴스 속성 name 초기화\n",
    "        #인스턴스 속성 age 초기화\n",
    "        #인스턴스 속성 hobby 초기화\n",
    "\n",
    "    def introduce(self):\n",
    "        print(f'{self.name}은 {self.age}살이고, 취미는 {self.hobby}입니다.')\n",
    "        #self.name, self.age, self.hobby 출력"
   ]
  },
  {
   "cell_type": "code",
   "execution_count": 5,
   "metadata": {},
   "outputs": [],
   "source": [
    "f1 = Friend('황준호', 23, ['야구보기'])"
   ]
  },
  {
   "cell_type": "code",
   "execution_count": 6,
   "metadata": {},
   "outputs": [
    {
     "name": "stdout",
     "output_type": "stream",
     "text": [
      "<__main__.Student object at 0x1104e5d00>\n",
      "<__main__.Student object at 0x1104e5e20>\n"
     ]
    }
   ],
   "source": [
    "class Student:\n",
    "\n",
    "    # 1. 클래스 속성\n",
    "    dream = \"취업\"\n",
    "\n",
    "    # 2. 생성자\n",
    "\n",
    "    # 3. 메서드\n",
    "    def study(self):\n",
    "        print('오늘도 열심히 공부하는 11기 학생!')\n",
    "        \n",
    "student = Student()\n",
    "student_two = Student()\n",
    "\n",
    "# 생성자 호출 시마다 메모리에 새로운 인스턴스를 할당하므로, 인스턴스의 주소값이 다른 것을 볼 수 있음음\n",
    "print(student)\n",
    "print(student_two)"
   ]
  },
  {
   "cell_type": "code",
   "execution_count": 8,
   "metadata": {},
   "outputs": [
    {
     "name": "stdout",
     "output_type": "stream",
     "text": [
      "행복\n",
      "황준호 01012345678\n",
      "오늘도 열심히 공부하는 11기 학생!\n"
     ]
    }
   ],
   "source": [
    "class Student:\n",
    "\n",
    "    # 1. 클래스 속성\n",
    "    dream = \"행복\"\n",
    "\n",
    "    # 2. 생성자\n",
    "    def __init__(self, name, phone):\n",
    "        self.name = name\n",
    "        self.phone = phone\n",
    "\n",
    "    # 3. 메서드\n",
    "    def study(self):\n",
    "        print('오늘도 열심히 공부하는 11기 학생!')\n",
    "        \n",
    "student = Student('황준호', '01012345678')\n",
    "\n",
    "print(student.dream)\n",
    "print(student.name, student.phone)\n",
    "student.study()"
   ]
  },
  {
   "cell_type": "code",
   "execution_count": 20,
   "metadata": {},
   "outputs": [
    {
     "ename": "TypeError",
     "evalue": "Student.__init__() missing 2 required positional arguments: 'name' and 'phone'",
     "output_type": "error",
     "traceback": [
      "\u001b[0;31m---------------------------------------------------------------------------\u001b[0m",
      "\u001b[0;31mTypeError\u001b[0m                                 Traceback (most recent call last)",
      "Cell \u001b[0;32mIn[20], line 17\u001b[0m\n\u001b[1;32m     14\u001b[0m     \u001b[38;5;28;01mdef\u001b[39;00m\u001b[38;5;250m \u001b[39m\u001b[38;5;21mintroduce\u001b[39m(\u001b[38;5;28mself\u001b[39m):\n\u001b[1;32m     15\u001b[0m         \u001b[38;5;28mprint\u001b[39m(\u001b[38;5;124mf\u001b[39m\u001b[38;5;124m'\u001b[39m\u001b[38;5;124m저는 \u001b[39m\u001b[38;5;132;01m{\u001b[39;00m\u001b[38;5;28mself\u001b[39m\u001b[38;5;241m.\u001b[39mname\u001b[38;5;132;01m}\u001b[39;00m\u001b[38;5;124m이구요. 전화번호는 \u001b[39m\u001b[38;5;132;01m{\u001b[39;00m\u001b[38;5;28mself\u001b[39m\u001b[38;5;241m.\u001b[39mphone\u001b[38;5;132;01m}\u001b[39;00m\u001b[38;5;124m입니다. 제가 이루고 싶은 목표는! \u001b[39m\u001b[38;5;132;01m{\u001b[39;00m\u001b[38;5;28mself\u001b[39m\u001b[38;5;241m.\u001b[39mdream\u001b[38;5;132;01m}\u001b[39;00m\u001b[38;5;124m'\u001b[39m)\n\u001b[0;32m---> 17\u001b[0m student1 \u001b[38;5;241m=\u001b[39m \u001b[43mStudent\u001b[49m\u001b[43m(\u001b[49m\u001b[43m)\u001b[49m\n\u001b[1;32m     18\u001b[0m student1\u001b[38;5;241m.\u001b[39mname \u001b[38;5;241m=\u001b[39m \u001b[38;5;124m'\u001b[39m\u001b[38;5;124m황준호\u001b[39m\u001b[38;5;124m'\u001b[39m\n\u001b[1;32m     19\u001b[0m student1\u001b[38;5;241m.\u001b[39mphone \u001b[38;5;241m=\u001b[39m \u001b[38;5;124m'\u001b[39m\u001b[38;5;124m0107777777\u001b[39m\u001b[38;5;124m'\u001b[39m\n",
      "\u001b[0;31mTypeError\u001b[0m: Student.__init__() missing 2 required positional arguments: 'name' and 'phone'"
     ]
    }
   ],
   "source": [
    "class Student:\n",
    "    # 1. 클래스 속성\n",
    "    dream = [\"취업\"]\n",
    "\n",
    "    # 2. 생성자\n",
    "    def __init__(self, name, phone):\n",
    "        self.name = name\n",
    "        self.phone = phone\n",
    "\n",
    "    # 3. 메서드\n",
    "    def study(self):\n",
    "        print('오늘도 열심히 공부하는 11기 학생!')\n",
    "\n",
    "    def introduce(self):\n",
    "        print(f'저는 {self.name}이구요. 전화번호는 {self.phone}입니다. 제가 이루고 싶은 목표는! {self.dream}')\n",
    "        \n",
    "student1 = Student()\n",
    "student1.name = '황준호'\n",
    "student1.phone = '0107777777'\n",
    "\n",
    "print(student1.introduce())"
   ]
  },
  {
   "cell_type": "code",
   "execution_count": 57,
   "metadata": {},
   "outputs": [],
   "source": [
    "class Character:\n",
    "\n",
    "    def __init__(self, nickname, type):\n",
    "        self.nickname = nickname\n",
    "        self.__type = type\n",
    "    \n",
    "    def get_type(self):\n",
    "        return self.__type\n",
    "    \n",
    "    def set_type(self, type):\n",
    "        character_types = ['전사', '법사', '치유사']\n",
    "        for given_type in character_types:\n",
    "            if(type == given_type):\n",
    "                self.__type = type\n",
    "                return\n",
    "             \n",
    "        raise ValueError(\"잘못된 캐릭터 타입을 선택하였습니다.\")\n"
   ]
  },
  {
   "cell_type": "code",
   "execution_count": 58,
   "metadata": {},
   "outputs": [
    {
     "name": "stdout",
     "output_type": "stream",
     "text": [
      "산골짜기다람쥐\n"
     ]
    }
   ],
   "source": [
    "my_charater = Character(\"산골짜기다람쥐\", \"전사\")\n",
    "print(my_charater.nickname)"
   ]
  },
  {
   "cell_type": "code",
   "execution_count": 66,
   "metadata": {},
   "outputs": [
    {
     "name": "stdout",
     "output_type": "stream",
     "text": [
      "'Character' object has no attribute '__type'\n",
      "법사\n",
      "법사\n",
      "잘못된 캐릭터 타입을 선택하였습니다.\n"
     ]
    }
   ],
   "source": [
    "try:\n",
    "    print(my_charater.__type) \n",
    "except AttributeError as e:\n",
    "    print(e)\n",
    "\n",
    "\n",
    "print(my_charater.get_type())  \n",
    "\n",
    "\n",
    "my_charater.set_type(\"법사\")\n",
    "print(my_charater.get_type())    \n",
    "\n",
    "\n",
    "try:\n",
    "    my_charater.set_type(\"흑마법사\")  \n",
    "except ValueError as e:\n",
    "    print(e)"
   ]
  }
 ],
 "metadata": {
  "kernelspec": {
   "display_name": "pystudy_env",
   "language": "python",
   "name": "python3"
  },
  "language_info": {
   "codemirror_mode": {
    "name": "ipython",
    "version": 3
   },
   "file_extension": ".py",
   "mimetype": "text/x-python",
   "name": "python",
   "nbconvert_exporter": "python",
   "pygments_lexer": "ipython3",
   "version": "3.12.9"
  }
 },
 "nbformat": 4,
 "nbformat_minor": 2
}
