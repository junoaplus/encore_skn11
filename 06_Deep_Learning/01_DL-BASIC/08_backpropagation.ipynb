{
 "cells": [
  {
   "cell_type": "markdown",
   "metadata": {},
   "source": [
    "# 역전파 (Backpropagation)"
   ]
  },
  {
   "cell_type": "markdown",
   "metadata": {},
   "source": [
    "### 연쇄 법칙"
   ]
  },
  {
   "cell_type": "markdown",
   "metadata": {},
   "source": [
    "- 기본 수식으 역전파 & 연쇄법치 적용"
   ]
  },
  {
   "cell_type": "code",
   "execution_count": 1,
   "metadata": {},
   "outputs": [
    {
     "name": "stdout",
     "output_type": "stream",
     "text": [
      "9.0\n",
      "6.0\n"
     ]
    }
   ],
   "source": [
    "import numpy as np\n",
    "\n",
    "def forward(x):\n",
    "    y = x ** 2\n",
    "    return y\n",
    "\n",
    "def backward(x):\n",
    "    dy_dx = 2 * x\n",
    "    return dy_dx\n",
    "\n",
    "x = 3.0\n",
    "print(forward(x))\n",
    "print(backward(x))"
   ]
  },
  {
   "cell_type": "markdown",
   "metadata": {},
   "source": [
    "- 다층 신경망에서 연쇄법칙 적용"
   ]
  },
  {
   "cell_type": "code",
   "execution_count": 2,
   "metadata": {},
   "outputs": [
    {
     "name": "stdout",
     "output_type": "stream",
     "text": [
      "18.0\n",
      "12.0\n"
     ]
    }
   ],
   "source": [
    "def forward(x):\n",
    "    y = x ** 2\n",
    "    z = 2 * y\n",
    "    return z\n",
    "    \n",
    "def backward(x):\n",
    "    dy_dx = 2 * x\n",
    "    dz_dy = 2\n",
    "    dz_dx = dz_dy * dy_dx\n",
    "    return dz_dx\n",
    "\n",
    "x = 3.0\n",
    "print(forward(x))\n",
    "print(backward(x))"
   ]
  },
  {
   "cell_type": "markdown",
   "metadata": {},
   "source": [
    "### 신경망에서의 활용"
   ]
  },
  {
   "cell_type": "markdown",
   "metadata": {},
   "source": [
    "- 단순 신경망 학습"
   ]
  },
  {
   "cell_type": "code",
   "execution_count": 38,
   "metadata": {},
   "outputs": [
    {
     "name": "stdout",
     "output_type": "stream",
     "text": [
      "[0.20405341 0.40329425]\n"
     ]
    }
   ],
   "source": [
    "def sigmoid(x):\n",
    "    return 1 / (1+np.exp(-x))\n",
    "\n",
    "def sigmoid_d(x):\n",
    "    return sigmoid(x) * (1 - sigmoid(x))\n",
    "\n",
    "X = np.array([0.5, 0.8])\n",
    "y = np.array([1])\n",
    "\n",
    "W = np.array([0.2 , 0.4])\n",
    "\n",
    "# 순전파\n",
    "z = np.dot(x, W)\n",
    "r = sigmoid(z)\n",
    "\n",
    "# 오차 계산\n",
    "loss = 0.5 * (y - r) ** 2\n",
    "\n",
    "# 역전파 (기울기 계산)\n",
    "delta = (r - y ) * sigmoid_d(z)\n",
    "grad_w = delta * X\n",
    "\n",
    "# 가중치 갱신\n",
    "W -= 0.1 * grad_w   # 01. = learning_rate\n",
    "\n",
    "print(W)"
   ]
  },
  {
   "cell_type": "markdown",
   "metadata": {},
   "source": [
    "- 은닉층 추가"
   ]
  },
  {
   "cell_type": "code",
   "execution_count": 50,
   "metadata": {},
   "outputs": [
    {
     "name": "stdout",
     "output_type": "stream",
     "text": [
      "[[0.20243205 0.40123534]\n",
      " [0.10243205 0.30123534]]\n",
      "[[0.5004928]\n",
      " [0.6011264]]\n"
     ]
    }
   ],
   "source": [
    "def relu(x):\n",
    "     return np.maximum(0, x)\n",
    " \n",
    "def relu_d(x):\n",
    "    return np.where(x > 0, 1 ,0)\n",
    " \n",
    "X = np.array([0.5, 0.8])                    # (2,)\n",
    "y = np.array([1])\n",
    "\n",
    "W1 = np.array([[0.2, 0.4], [0.1, 0.3]])     # (2, 2)\n",
    "b1 = np.array([0.1 , 0.2])                  # (2,)\n",
    "W2 = np.array([[0.5], [0.6]])               # (2, 1)\n",
    "b2 = np.array([0.3])                      \n",
    "\n",
    "# 순전피\n",
    "z1 = np.dot(X, W1) + b1\n",
    "r1 = relu(z1)\n",
    "\n",
    "z2 = np.dot(r1, W2) + b2\n",
    "r2 = relu(z2)\n",
    "\n",
    "# 역전피(기울기 계산)\n",
    "delta2 = (r2 - y) * relu_d(z2)\n",
    "grad_w2 = np.outer(r1, delta2)\n",
    "\n",
    "delta1 = np.dot(W2, delta2) * relu_d(z1)\n",
    "grad_w1 = np.outer(x, delta)\n",
    "\n",
    "# 가중치 계산\n",
    "learning_rate = 0.01\n",
    "W1 -= learning_rate * grad_w1\n",
    "W2 -= learning_rate * grad_w2\n",
    "\n",
    "print(W1)\n",
    "print(W2)"
   ]
  },
  {
   "cell_type": "markdown",
   "metadata": {},
   "source": [
    "### 수치미분과 역전파"
   ]
  },
  {
   "cell_type": "code",
   "execution_count": 49,
   "metadata": {},
   "outputs": [
    {
     "name": "stdout",
     "output_type": "stream",
     "text": [
      "6.000000000039306\n",
      "6.0\n"
     ]
    }
   ],
   "source": [
    "def f(x):\n",
    "    return x**2\n",
    "\n",
    "def num_d_gradient(f, x):\n",
    "    h = 1e-5\n",
    "    return (f(x + h) - f(x - h)) / (2 * h)\n",
    "\n",
    "def backward_gradient(x):\n",
    "    return 2 * x\n",
    "\n",
    "print(num_d_gradient(f, 3.0))\n",
    "print(backward_gradient(3.0))"
   ]
  },
  {
   "cell_type": "markdown",
   "metadata": {},
   "source": [
    "##### 숫자 맞추기 AI"
   ]
  },
  {
   "cell_type": "code",
   "execution_count": 140,
   "metadata": {},
   "outputs": [
    {
     "name": "stdout",
     "output_type": "stream",
     "text": [
      "0번째 예측 값: 4.758148597656306, 손실 856.1453678236104\n",
      "5번째 예측 값: 20.009059165430074, 손실 298.5194313515772\n",
      "10번째 예측 값: 29.014569346594804, 손실 104.08728966320696\n",
      "15번째 예측 값: 34.33223305347077, 손실 36.292993794003806\n",
      "20번째 예측 값: 37.47226029574396, 손실 12.654584462652226\n",
      "25번째 예측 값: 39.326414982033846, 손실 4.412380770551279\n",
      "30번째 예측 값: 40.421274782741165, 손실 1.5385020442030652\n",
      "35번째 예측 값: 41.067778546460836, 손실 0.5364424928633797\n",
      "40번째 예측 값: 41.44953255389966, 손실 0.18704593161495653\n",
      "45번째 예측 값: 41.6749544777522, 손실 0.06521888366255793\n",
      "최종 예측: 41.78673763285322\n"
     ]
    }
   ],
   "source": [
    "target_number = 42\n",
    "\n",
    "\n",
    "guess = np.random.randn()\n",
    "\n",
    "learning_rate = 0.1\n",
    "\n",
    "for i in range(50):\n",
    "    # 오차 계산\n",
    "    loss = 0.5 * (target_number - guess) ** 2\n",
    "    \n",
    "    # 역전파 (기울기 계산)\n",
    "    grad = (guess - target_number)\n",
    "    \n",
    "    # 업데이트 (guess 업데이트)\n",
    "    guess -= learning_rate * grad\n",
    "    \n",
    "    # epoch 5마다 예측값과 손실 출략 \n",
    "    if i%5 == 0:\n",
    "        print(f'{i}번째 예측 값: {guess}, 손실 {loss}')\n",
    "    \n",
    "# 최종 예측값 guess 출력\n",
    "print(f'최종 예측:', guess)"
   ]
  }
 ],
 "metadata": {
  "kernelspec": {
   "display_name": "pystudy_env",
   "language": "python",
   "name": "python3"
  },
  "language_info": {
   "codemirror_mode": {
    "name": "ipython",
    "version": 3
   },
   "file_extension": ".py",
   "mimetype": "text/x-python",
   "name": "python",
   "nbconvert_exporter": "python",
   "pygments_lexer": "ipython3",
   "version": "3.12.9"
  }
 },
 "nbformat": 4,
 "nbformat_minor": 2
}
