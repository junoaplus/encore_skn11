{
 "cells": [
  {
   "cell_type": "markdown",
   "metadata": {},
   "source": [
    "### 형 변환"
   ]
  },
  {
   "cell_type": "code",
   "execution_count": 2,
   "metadata": {},
   "outputs": [
    {
     "name": "stdout",
     "output_type": "stream",
     "text": [
      "300번째\n"
     ]
    }
   ],
   "source": [
    "num = 300\n",
    "my_str = '번째'\n",
    "\n",
    "# print(num + my_str)\n",
    "print(str(num)+my_str)"
   ]
  },
  {
   "cell_type": "code",
   "execution_count": 5,
   "metadata": {},
   "outputs": [
    {
     "name": "stdout",
     "output_type": "stream",
     "text": [
      "3.3\n",
      "<class 'float'>\n",
      "3.3\n"
     ]
    }
   ],
   "source": [
    "# 암묵적 형 변환\n",
    "num1 = 1\n",
    "num2 = 2.3\n",
    "num3 = num1 + num2\n",
    "\n",
    "print(num3)\n",
    "print(type(num3))\n",
    "print(num1 + num2)\n",
    "\n",
    "\n",
    "#int + int => float + float => float\n",
    "#1 + 2.3 => 1.0 + 2.3 => 3.3"
   ]
  },
  {
   "cell_type": "code",
   "execution_count": 6,
   "metadata": {},
   "outputs": [
    {
     "name": "stdout",
     "output_type": "stream",
     "text": [
      "185\n"
     ]
    }
   ],
   "source": [
    "# 명시적 형 변환\n",
    "height = 185.2345\n",
    "print(int(height))"
   ]
  }
 ],
 "metadata": {
  "kernelspec": {
   "display_name": "pystudy_env",
   "language": "python",
   "name": "python3"
  },
  "language_info": {
   "codemirror_mode": {
    "name": "ipython",
    "version": 3
   },
   "file_extension": ".py",
   "mimetype": "text/x-python",
   "name": "python",
   "nbconvert_exporter": "python",
   "pygments_lexer": "ipython3",
   "version": "3.12.9"
  }
 },
 "nbformat": 4,
 "nbformat_minor": 2
}
