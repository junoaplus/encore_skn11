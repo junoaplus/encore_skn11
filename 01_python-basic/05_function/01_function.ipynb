{
 "cells": [
  {
   "cell_type": "markdown",
   "metadata": {},
   "source": [
    "### 함수"
   ]
  },
  {
   "cell_type": "code",
   "execution_count": 2,
   "metadata": {},
   "outputs": [],
   "source": [
    "def greeting(name, greet=\"처음 뵙겠습니다!\"):\n",
    "    print(name, \":\", greet)\n"
   ]
  },
  {
   "cell_type": "code",
   "execution_count": 5,
   "metadata": {},
   "outputs": [
    {
     "name": "stdout",
     "output_type": "stream",
     "text": [
      "다람쥐 : 처음 뵙겠습니다!\n"
     ]
    }
   ],
   "source": [
    "greeting(\"다람쥐\")"
   ]
  },
  {
   "cell_type": "code",
   "execution_count": 4,
   "metadata": {},
   "outputs": [
    {
     "name": "stdout",
     "output_type": "stream",
     "text": [
      "다람쥐 : 감사합니다랍쥐~\n"
     ]
    }
   ],
   "source": [
    "greeting(\"다람쥐\", \"감사합니다랍쥐~\")"
   ]
  },
  {
   "cell_type": "code",
   "execution_count": 6,
   "metadata": {},
   "outputs": [],
   "source": [
    "def print_greeting():\n",
    "    print(\"좋은 아침입니다! 수요일도 화이팅!!!!\")"
   ]
  },
  {
   "cell_type": "code",
   "execution_count": 7,
   "metadata": {},
   "outputs": [
    {
     "name": "stdout",
     "output_type": "stream",
     "text": [
      "좋은 아침입니다! 수요일도 화이팅!!!!\n"
     ]
    }
   ],
   "source": [
    "print_greeting()"
   ]
  },
  {
   "cell_type": "code",
   "execution_count": 8,
   "metadata": {},
   "outputs": [
    {
     "name": "stdout",
     "output_type": "stream",
     "text": [
      "좋은 아침입니다! 수요일도 화이팅!\n"
     ]
    }
   ],
   "source": [
    "# 파라미터가 없고, return이 있는 경우 -> \"좋은 아침입니다! 수요일도 화이팅!\" 반환\n",
    "def print_return():\n",
    "    return \"좋은 아침입니다! 수요일도 화이팅!\"\n",
    "\n",
    "result = print_return()\n",
    "print(result)"
   ]
  },
  {
   "cell_type": "code",
   "execution_count": 9,
   "metadata": {},
   "outputs": [
    {
     "name": "stdout",
     "output_type": "stream",
     "text": [
      "준호님, 좋은 아침 입니다! 수요일도 화이팅!!\n"
     ]
    }
   ],
   "source": [
    "# 파라미터가 있고, retrun이 없는 경우 -> \"좋은 아침입니다! 수요일도 화이팅!\" 출력, 파라미터로 인사할 사람 이름\n",
    "#\"{이름}님, 좋은 아침 입니다! 수요일도 화이팅!!\"\n",
    "\n",
    "def print_para(name):\n",
    "    print(f\"{name}님, 좋은 아침입니다! 수요일도 화이팅!!\")\n",
    "    \n",
    "print_para(\"준호\")"
   ]
  },
  {
   "cell_type": "code",
   "execution_count": 13,
   "metadata": {},
   "outputs": [
    {
     "name": "stdout",
     "output_type": "stream",
     "text": [
      "준호님, 좋은 아침 입니다! 수요일도 화이팅!!\n"
     ]
    }
   ],
   "source": [
    "# 파라미터가 있고, return도 있는 경우 -> 파라미터로 인사할 사람 이름 \"좋은 아침입니다! 수요일도 화이팅!\" 반환\n",
    "#\"{이름}님, 좋은 아침 입니다! 수요일도 화이팅!!\" 반환\n",
    "\n",
    "def para_retrun(name):\n",
    "    return f\"{name}님, 좋은 아침입니다! 수요일도 화이팅!!\"\n",
    "\n",
    "result1 = para_retrun(\"준호\")\n",
    "print(result1)"
   ]
  },
  {
   "cell_type": "code",
   "execution_count": 22,
   "metadata": {},
   "outputs": [
    {
     "name": "stdout",
     "output_type": "stream",
     "text": [
      "준호님 좋은 아침입니다.\n",
      "준호님 좋은 점심입니다.\n",
      "준호님 좋은 점심입니다.\n",
      "준호님 좋은 새벽입니다.\n"
     ]
    }
   ],
   "source": [
    "def return_var_greeting(name2, time):\n",
    "    return f\"{name2}님 좋은 {time}입니다.\"\n",
    "\n",
    "print(return_var_greeting('준호', '아침'))\n",
    "print(return_var_greeting(name2='준호', time='점심'))\n",
    "print(return_var_greeting(time='점심', name2='준호'))\n",
    "print(return_var_greeting('준호', time='새벽'))\n"
   ]
  },
  {
   "cell_type": "markdown",
   "metadata": {},
   "source": [
    "---\n",
    "### 패키징과 언패키징"
   ]
  },
  {
   "cell_type": "code",
   "execution_count": 23,
   "metadata": {},
   "outputs": [],
   "source": [
    "def call_animals(*animal_args):\n",
    "    for animal_name in animal_args:\n",
    "        print(animal_name)"
   ]
  },
  {
   "cell_type": "code",
   "execution_count": 24,
   "metadata": {},
   "outputs": [
    {
     "name": "stdout",
     "output_type": "stream",
     "text": [
      "토끼\n",
      "판다\n",
      "카피바라\n",
      "코알라\n",
      "쿼카\n",
      "양\n",
      "늦대\n"
     ]
    }
   ],
   "source": [
    "call_animals('토끼', '판다', '카피바라', '코알라', '쿼카', '양', '늦대')"
   ]
  },
  {
   "cell_type": "code",
   "execution_count": 26,
   "metadata": {},
   "outputs": [],
   "source": [
    "def multi_sum(num1, num2, num3, num4, num5):\n",
    "    return num1 + num2 + num3 + num4 + num5"
   ]
  },
  {
   "cell_type": "code",
   "execution_count": 31,
   "metadata": {},
   "outputs": [
    {
     "name": "stdout",
     "output_type": "stream",
     "text": [
      "2077\n"
     ]
    }
   ],
   "source": [
    "numbers = [2025, 2, 12, 11, 27]\n",
    "\n",
    "print(multi_sum(*numbers))"
   ]
  }
 ],
 "metadata": {
  "kernelspec": {
   "display_name": "pystudy_env",
   "language": "python",
   "name": "python3"
  },
  "language_info": {
   "codemirror_mode": {
    "name": "ipython",
    "version": 3
   },
   "file_extension": ".py",
   "mimetype": "text/x-python",
   "name": "python",
   "nbconvert_exporter": "python",
   "pygments_lexer": "ipython3",
   "version": "3.12.9"
  }
 },
 "nbformat": 4,
 "nbformat_minor": 2
}
