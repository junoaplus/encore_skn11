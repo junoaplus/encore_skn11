{
 "cells": [
  {
   "cell_type": "markdown",
   "metadata": {},
   "source": [
    "# Numpy: 통계"
   ]
  },
  {
   "cell_type": "code",
   "execution_count": 2,
   "metadata": {},
   "outputs": [],
   "source": [
    "import numpy as np"
   ]
  },
  {
   "cell_type": "markdown",
   "metadata": {},
   "source": [
    "### [실습 1] 중심 경향 및 산포 측도 계산\n",
    "\n",
    "아래 배열에서 평균, 중앙값, 최빈값, 분산, 표준편차, 범위를 계산하세요."
   ]
  },
  {
   "cell_type": "code",
   "execution_count": 14,
   "metadata": {},
   "outputs": [
    {
     "name": "stdout",
     "output_type": "stream",
     "text": [
      "평균: 34.285714285714285\n",
      "중앙값: 30.0\n",
      "[1 1 2 1 1 1]\n",
      "최빈값: [30]\n",
      "분산: 253.06122448979593\n",
      "표준편차: 15.90789817951435\n",
      "범위: 50\n"
     ]
    }
   ],
   "source": [
    "arr = np.array([10, 20, 30, 30, 40, 50, 60])\n",
    "\n",
    "print(f'평균: {np.mean(arr)}')\n",
    "print(f'중앙값: {np.median(arr)}')\n",
    "value, count = np.unique(arr, return_counts=True)\n",
    "print(count)\n",
    "max_count = np.max(count)\n",
    "print(f'최빈값: {value[max_count == count]}')\n",
    "print(f'분산: {np.var(arr)}')\n",
    "print(f'표준편차: {np.std(arr)}')\n",
    "print(f'범위: {np.max(arr)-np.min(arr)}')\n"
   ]
  },
  {
   "cell_type": "markdown",
   "metadata": {},
   "source": [
    "### [실습 2] 정규분포와 균등분포의 난수 생성\n",
    "\n",
    "정규분포와 균등분포에서 각각 난수를 생성하여, 평균과 표준편차를 계산하세요.\n",
    "\n",
    "1. 평균 0, 표준편차 1인 정규분포 난수 1000개 생성\n",
    "2. 0과 1 사이의 균등분포 난수 1000개 생성"
   ]
  },
  {
   "cell_type": "code",
   "execution_count": 17,
   "metadata": {},
   "outputs": [],
   "source": [
    "import matplotlib.pyplot as plt"
   ]
  },
  {
   "cell_type": "code",
   "execution_count": 19,
   "metadata": {},
   "outputs": [
    {
     "data": {
      "image/png": "[encoded data removed]",
      "text/plain": [
       "<Figure size 640x480 with 1 Axes>"
      ]
     },
     "metadata": {},
     "output_type": "display_data"
    },
    {
     "data": {
      "image/png": "[encoded data removed]",
      "text/plain": [
       "<Figure size 640x480 with 1 Axes>"
      ]
     },
     "metadata": {},
     "output_type": "display_data"
    }
   ],
   "source": [
    "arr_1 = np.random.normal(0, 1, 1000)\n",
    "plt.hist(arr_1, bins= 100)\n",
    "plt.show()\n",
    "arr_2 = np.random.randn(1000)\n",
    "plt.hist(arr_2, bins= 100)\n",
    "plt.show()"
   ]
  },
  {
   "cell_type": "markdown",
   "metadata": {},
   "source": [
    "### [실습 3] 평균 성적 구하기\n",
    "\n",
    "아래와 같이 학생별 과목 성적 데이터가 주어졌을 때, 각 학생의 전체 평균 성적(수학, 영어, 과학)을 계산한 후, 이 평균값에 대한 분산과 표준편차를 구하세요."
   ]
  },
  {
   "cell_type": "code",
   "execution_count": 50,
   "metadata": {},
   "outputs": [
    {
     "name": "stdout",
     "output_type": "stream",
     "text": [
      "학생1평균 87.66666666666667\n",
      "학생2평균 88.33333333333333\n",
      "학생3평균 79.33333333333333\n",
      "학생4평균 87.0\n",
      "학생5평균 93.66666666666667\n",
      "학생6평균 89.0\n",
      "학생7평균 87.33333333333333\n",
      "학생8평균 89.66666666666667\n",
      "학생9평균 85.0\n",
      "학생10평균 87.66666666666667\n",
      "분산: 11.89333333333335\n",
      "표준편차: 3.4486712417006857\n"
     ]
    }
   ],
   "source": [
    "# 학생별 과목 성적 데이터\n",
    "scores_math = [88, 92, 76, 85, 95, 92, 88, 90, 85, 88]\n",
    "scores_english = [90, 85, 80, 87, 92, 89, 83, 91, 86, 88]\n",
    "scores_science = [85, 88, 82, 89, 94, 86, 91, 88, 84, 87]\n",
    "scores_mean = []\n",
    "\n",
    "for i in range(len(scores_math)):\n",
    "    scores_mean.append((scores_math[i] + scores_english[i] + scores_science[i])/3)\n",
    "    print(f'학생{i+1}평균 {scores_mean[i]}')\n",
    "    i += 1\n",
    "    \n",
    "print(f'분산: {np.var(scores_mean)}')\n",
    "print(f'표준편차: {np.std(scores_mean)}')\n"
   ]
  }
 ],
 "metadata": {
  "kernelspec": {
   "display_name": "pystudy_env",
   "language": "python",
   "name": "python3"
  },
  "language_info": {
   "codemirror_mode": {
    "name": "ipython",
    "version": 3
   },
   "file_extension": ".py",
   "mimetype": "text/x-python",
   "name": "python",
   "nbconvert_exporter": "python",
   "pygments_lexer": "ipython3",
   "version": "3.12.9"
  }
 },
 "nbformat": 4,
 "nbformat_minor": 2
}
