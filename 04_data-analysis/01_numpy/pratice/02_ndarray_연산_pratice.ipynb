{
 "cells": [
  {
   "cell_type": "markdown",
   "metadata": {},
   "source": [
    "## Numpy: 연산"
   ]
  },
  {
   "cell_type": "code",
   "execution_count": 2,
   "metadata": {},
   "outputs": [],
   "source": [
    "import numpy as np"
   ]
  },
  {
   "cell_type": "markdown",
   "metadata": {},
   "source": [
    "### [실습] 데이터를 기반으로 배열 연산 수행\n",
    "\n",
    "다음과 같은 과일 판매량 데이터가 있습니다. 각 과일의 1분기와 2분기 판매량이 주어졌을 때, NumPy 배열을 사용하여 아래 문제를 해결하세요.\n",
    "\n",
    "1. 1분기와 2분기의 과일별 총 판매량을 구하세요.\n",
    "2. 과일별 평균 판매량을 구하세요.\n",
    "\n",
    "- **데이터**:\n",
    "    - 1분기 판매량: `[200, 340, 150, 400]` (사과, 배, 오렌지, 바나나)\n",
    "    - 2분기 판매량: `[220, 300, 180, 420]` (사과, 배, 오렌지, 바나나)"
   ]
  },
  {
   "cell_type": "code",
   "execution_count": 5,
   "metadata": {},
   "outputs": [
    {
     "name": "stdout",
     "output_type": "stream",
     "text": [
      "#1 [420 640 330 820]\n",
      "#2 [210. 320. 165. 410.]\n"
     ]
    }
   ],
   "source": [
    "arr_1 = np.array([200, 340, 150, 400])\n",
    "arr_2 = np.array([220, 300, 180, 420])\n",
    "\n",
    "print(f'#1 {arr_1 + arr_2}')\n",
    "print(f'#2 {(arr_1 + arr_2)/2}')"
   ]
  },
  {
   "cell_type": "markdown",
   "metadata": {},
   "source": [
    "### [실습 1] 기본 산술 연산\n",
    "\n",
    "다음 두 배열을 사용하여 각각의 요소별로 덧셈, 뺄셈, 곱셈, 나눗셈을 수행하세요."
   ]
  },
  {
   "cell_type": "code",
   "execution_count": 8,
   "metadata": {},
   "outputs": [
    {
     "name": "stdout",
     "output_type": "stream",
     "text": [
      "뎃셈 : [11 22 33 44]\n",
      "뺄셈 : [ 9 18 27 36]\n",
      "곱셈 : [ 10  40  90 160]\n",
      "나눗셈 : [10. 10. 10. 10.]\n"
     ]
    }
   ],
   "source": [
    "arr1 = np.array([10, 20, 30, 40])\n",
    "arr2 = np.array([1, 2, 3, 4])\n",
    "\n",
    "print(f'뎃셈 : {arr1 + arr2}')\n",
    "print(f'뺄셈 : {arr1 - arr2}')\n",
    "print(f'곱셈 : {arr1 * arr2}')\n",
    "print(f'나눗셈 : {arr1 / arr2}')"
   ]
  },
  {
   "cell_type": "markdown",
   "metadata": {},
   "source": [
    "### [실습 2] Dot Product\n",
    "\n",
    "다음 두 배열 간의 내적 연산을 수행하세요."
   ]
  },
  {
   "cell_type": "code",
   "execution_count": 9,
   "metadata": {},
   "outputs": [
    {
     "name": "stdout",
     "output_type": "stream",
     "text": [
      "32\n"
     ]
    }
   ],
   "source": [
    "arr1 = np.array([1, 2, 3])\n",
    "arr2 = np.array([4, 5, 6])\n",
    "\n",
    "print(np.dot(arr1, arr2))"
   ]
  },
  {
   "cell_type": "markdown",
   "metadata": {},
   "source": [
    "### [실습 3] 브로드캐스팅\n",
    "\n",
    "아래의 2차원 배열과 1차원 배열을 브로드캐스팅하여 더하세요."
   ]
  },
  {
   "cell_type": "code",
   "execution_count": 10,
   "metadata": {},
   "outputs": [
    {
     "name": "stdout",
     "output_type": "stream",
     "text": [
      "[[11 22 33]\n",
      " [14 25 36]]\n"
     ]
    }
   ],
   "source": [
    "arr2d = np.array([[1, 2, 3], [4, 5, 6]])\n",
    "arr1d = np.array([10, 20, 30])\n",
    "\n",
    "print(arr1d+arr2d)"
   ]
  },
  {
   "cell_type": "markdown",
   "metadata": {},
   "source": [
    "### [실습 4] 비교 연산 및 집계 함수 사용\n",
    "\n",
    "1. 배열에서 20보다 큰 값을 찾아 출력하세요.\n",
    "2. 배열의 합계, 최대값, 최소값, 평균을 계산하세요."
   ]
  },
  {
   "cell_type": "code",
   "execution_count": 12,
   "metadata": {},
   "outputs": [
    {
     "name": "stdout",
     "output_type": "stream",
     "text": [
      "#1\n",
      "[30 40 50]\n",
      "#2\n",
      "합계: 150, 최댓값: 50, 최소값: 10, 평균: 30.0\n"
     ]
    }
   ],
   "source": [
    "arr = np.array([10, 20, 30, 40, 50])\n",
    "\n",
    "print('#1')\n",
    "print(arr[arr > 20])\n",
    "\n",
    "print('#2')\n",
    "print(f'합계: {np.sum(arr)}, 최댓값: {np.max(arr)}, 최소값: {np.min(arr)}, 평균: {np.mean(arr)}')\n"
   ]
  }
 ],
 "metadata": {
  "kernelspec": {
   "display_name": "pystudy_env",
   "language": "python",
   "name": "python3"
  },
  "language_info": {
   "codemirror_mode": {
    "name": "ipython",
    "version": 3
   },
   "file_extension": ".py",
   "mimetype": "text/x-python",
   "name": "python",
   "nbconvert_exporter": "python",
   "pygments_lexer": "ipython3",
   "version": "3.12.9"
  }
 },
 "nbformat": 4,
 "nbformat_minor": 2
}
