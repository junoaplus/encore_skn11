{
 "cells": [
  {
   "cell_type": "markdown",
   "metadata": {},
   "source": [
    "## Numpy: 정렬"
   ]
  },
  {
   "cell_type": "code",
   "execution_count": 1,
   "metadata": {},
   "outputs": [],
   "source": [
    "import numpy as np"
   ]
  },
  {
   "cell_type": "markdown",
   "metadata": {},
   "source": [
    "### [실습 1] 1차원 배열 정렬\n",
    "\n",
    "다음 1차원 배열을 오름차순 및 내림차순으로 정렬하세요."
   ]
  },
  {
   "cell_type": "code",
   "execution_count": 6,
   "metadata": {},
   "outputs": [
    {
     "name": "stdout",
     "output_type": "stream",
     "text": [
      "[10 20 30 40 50]\n",
      "[50 40 30 20 10]\n"
     ]
    }
   ],
   "source": [
    "arr = np.array([50, 10, 30, 40, 20])\n",
    "\n",
    "print(np.sort(arr))\n",
    "print(np.sort(arr)[::-1])"
   ]
  },
  {
   "cell_type": "markdown",
   "metadata": {},
   "source": [
    "### [실습 2] 2차원 배열 축 기준 정렬\n",
    "\n",
    "다음 2차원 배열을 행과 열을 기준으로 각각 정렬하세요."
   ]
  },
  {
   "cell_type": "code",
   "execution_count": 8,
   "metadata": {},
   "outputs": [
    {
     "name": "stdout",
     "output_type": "stream",
     "text": [
      "[[2 3 1]\n",
      " [8 9 5]]\n",
      "[[3 5 8]\n",
      " [1 2 9]]\n"
     ]
    }
   ],
   "source": [
    "arr2d = np.array([[8, 3, 5], [2, 9, 1]])\n",
    "\n",
    "print(np.sort(arr2d, axis=0))\n",
    "print(np.sort(arr2d, axis=1))"
   ]
  },
  {
   "cell_type": "markdown",
   "metadata": {},
   "source": [
    "### [실습 3] 인덱스를 반환하는 정렬\n",
    "\n",
    "다음 1차원 배열에서 정렬된 결과의 인덱스를 반환하고, 그 인덱스를 사용하여 배열을 정렬하세요."
   ]
  },
  {
   "cell_type": "code",
   "execution_count": 2,
   "metadata": {},
   "outputs": [],
   "source": [
    "arr = np.array([15, 10, 20])"
   ]
  }
 ],
 "metadata": {
  "kernelspec": {
   "display_name": "pystudy_env",
   "language": "python",
   "name": "python3"
  },
  "language_info": {
   "codemirror_mode": {
    "name": "ipython",
    "version": 3
   },
   "file_extension": ".py",
   "mimetype": "text/x-python",
   "name": "python",
   "nbconvert_exporter": "python",
   "pygments_lexer": "ipython3",
   "version": "3.12.9"
  }
 },
 "nbformat": 4,
 "nbformat_minor": 2
}
