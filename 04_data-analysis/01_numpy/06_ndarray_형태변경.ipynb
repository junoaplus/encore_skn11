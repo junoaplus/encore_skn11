{
 "cells": [
  {
   "cell_type": "markdown",
   "metadata": {},
   "source": [
    "### ndarray 형태 변경"
   ]
  },
  {
   "cell_type": "code",
   "execution_count": 1,
   "metadata": {},
   "outputs": [],
   "source": [
    "import numpy as np"
   ]
  },
  {
   "cell_type": "code",
   "execution_count": 11,
   "metadata": {},
   "outputs": [
    {
     "name": "stdout",
     "output_type": "stream",
     "text": [
      "1 [ 0  1  2  3  4  5  6  7  8  9 10 11]\n",
      "2 (1, 12)\n",
      "[[ 0  1  2  3  4  5  6  7  8  9 10 11]]\n",
      "3 (2, 2, 3)\n",
      "[[[ 0  1  2]\n",
      "  [ 3  4  5]]\n",
      "\n",
      " [[ 6  7  8]\n",
      "  [ 9 10 11]]]\n"
     ]
    }
   ],
   "source": [
    "# reshape()\n",
    "# 요소의 갯수가 맞는 shape으로 변형 가능\n",
    "arr = np.arange(12)\n",
    "print(arr.ndim, arr)\n",
    "\n",
    "arr = arr.reshape(3, 4)\n",
    "arr = arr.reshape(6, 2)\n",
    "arr = arr.reshape(1, 12)\n",
    "print(arr.ndim, arr.shape)\n",
    "print(arr)\n",
    "\n",
    "arr = arr.reshape(2, 2, 3)\n",
    "#arr = arr.reshape(2, 2, 2)\n",
    "print(arr.ndim, arr.shape)\n",
    "print(arr)"
   ]
  },
  {
   "cell_type": "code",
   "execution_count": 10,
   "metadata": {},
   "outputs": [
    {
     "name": "stdout",
     "output_type": "stream",
     "text": [
      "[ 0  1  2  3  4  5  6  7  8  9 10 11]\n",
      "[[ 0  1  2  3]\n",
      " [ 4  5  6  7]\n",
      " [ 8  9 10 11]]\n"
     ]
    }
   ],
   "source": [
    "# reshape() -> -1\n",
    "arr = arr.reshape(-1)   # 1차원 처리 \n",
    "print(arr)\n",
    "\n",
    "# -1인 축은 자동으로 계산\n",
    "arr = arr.reshape(4, -1) \n",
    "arr = arr.reshape(-1, 4)\n",
    "print(arr)"
   ]
  },
  {
   "cell_type": "code",
   "execution_count": 13,
   "metadata": {},
   "outputs": [
    {
     "name": "stdout",
     "output_type": "stream",
     "text": [
      "[[ 0  1  2  3  4  5  6  7  8  9]\n",
      " [10 11 12 13 14 15 16 17 18 19]\n",
      " [20 21 22 23 24 25 26 27 28 29]\n",
      " [30 31 32 33 34 35 36 37 38 39]\n",
      " [40 41 42 43 44 45 46 47 48 49]]\n",
      "[ 0  1  2  3  4  5  6  7  8  9 10 11 12 13 14 15 16 17 18 19 20 21 22 23\n",
      " 24 25 26 27 28 29 30 31 32 33 34 35 36 37 38 39 40 41 42 43 44 45 46 47\n",
      " 48 49]\n"
     ]
    }
   ],
   "source": [
    "# np.ravel() : 1차원 변환\n",
    "arr = np.arange(50).reshape(5, 10)\n",
    "print(arr)\n",
    "print(np.ravel(arr))"
   ]
  },
  {
   "cell_type": "code",
   "execution_count": 17,
   "metadata": {},
   "outputs": [
    {
     "name": "stdout",
     "output_type": "stream",
     "text": [
      "(10,) [0 1 2 3 4 5 6 7 8 9]\n",
      "[[0 1 2 3 4 5 6 7 8 9]]\n",
      "(1, 10)\n",
      "[[0]\n",
      " [1]\n",
      " [2]\n",
      " [3]\n",
      " [4]\n",
      " [5]\n",
      " [6]\n",
      " [7]\n",
      " [8]\n",
      " [9]]\n",
      "(10, 1)\n"
     ]
    }
   ],
   "source": [
    "# np.expand_dims() : 차원 추가\n",
    "arr_1d = np.arange(10)\n",
    "print(arr_1d.shape, arr_1d)\n",
    "print(np.expand_dims(arr_1d, axis=0))\n",
    "print(np.expand_dims(arr_1d, axis=0).shape)\n",
    "print(np.expand_dims(arr_1d, axis=1))\n",
    "print(np.expand_dims(arr_1d, axis=1).shape)"
   ]
  },
  {
   "cell_type": "code",
   "execution_count": 24,
   "metadata": {},
   "outputs": [
    {
     "name": "stdout",
     "output_type": "stream",
     "text": [
      "(2, 2) [[1 2]\n",
      " [3 4]]\n",
      "[[[1 2]\n",
      "  [3 4]]]\n",
      "(1, 2, 2)\n",
      "[[[1 2]]\n",
      "\n",
      " [[3 4]]]\n",
      "(2, 1, 2)\n",
      "[[[1]\n",
      "  [2]]\n",
      "\n",
      " [[3]\n",
      "  [4]]]\n",
      "(2, 2, 1)\n"
     ]
    }
   ],
   "source": [
    "arr_2d = np.array([[1, 2], [3, 4]])\n",
    "print(arr_2d.shape, arr_2d)\n",
    "print(np.expand_dims(arr_2d, axis=0))\n",
    "print(np.expand_dims(arr_2d, axis=0).shape)\n",
    "print(np.expand_dims(arr_2d, axis=1))\n",
    "print(np.expand_dims(arr_2d, axis=1).shape)\n",
    "print(np.expand_dims(arr_2d, axis=2))\n",
    "print(np.expand_dims(arr_2d, axis=2).shape)"
   ]
  },
  {
   "cell_type": "code",
   "execution_count": 30,
   "metadata": {},
   "outputs": [
    {
     "name": "stdout",
     "output_type": "stream",
     "text": [
      "(1, 2)\n"
     ]
    },
    {
     "ename": "ValueError",
     "evalue": "cannot select an axis to squeeze out which has size not equal to one",
     "output_type": "error",
     "traceback": [
      "\u001b[0;31m---------------------------------------------------------------------------\u001b[0m",
      "\u001b[0;31mValueError\u001b[0m                                Traceback (most recent call last)",
      "Cell \u001b[0;32mIn[30], line 7\u001b[0m\n\u001b[1;32m      5\u001b[0m arr2 \u001b[38;5;241m=\u001b[39m np\u001b[38;5;241m.\u001b[39msqueeze(arr)\n\u001b[1;32m      6\u001b[0m arr2 \u001b[38;5;241m=\u001b[39m np\u001b[38;5;241m.\u001b[39msqueeze(arr, axis\u001b[38;5;241m=\u001b[39m\u001b[38;5;241m0\u001b[39m)\n\u001b[0;32m----> 7\u001b[0m arr2 \u001b[38;5;241m=\u001b[39m \u001b[43mnp\u001b[49m\u001b[38;5;241;43m.\u001b[39;49m\u001b[43msqueeze\u001b[49m\u001b[43m(\u001b[49m\u001b[43marr\u001b[49m\u001b[43m,\u001b[49m\u001b[43m \u001b[49m\u001b[43maxis\u001b[49m\u001b[38;5;241;43m=\u001b[39;49m\u001b[38;5;241;43m1\u001b[39;49m\u001b[43m)\u001b[49m\n\u001b[1;32m      8\u001b[0m \u001b[38;5;28mprint\u001b[39m(arr2\u001b[38;5;241m.\u001b[39mshape)\n",
      "File \u001b[0;32m/opt/anaconda3/envs/pystudy_env/lib/python3.12/site-packages/numpy/_core/fromnumeric.py:1688\u001b[0m, in \u001b[0;36msqueeze\u001b[0;34m(a, axis)\u001b[0m\n\u001b[1;32m   1686\u001b[0m     \u001b[38;5;28;01mreturn\u001b[39;00m squeeze()\n\u001b[1;32m   1687\u001b[0m \u001b[38;5;28;01melse\u001b[39;00m:\n\u001b[0;32m-> 1688\u001b[0m     \u001b[38;5;28;01mreturn\u001b[39;00m \u001b[43msqueeze\u001b[49m\u001b[43m(\u001b[49m\u001b[43maxis\u001b[49m\u001b[38;5;241;43m=\u001b[39;49m\u001b[43maxis\u001b[49m\u001b[43m)\u001b[49m\n",
      "\u001b[0;31mValueError\u001b[0m: cannot select an axis to squeeze out which has size not equal to one"
     ]
    }
   ],
   "source": [
    "# np.squeeze() : 차원의 값이 1일 때 제거 \n",
    "arr = np.array([[1,2]])\n",
    "print(arr.shape)\n",
    "\n",
    "arr2 = np.squeeze(arr)\n",
    "arr2 = np.squeeze(arr, axis=0)\n",
    "arr2 = np.squeeze(arr, axis=1)\n",
    "print(arr2.shape)"
   ]
  }
 ],
 "metadata": {
  "kernelspec": {
   "display_name": "pystudy_env",
   "language": "python",
   "name": "python3"
  },
  "language_info": {
   "codemirror_mode": {
    "name": "ipython",
    "version": 3
   },
   "file_extension": ".py",
   "mimetype": "text/x-python",
   "name": "python",
   "nbconvert_exporter": "python",
   "pygments_lexer": "ipython3",
   "version": "3.12.9"
  }
 },
 "nbformat": 4,
 "nbformat_minor": 2
}
