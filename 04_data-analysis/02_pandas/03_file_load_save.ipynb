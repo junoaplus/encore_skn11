{
 "cells": [
  {
   "cell_type": "markdown",
   "metadata": {},
   "source": [
    "### DataFrame Load & Save"
   ]
  },
  {
   "cell_type": "code",
   "execution_count": 3,
   "metadata": {},
   "outputs": [],
   "source": [
    "import numpy as np\n",
    "import pandas as pd"
   ]
  },
  {
   "cell_type": "markdown",
   "metadata": {},
   "source": [
    "#####  read_csv"
   ]
  },
  {
   "cell_type": "code",
   "execution_count": 6,
   "metadata": {},
   "outputs": [
    {
     "name": "stdout",
     "output_type": "stream",
     "text": [
      "Index(['id', 'first_name', 'last_name', 'email', 'gender', 'ip_address'], dtype='object')\n",
      "       id first_name  last_name                             email   gender  \\\n",
      "0       1     Norbie   Wrassell              nwrassell0@bbc.co.uk     Male   \n",
      "1       2     Tybalt   Covendon          tcovendon1@indiegogo.com     Male   \n",
      "2       3       Elyn       Volk                  evolk2@umich.edu   Female   \n",
      "3       4       Todd   Carriage              tcarriage3@youku.com     Male   \n",
      "4       5      Pryce   Brookzie               pbrookzie4@dmoz.org  Agender   \n",
      "..    ...        ...        ...                               ...      ...   \n",
      "995   996     Allsun   McTeague         amcteaguern@moonfruit.com   Female   \n",
      "996   997       Viva     Epinoy                vepinoyro@cnbc.com   Female   \n",
      "997   998      Heall    Mallett              hmallettrp@google.it     Male   \n",
      "998   999     Conroy  Scandrett          cscandrettrq@cornell.edu     Male   \n",
      "999  1000     Romain  Bellfield  rbellfieldrr@acquirethisname.com     Male   \n",
      "\n",
      "          ip_address  \n",
      "0    201.234.222.219  \n",
      "1      90.113.205.35  \n",
      "2      254.131.69.38  \n",
      "3      242.31.116.66  \n",
      "4      212.63.28.128  \n",
      "..               ...  \n",
      "995   134.34.119.166  \n",
      "996     93.2.144.250  \n",
      "997   254.24.191.245  \n",
      "998  150.254.219.221  \n",
      "999   126.167.43.188  \n",
      "\n",
      "[1000 rows x 6 columns]\n"
     ]
    }
   ],
   "source": [
    "df = pd.read_csv('data/users.csv')\n",
    "print(df.columns)\n",
    "print(df)"
   ]
  },
  {
   "cell_type": "code",
   "execution_count": 8,
   "metadata": {},
   "outputs": [
    {
     "name": "stdout",
     "output_type": "stream",
     "text": [
      "       id first_name  last_name                             email   gender  \\\n",
      "0       1     Norbie   Wrassell              nwrassell0@bbc.co.uk     Male   \n",
      "1       2     Tybalt   Covendon          tcovendon1@indiegogo.com     Male   \n",
      "2       3       Elyn       Volk                  evolk2@umich.edu   Female   \n",
      "3       4       Todd   Carriage              tcarriage3@youku.com     Male   \n",
      "4       5      Pryce   Brookzie               pbrookzie4@dmoz.org  Agender   \n",
      "..    ...        ...        ...                               ...      ...   \n",
      "995   996     Allsun   McTeague         amcteaguern@moonfruit.com   Female   \n",
      "996   997       Viva     Epinoy                vepinoyro@cnbc.com   Female   \n",
      "997   998      Heall    Mallett              hmallettrp@google.it     Male   \n",
      "998   999     Conroy  Scandrett          cscandrettrq@cornell.edu     Male   \n",
      "999  1000     Romain  Bellfield  rbellfieldrr@acquirethisname.com     Male   \n",
      "\n",
      "          ip_address  \n",
      "0    201.234.222.219  \n",
      "1      90.113.205.35  \n",
      "2      254.131.69.38  \n",
      "3      242.31.116.66  \n",
      "4      212.63.28.128  \n",
      "..               ...  \n",
      "995   134.34.119.166  \n",
      "996     93.2.144.250  \n",
      "997   254.24.191.245  \n",
      "998  150.254.219.221  \n",
      "999   126.167.43.188  \n",
      "\n",
      "[1000 rows x 6 columns]\n"
     ]
    }
   ],
   "source": [
    "# 확장자가 다르더라고 csv 데이터면 read_csv로 처리 가능\n",
    "df = pd.read_csv('data/users.txt')\n",
    "print(df)"
   ]
  },
  {
   "cell_type": "code",
   "execution_count": 10,
   "metadata": {},
   "outputs": [
    {
     "name": "stdout",
     "output_type": "stream",
     "text": [
      "    id\\tfirst_name\\tlast_name\\temail\\tgender\\tip_address\n",
      "0    1\\tNorbie\\tWrassell\\tnwrassell0@bbc.co.uk\\tMal...  \n",
      "1    2\\tTybalt\\tCovendon\\ttcovendon1@indiegogo.com\\...  \n",
      "2    3\\tElyn\\tVolk\\tevolk2@umich.edu\\tFemale\\t254.1...  \n",
      "3    4\\tTodd\\tCarriage\\ttcarriage3@youku.com\\tMale\\...  \n",
      "4    5\\tPryce\\tBrookzie\\tpbrookzie4@dmoz.org\\tAgend...  \n",
      "..                                                 ...  \n",
      "995  996\\tAllsun\\tMcTeague\\tamcteaguern@moonfruit.c...  \n",
      "996  997\\tViva\\tEpinoy\\tvepinoyro@cnbc.com\\tFemale\\...  \n",
      "997  998\\tHeall\\tMallett\\thmallettrp@google.it\\tMal...  \n",
      "998  999\\tConroy\\tScandrett\\tcscandrettrq@cornell.e...  \n",
      "999  1000\\tRomain\\tBellfield\\trbellfieldrr@acquiret...  \n",
      "\n",
      "[1000 rows x 1 columns]\n"
     ]
    }
   ],
   "source": [
    "# 구분자가 ,가 아닌 다른 문자인 경우에도 sep 인자를 넘겨주면 read_csv로 처리 가능\n",
    "df = pd.read_csv('data/users.tsv', sep=\"\\t\")\n",
    "print(df)"
   ]
  },
  {
   "cell_type": "code",
   "execution_count": 13,
   "metadata": {},
   "outputs": [
    {
     "data": {
      "text/html": [
       "<div>\n",
       "<style scoped>\n",
       "    .dataframe tbody tr th:only-of-type {\n",
       "        vertical-align: middle;\n",
       "    }\n",
       "\n",
       "    .dataframe tbody tr th {\n",
       "        vertical-align: top;\n",
       "    }\n",
       "\n",
       "    .dataframe thead th {\n",
       "        text-align: right;\n",
       "    }\n",
       "</style>\n",
       "<table border=\"1\" class=\"dataframe\">\n",
       "  <thead>\n",
       "    <tr style=\"text-align: right;\">\n",
       "      <th></th>\n",
       "      <th>id</th>\n",
       "      <th>first_name</th>\n",
       "      <th>last_name</th>\n",
       "      <th>email</th>\n",
       "      <th>gender</th>\n",
       "      <th>ip_address</th>\n",
       "    </tr>\n",
       "  </thead>\n",
       "  <tbody>\n",
       "    <tr>\n",
       "      <th>0</th>\n",
       "      <td>1</td>\n",
       "      <td>Norbie</td>\n",
       "      <td>Wrassell</td>\n",
       "      <td>nwrassell0@bbc.co.uk</td>\n",
       "      <td>Male</td>\n",
       "      <td>201.234.222.219</td>\n",
       "    </tr>\n",
       "    <tr>\n",
       "      <th>1</th>\n",
       "      <td>2</td>\n",
       "      <td>Tybalt</td>\n",
       "      <td>Covendon</td>\n",
       "      <td>tcovendon1@indiegogo.com</td>\n",
       "      <td>Male</td>\n",
       "      <td>90.113.205.35</td>\n",
       "    </tr>\n",
       "    <tr>\n",
       "      <th>2</th>\n",
       "      <td>3</td>\n",
       "      <td>Elyn</td>\n",
       "      <td>Volk</td>\n",
       "      <td>evolk2@umich.edu</td>\n",
       "      <td>Female</td>\n",
       "      <td>254.131.69.38</td>\n",
       "    </tr>\n",
       "    <tr>\n",
       "      <th>3</th>\n",
       "      <td>4</td>\n",
       "      <td>Todd</td>\n",
       "      <td>Carriage</td>\n",
       "      <td>tcarriage3@youku.com</td>\n",
       "      <td>Male</td>\n",
       "      <td>242.31.116.66</td>\n",
       "    </tr>\n",
       "    <tr>\n",
       "      <th>4</th>\n",
       "      <td>5</td>\n",
       "      <td>Pryce</td>\n",
       "      <td>Brookzie</td>\n",
       "      <td>pbrookzie4@dmoz.org</td>\n",
       "      <td>Agender</td>\n",
       "      <td>212.63.28.128</td>\n",
       "    </tr>\n",
       "    <tr>\n",
       "      <th>...</th>\n",
       "      <td>...</td>\n",
       "      <td>...</td>\n",
       "      <td>...</td>\n",
       "      <td>...</td>\n",
       "      <td>...</td>\n",
       "      <td>...</td>\n",
       "    </tr>\n",
       "    <tr>\n",
       "      <th>995</th>\n",
       "      <td>996</td>\n",
       "      <td>Allsun</td>\n",
       "      <td>McTeague</td>\n",
       "      <td>amcteaguern@moonfruit.com</td>\n",
       "      <td>Female</td>\n",
       "      <td>134.34.119.166</td>\n",
       "    </tr>\n",
       "    <tr>\n",
       "      <th>996</th>\n",
       "      <td>997</td>\n",
       "      <td>Viva</td>\n",
       "      <td>Epinoy</td>\n",
       "      <td>vepinoyro@cnbc.com</td>\n",
       "      <td>Female</td>\n",
       "      <td>93.2.144.250</td>\n",
       "    </tr>\n",
       "    <tr>\n",
       "      <th>997</th>\n",
       "      <td>998</td>\n",
       "      <td>Heall</td>\n",
       "      <td>Mallett</td>\n",
       "      <td>hmallettrp@google.it</td>\n",
       "      <td>Male</td>\n",
       "      <td>254.24.191.245</td>\n",
       "    </tr>\n",
       "    <tr>\n",
       "      <th>998</th>\n",
       "      <td>999</td>\n",
       "      <td>Conroy</td>\n",
       "      <td>Scandrett</td>\n",
       "      <td>cscandrettrq@cornell.edu</td>\n",
       "      <td>Male</td>\n",
       "      <td>150.254.219.221</td>\n",
       "    </tr>\n",
       "    <tr>\n",
       "      <th>999</th>\n",
       "      <td>1000</td>\n",
       "      <td>Romain</td>\n",
       "      <td>Bellfield</td>\n",
       "      <td>rbellfieldrr@acquirethisname.com</td>\n",
       "      <td>Male</td>\n",
       "      <td>126.167.43.188</td>\n",
       "    </tr>\n",
       "  </tbody>\n",
       "</table>\n",
       "<p>1000 rows × 6 columns</p>\n",
       "</div>"
      ],
      "text/plain": [
       "       id first_name  last_name                             email   gender  \\\n",
       "0       1     Norbie   Wrassell              nwrassell0@bbc.co.uk     Male   \n",
       "1       2     Tybalt   Covendon          tcovendon1@indiegogo.com     Male   \n",
       "2       3       Elyn       Volk                  evolk2@umich.edu   Female   \n",
       "3       4       Todd   Carriage              tcarriage3@youku.com     Male   \n",
       "4       5      Pryce   Brookzie               pbrookzie4@dmoz.org  Agender   \n",
       "..    ...        ...        ...                               ...      ...   \n",
       "995   996     Allsun   McTeague         amcteaguern@moonfruit.com   Female   \n",
       "996   997       Viva     Epinoy                vepinoyro@cnbc.com   Female   \n",
       "997   998      Heall    Mallett              hmallettrp@google.it     Male   \n",
       "998   999     Conroy  Scandrett          cscandrettrq@cornell.edu     Male   \n",
       "999  1000     Romain  Bellfield  rbellfieldrr@acquirethisname.com     Male   \n",
       "\n",
       "          ip_address  \n",
       "0    201.234.222.219  \n",
       "1      90.113.205.35  \n",
       "2      254.131.69.38  \n",
       "3      242.31.116.66  \n",
       "4      212.63.28.128  \n",
       "..               ...  \n",
       "995   134.34.119.166  \n",
       "996     93.2.144.250  \n",
       "997   254.24.191.245  \n",
       "998  150.254.219.221  \n",
       "999   126.167.43.188  \n",
       "\n",
       "[1000 rows x 6 columns]"
      ]
     },
     "execution_count": 13,
     "metadata": {},
     "output_type": "execute_result"
    }
   ],
   "source": [
    "# 첫 줄에 cilum lable이 없는 데이터\n",
    "df = pd.read_csv(\n",
    "    'data/users_headless.csv',\n",
    "    header=None,    # 첫 줄에 있는 데이터가 header가 되지 않도록 함\n",
    "    names=['id', 'first_name', 'last_name', 'email', 'gender', 'ip_address']\n",
    "    )\n",
    "df"
   ]
  },
  {
   "cell_type": "code",
   "execution_count": 14,
   "metadata": {},
   "outputs": [
    {
     "name": "stdout",
     "output_type": "stream",
     "text": [
      "<class 'pandas.core.frame.DataFrame'>\n",
      "RangeIndex: 1000 entries, 0 to 999\n",
      "Data columns (total 6 columns):\n",
      " #   Column      Non-Null Count  Dtype \n",
      "---  ------      --------------  ----- \n",
      " 0   id          1000 non-null   int64 \n",
      " 1   first_name  1000 non-null   object\n",
      " 2   last_name   1000 non-null   object\n",
      " 3   email       1000 non-null   object\n",
      " 4   gender      1000 non-null   object\n",
      " 5   ip_address  1000 non-null   object\n",
      "dtypes: int64(1), object(5)\n",
      "memory usage: 47.0+ KB\n"
     ]
    }
   ],
   "source": [
    "df.info()"
   ]
  },
  {
   "cell_type": "markdown",
   "metadata": {},
   "source": [
    "---"
   ]
  },
  {
   "cell_type": "markdown",
   "metadata": {},
   "source": [
    "##### to_csv"
   ]
  },
  {
   "cell_type": "code",
   "execution_count": 15,
   "metadata": {},
   "outputs": [],
   "source": [
    "df.to_csv('data/users2.csv') # 기본값 : index = True, header = True"
   ]
  },
  {
   "cell_type": "code",
   "execution_count": 16,
   "metadata": {},
   "outputs": [],
   "source": [
    "df.to_csv('data/users2.csv', index=False)"
   ]
  },
  {
   "cell_type": "code",
   "execution_count": 17,
   "metadata": {},
   "outputs": [],
   "source": [
    "df.to_csv('data/users2.csv', index=False, header=False)"
   ]
  },
  {
   "cell_type": "markdown",
   "metadata": {},
   "source": [
    "---"
   ]
  },
  {
   "cell_type": "markdown",
   "metadata": {},
   "source": [
    "##### HTML 문서 내 table Load"
   ]
  },
  {
   "cell_type": "markdown",
   "metadata": {},
   "source": [
    "- 정적 웹 페이지 내 table 태그 부분만 추춣해 DataFrame 객체로 변환 가능\n",
    "- parsing 처리를 위한 lxml 패키지 필요"
   ]
  },
  {
   "cell_type": "code",
   "execution_count": null,
   "metadata": {},
   "outputs": [],
   "source": [
    "# ! pip install lxml"
   ]
  },
  {
   "cell_type": "code",
   "execution_count": 19,
   "metadata": {},
   "outputs": [
    {
     "data": {
      "text/plain": [
       "7"
      ]
     },
     "execution_count": 19,
     "metadata": {},
     "output_type": "execute_result"
    }
   ],
   "source": [
    "tables = pd.read_html('https://ko.wikipedia.org/wiki/%EB%8C%80%ED%95%9C%EB%AF%BC%EA%B5%AD%EC%9D%98_%EC%98%81%ED%99%94_%ED%9D%A5%ED%96%89_%EA%B8%B0%EB%A1%9D')\n",
    "len(tables)"
   ]
  },
  {
   "cell_type": "code",
   "execution_count": 20,
   "metadata": {},
   "outputs": [
    {
     "data": {
      "text/html": [
       "<div>\n",
       "<style scoped>\n",
       "    .dataframe tbody tr th:only-of-type {\n",
       "        vertical-align: middle;\n",
       "    }\n",
       "\n",
       "    .dataframe tbody tr th {\n",
       "        vertical-align: top;\n",
       "    }\n",
       "\n",
       "    .dataframe thead th {\n",
       "        text-align: right;\n",
       "    }\n",
       "</style>\n",
       "<table border=\"1\" class=\"dataframe\">\n",
       "  <thead>\n",
       "    <tr style=\"text-align: right;\">\n",
       "      <th></th>\n",
       "      <th>순위</th>\n",
       "      <th>제목</th>\n",
       "      <th>감독</th>\n",
       "      <th>한국내 배급사</th>\n",
       "      <th>개봉일</th>\n",
       "      <th>관객수</th>\n",
       "      <th>기타</th>\n",
       "    </tr>\n",
       "  </thead>\n",
       "  <tbody>\n",
       "    <tr>\n",
       "      <th>0</th>\n",
       "      <td>1</td>\n",
       "      <td>《명량》</td>\n",
       "      <td>김한민</td>\n",
       "      <td>CJ E&amp;M</td>\n",
       "      <td>2014-07-30</td>\n",
       "      <td>17616141</td>\n",
       "      <td>영화진흥위원회 발권통계 기준</td>\n",
       "    </tr>\n",
       "    <tr>\n",
       "      <th>1</th>\n",
       "      <td>2</td>\n",
       "      <td>《극한직업》</td>\n",
       "      <td>이병헌</td>\n",
       "      <td>CJ엔터테인먼트</td>\n",
       "      <td>2019-01-23</td>\n",
       "      <td>16266480</td>\n",
       "      <td>영화진흥위원회 발권통계 기준</td>\n",
       "    </tr>\n",
       "    <tr>\n",
       "      <th>2</th>\n",
       "      <td>3</td>\n",
       "      <td>《신과함께: 죄와 벌》</td>\n",
       "      <td>김용화</td>\n",
       "      <td>롯데엔터테인먼트</td>\n",
       "      <td>2017-12-20</td>\n",
       "      <td>14414658</td>\n",
       "      <td>영화진흥위원회 발권통계 기준</td>\n",
       "    </tr>\n",
       "    <tr>\n",
       "      <th>3</th>\n",
       "      <td>4</td>\n",
       "      <td>《국제시장》</td>\n",
       "      <td>윤제균</td>\n",
       "      <td>CJ E&amp;M</td>\n",
       "      <td>2014-12-17</td>\n",
       "      <td>14265222</td>\n",
       "      <td>영화진흥위원회 발권통계 기준</td>\n",
       "    </tr>\n",
       "    <tr>\n",
       "      <th>4</th>\n",
       "      <td>5</td>\n",
       "      <td>《어벤져스: 엔드게임》</td>\n",
       "      <td>루소 형제</td>\n",
       "      <td>월트디즈니컴퍼니코리아</td>\n",
       "      <td>2019-04-24</td>\n",
       "      <td>13977602</td>\n",
       "      <td>영화진흥위원회 발권통계 기준</td>\n",
       "    </tr>\n",
       "    <tr>\n",
       "      <th>...</th>\n",
       "      <td>...</td>\n",
       "      <td>...</td>\n",
       "      <td>...</td>\n",
       "      <td>...</td>\n",
       "      <td>...</td>\n",
       "      <td>...</td>\n",
       "      <td>...</td>\n",
       "    </tr>\n",
       "    <tr>\n",
       "      <th>62</th>\n",
       "      <td>63</td>\n",
       "      <td>《베를린》</td>\n",
       "      <td>류승완</td>\n",
       "      <td>CJ E&amp;M</td>\n",
       "      <td>2013-01-30</td>\n",
       "      <td>7166688</td>\n",
       "      <td>영화진흥위원회 발권통계 기준</td>\n",
       "    </tr>\n",
       "    <tr>\n",
       "      <th>63</th>\n",
       "      <td>64</td>\n",
       "      <td>《마스터》</td>\n",
       "      <td>조의석</td>\n",
       "      <td>CJ E&amp;M</td>\n",
       "      <td>2016-12-21</td>\n",
       "      <td>7150586</td>\n",
       "      <td>영화진흥위원회 발권통계 기준</td>\n",
       "    </tr>\n",
       "    <tr>\n",
       "      <th>64</th>\n",
       "      <td>65</td>\n",
       "      <td>《터널》</td>\n",
       "      <td>김성훈</td>\n",
       "      <td>쇼박스</td>\n",
       "      <td>2016-08-10</td>\n",
       "      <td>7120780</td>\n",
       "      <td>영화진흥위원회 발권통계 기준</td>\n",
       "    </tr>\n",
       "    <tr>\n",
       "      <th>65</th>\n",
       "      <td>66</td>\n",
       "      <td>《어벤져스》</td>\n",
       "      <td>조스 휘던</td>\n",
       "      <td>월트디즈니컴퍼니코리아</td>\n",
       "      <td>2012-04-26</td>\n",
       "      <td>7087971</td>\n",
       "      <td>영화진흥위원회 발권통계 기준</td>\n",
       "    </tr>\n",
       "    <tr>\n",
       "      <th>66</th>\n",
       "      <td>67</td>\n",
       "      <td>《인천상륙작전》</td>\n",
       "      <td>이재한</td>\n",
       "      <td>CJ E&amp;M</td>\n",
       "      <td>2016-07-27</td>\n",
       "      <td>7051660</td>\n",
       "      <td>영화진흥위원회 발권통계 기준</td>\n",
       "    </tr>\n",
       "  </tbody>\n",
       "</table>\n",
       "<p>67 rows × 7 columns</p>\n",
       "</div>"
      ],
      "text/plain": [
       "    순위            제목     감독      한국내 배급사         개봉일       관객수  \\\n",
       "0    1          《명량》    김한민       CJ E&M  2014-07-30  17616141   \n",
       "1    2        《극한직업》    이병헌     CJ엔터테인먼트  2019-01-23  16266480   \n",
       "2    3  《신과함께: 죄와 벌》    김용화     롯데엔터테인먼트  2017-12-20  14414658   \n",
       "3    4        《국제시장》    윤제균       CJ E&M  2014-12-17  14265222   \n",
       "4    5  《어벤져스: 엔드게임》  루소 형제  월트디즈니컴퍼니코리아  2019-04-24  13977602   \n",
       "..  ..           ...    ...          ...         ...       ...   \n",
       "62  63         《베를린》    류승완       CJ E&M  2013-01-30   7166688   \n",
       "63  64         《마스터》    조의석       CJ E&M  2016-12-21   7150586   \n",
       "64  65          《터널》    김성훈          쇼박스  2016-08-10   7120780   \n",
       "65  66        《어벤져스》  조스 휘던  월트디즈니컴퍼니코리아  2012-04-26   7087971   \n",
       "66  67      《인천상륙작전》    이재한       CJ E&M  2016-07-27   7051660   \n",
       "\n",
       "                 기타  \n",
       "0   영화진흥위원회 발권통계 기준  \n",
       "1   영화진흥위원회 발권통계 기준  \n",
       "2   영화진흥위원회 발권통계 기준  \n",
       "3   영화진흥위원회 발권통계 기준  \n",
       "4   영화진흥위원회 발권통계 기준  \n",
       "..              ...  \n",
       "62  영화진흥위원회 발권통계 기준  \n",
       "63  영화진흥위원회 발권통계 기준  \n",
       "64  영화진흥위원회 발권통계 기준  \n",
       "65  영화진흥위원회 발권통계 기준  \n",
       "66  영화진흥위원회 발권통계 기준  \n",
       "\n",
       "[67 rows x 7 columns]"
      ]
     },
     "execution_count": 20,
     "metadata": {},
     "output_type": "execute_result"
    }
   ],
   "source": [
    "movie_df = tables[0]\n",
    "movie_df"
   ]
  },
  {
   "cell_type": "code",
   "execution_count": 21,
   "metadata": {},
   "outputs": [
    {
     "name": "stdout",
     "output_type": "stream",
     "text": [
      "<class 'pandas.core.frame.DataFrame'>\n",
      "RangeIndex: 67 entries, 0 to 66\n",
      "Data columns (total 7 columns):\n",
      " #   Column   Non-Null Count  Dtype \n",
      "---  ------   --------------  ----- \n",
      " 0   순위       67 non-null     int64 \n",
      " 1   제목       67 non-null     object\n",
      " 2   감독       67 non-null     object\n",
      " 3   한국내 배급사  67 non-null     object\n",
      " 4   개봉일      67 non-null     object\n",
      " 5   관객수      67 non-null     int64 \n",
      " 6   기타       67 non-null     object\n",
      "dtypes: int64(2), object(5)\n",
      "memory usage: 3.8+ KB\n"
     ]
    }
   ],
   "source": [
    "movie_df.info()"
   ]
  },
  {
   "cell_type": "code",
   "execution_count": 22,
   "metadata": {},
   "outputs": [
    {
     "data": {
      "text/html": [
       "<div>\n",
       "<style scoped>\n",
       "    .dataframe tbody tr th:only-of-type {\n",
       "        vertical-align: middle;\n",
       "    }\n",
       "\n",
       "    .dataframe tbody tr th {\n",
       "        vertical-align: top;\n",
       "    }\n",
       "\n",
       "    .dataframe thead th {\n",
       "        text-align: right;\n",
       "    }\n",
       "</style>\n",
       "<table border=\"1\" class=\"dataframe\">\n",
       "  <thead>\n",
       "    <tr style=\"text-align: right;\">\n",
       "      <th></th>\n",
       "      <th>순위</th>\n",
       "      <th>관객수</th>\n",
       "    </tr>\n",
       "  </thead>\n",
       "  <tbody>\n",
       "    <tr>\n",
       "      <th>count</th>\n",
       "      <td>67.000000</td>\n",
       "      <td>6.700000e+01</td>\n",
       "    </tr>\n",
       "    <tr>\n",
       "      <th>mean</th>\n",
       "      <td>34.000000</td>\n",
       "      <td>1.010898e+07</td>\n",
       "    </tr>\n",
       "    <tr>\n",
       "      <th>std</th>\n",
       "      <td>19.485037</td>\n",
       "      <td>2.598352e+06</td>\n",
       "    </tr>\n",
       "    <tr>\n",
       "      <th>min</th>\n",
       "      <td>1.000000</td>\n",
       "      <td>7.051660e+06</td>\n",
       "    </tr>\n",
       "    <tr>\n",
       "      <th>25%</th>\n",
       "      <td>17.500000</td>\n",
       "      <td>7.667830e+06</td>\n",
       "    </tr>\n",
       "    <tr>\n",
       "      <th>50%</th>\n",
       "      <td>34.000000</td>\n",
       "      <td>9.427588e+06</td>\n",
       "    </tr>\n",
       "    <tr>\n",
       "      <th>75%</th>\n",
       "      <td>50.500000</td>\n",
       "      <td>1.229042e+07</td>\n",
       "    </tr>\n",
       "    <tr>\n",
       "      <th>max</th>\n",
       "      <td>67.000000</td>\n",
       "      <td>1.761614e+07</td>\n",
       "    </tr>\n",
       "  </tbody>\n",
       "</table>\n",
       "</div>"
      ],
      "text/plain": [
       "              순위           관객수\n",
       "count  67.000000  6.700000e+01\n",
       "mean   34.000000  1.010898e+07\n",
       "std    19.485037  2.598352e+06\n",
       "min     1.000000  7.051660e+06\n",
       "25%    17.500000  7.667830e+06\n",
       "50%    34.000000  9.427588e+06\n",
       "75%    50.500000  1.229042e+07\n",
       "max    67.000000  1.761614e+07"
      ]
     },
     "execution_count": 22,
     "metadata": {},
     "output_type": "execute_result"
    }
   ],
   "source": [
    "movie_df.describe()"
   ]
  },
  {
   "cell_type": "code",
   "execution_count": 25,
   "metadata": {},
   "outputs": [
    {
     "data": {
      "text/html": [
       "<div>\n",
       "<style scoped>\n",
       "    .dataframe tbody tr th:only-of-type {\n",
       "        vertical-align: middle;\n",
       "    }\n",
       "\n",
       "    .dataframe tbody tr th {\n",
       "        vertical-align: top;\n",
       "    }\n",
       "\n",
       "    .dataframe thead th {\n",
       "        text-align: right;\n",
       "    }\n",
       "</style>\n",
       "<table border=\"1\" class=\"dataframe\">\n",
       "  <thead>\n",
       "    <tr style=\"text-align: right;\">\n",
       "      <th></th>\n",
       "      <th>순위</th>\n",
       "      <th>제목</th>\n",
       "      <th>감독</th>\n",
       "      <th>한국내 배급사</th>\n",
       "      <th>개봉일</th>\n",
       "      <th>관객수</th>\n",
       "      <th>기타</th>\n",
       "    </tr>\n",
       "  </thead>\n",
       "  <tbody>\n",
       "    <tr>\n",
       "      <th>9</th>\n",
       "      <td>10</td>\n",
       "      <td>《괴물》</td>\n",
       "      <td>봉준호</td>\n",
       "      <td>쇼박스</td>\n",
       "      <td>2006-07-27</td>\n",
       "      <td>13019740</td>\n",
       "      <td>영화진흥위원회 공식통계 기준</td>\n",
       "    </tr>\n",
       "    <tr>\n",
       "      <th>30</th>\n",
       "      <td>31</td>\n",
       "      <td>《기생충》</td>\n",
       "      <td>봉준호</td>\n",
       "      <td>CJ엔터테인먼트</td>\n",
       "      <td>2019-05-30</td>\n",
       "      <td>10313735</td>\n",
       "      <td>영화진흥위원회 발권통계 기준</td>\n",
       "    </tr>\n",
       "    <tr>\n",
       "      <th>34</th>\n",
       "      <td>35</td>\n",
       "      <td>《설국열차》</td>\n",
       "      <td>봉준호</td>\n",
       "      <td>CJ E&amp;M</td>\n",
       "      <td>2013-08-01</td>\n",
       "      <td>9354547</td>\n",
       "      <td>영화진흥위원회 발권통계 기준</td>\n",
       "    </tr>\n",
       "  </tbody>\n",
       "</table>\n",
       "</div>"
      ],
      "text/plain": [
       "    순위      제목   감독   한국내 배급사         개봉일       관객수               기타\n",
       "9   10    《괴물》  봉준호       쇼박스  2006-07-27  13019740  영화진흥위원회 공식통계 기준\n",
       "30  31   《기생충》  봉준호  CJ엔터테인먼트  2019-05-30  10313735  영화진흥위원회 발권통계 기준\n",
       "34  35  《설국열차》  봉준호    CJ E&M  2013-08-01   9354547  영화진흥위원회 발권통계 기준"
      ]
     },
     "execution_count": 25,
     "metadata": {},
     "output_type": "execute_result"
    }
   ],
   "source": [
    "movie_df[movie_df['감독'] == '봉준호']"
   ]
  },
  {
   "cell_type": "markdown",
   "metadata": {},
   "source": [
    "---"
   ]
  },
  {
   "cell_type": "markdown",
   "metadata": {},
   "source": [
    "##### [실습] titanic 승객 데이터 활용"
   ]
  }
 ],
 "metadata": {
  "kernelspec": {
   "display_name": "pystudy_env",
   "language": "python",
   "name": "python3"
  },
  "language_info": {
   "codemirror_mode": {
    "name": "ipython",
    "version": 3
   },
   "file_extension": ".py",
   "mimetype": "text/x-python",
   "name": "python",
   "nbconvert_exporter": "python",
   "pygments_lexer": "ipython3",
   "version": "3.12.9"
  }
 },
 "nbformat": 4,
 "nbformat_minor": 2
}
