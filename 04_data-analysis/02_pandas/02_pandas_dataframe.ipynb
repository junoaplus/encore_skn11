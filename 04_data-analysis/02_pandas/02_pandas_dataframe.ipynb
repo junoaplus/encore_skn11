{
 "cells": [
  {
   "cell_type": "markdown",
   "metadata": {},
   "source": [
    "### pandas - DataFrame\n",
    "- 2찬원 행렬(표), Serieas를 묶어낸 자료형"
   ]
  },
  {
   "cell_type": "code",
   "execution_count": 1,
   "metadata": {},
   "outputs": [],
   "source": [
    "import numpy as np\n",
    "import pandas as pd"
   ]
  },
  {
   "cell_type": "markdown",
   "metadata": {},
   "source": [
    "---"
   ]
  },
  {
   "cell_type": "markdown",
   "metadata": {},
   "source": [
    "DataFrame 생성"
   ]
  },
  {
   "cell_type": "code",
   "execution_count": 2,
   "metadata": {},
   "outputs": [
    {
     "name": "stdout",
     "output_type": "stream",
     "text": [
      "   one two  three  four\n",
      "0    1   가   1.23  True\n",
      "1    2   나   2.34  True\n",
      "2    3   다   3.45  True\n",
      "3    4   라   4.56  True\n",
      "4    5   마   5.67  True\n"
     ]
    }
   ],
   "source": [
    "# dictionary - list 화용\n",
    "data = {\n",
    "    'one': [1, 2, 3, 4, 5],\n",
    "    'two': ['가', '나', '다', '라', '마'],\n",
    "    'three': [1.23, 2.34, 3.45, 4.56, 5.67],\n",
    "    'four': True\n",
    "}\n",
    "df = pd.DataFrame(data)\n",
    "print(df)"
   ]
  },
  {
   "cell_type": "code",
   "execution_count": 3,
   "metadata": {},
   "outputs": [
    {
     "name": "stdout",
     "output_type": "stream",
     "text": [
      "   a  b  c\n",
      "0  1  2  3\n",
      "1  4  5  6\n",
      "2  7  8  9\n",
      "Index(['토끼', '판다', '코알라'], dtype='object')\n",
      "     a  b  c\n",
      "토끼   1  2  3\n",
      "판다   4  5  6\n",
      "코알라  7  8  9\n",
      "Index(['협동심', '성실도', '인내심'], dtype='object')\n",
      "     협동심  성실도  인내심\n",
      "토끼     1    2    3\n",
      "판다     4    5    6\n",
      "코알라    7    8    9\n"
     ]
    }
   ],
   "source": [
    "# list-dictionary 활용\n",
    "data = [\n",
    "    {'a': 1, 'b' : 2, 'c': 3},\n",
    "    {'a': 4, 'b' : 5, 'c': 6},\n",
    "    {'a': 7, 'b' : 8, 'c': 9}\n",
    "]\n",
    "\n",
    "df = pd.DataFrame(data)\n",
    "print(df)\n",
    "\n",
    "df.index = ['토끼', '판다', '코알라']\n",
    "print(df.index)\n",
    "print(df)\n",
    "\n",
    "df.columns = ['협동심', '성실도', '인내심']\n",
    "\n",
    "print(df.columns)\n",
    "print(df)"
   ]
  },
  {
   "cell_type": "code",
   "execution_count": 4,
   "metadata": {},
   "outputs": [
    {
     "name": "stdout",
     "output_type": "stream",
     "text": [
      "          A         B         c\n",
      "ㄱ -1.429663  1.860138  2.385312\n",
      "ㄴ  0.354252  0.881555  2.097301\n"
     ]
    }
   ],
   "source": [
    "# 2차원 ndarray 활용\n",
    "\n",
    "arr = np.random.randn(2, 3)\n",
    "df = pd.DataFrame(arr, index=['ㄱ', 'ㄴ'], columns=['A', 'B', 'c'])\n",
    "\n",
    "# df.index = ['ㄱ', 'ㄴ']\n",
    "# df.columns = ['A', 'B', 'C']\n",
    "print(df)"
   ]
  },
  {
   "cell_type": "code",
   "execution_count": 5,
   "metadata": {},
   "outputs": [
    {
     "name": "stdout",
     "output_type": "stream",
     "text": [
      "       이름  위치 성별\n",
      "rabit  준호  독산  M\n",
      "babo   준희  평양  F\n",
      "gay    상익  개성  F\n",
      "panda  호진  용산  M\n"
     ]
    }
   ],
   "source": [
    "data = {\n",
    "    '이름': ['준호', '준희', '상익', '호진'],\n",
    "    '위치': ['독산', '평양', '개성', '용산'],\n",
    "    '성별': ['M', 'F', 'F', 'M']\n",
    "}\n",
    "df = pd.DataFrame(data)\n",
    "df = pd.DataFrame(data, index=['rabit', 'babo', 'gay', 'panda'])\n",
    "print(df)"
   ]
  },
  {
   "cell_type": "code",
   "execution_count": 6,
   "metadata": {},
   "outputs": [
    {
     "name": "stdout",
     "output_type": "stream",
     "text": [
      "   rabit babo gay panda\n",
      "이름    준호   준희  상익    호진\n",
      "위치    독산   평양  개성    용산\n",
      "성별     M    F   F     M\n"
     ]
    }
   ],
   "source": [
    "# 전치행렬 (행과 열을 바꿈)\n",
    "print(df.T)"
   ]
  },
  {
   "cell_type": "markdown",
   "metadata": {},
   "source": [
    "---"
   ]
  },
  {
   "cell_type": "markdown",
   "metadata": {},
   "source": [
    "##### Dataframe 속성"
   ]
  },
  {
   "cell_type": "code",
   "execution_count": 7,
   "metadata": {},
   "outputs": [
    {
     "name": "stdout",
     "output_type": "stream",
     "text": [
      "Index(['rabit', 'babo', 'gay', 'panda'], dtype='object')\n",
      "Index(['이름', '위치', '성별'], dtype='object')\n",
      "[['준호' '독산' 'M']\n",
      " ['준희' '평양' 'F']\n",
      " ['상익' '개성' 'F']\n",
      " ['호진' '용산' 'M']]\n"
     ]
    }
   ],
   "source": [
    "print(df.index)\n",
    "print(df.columns)\n",
    "print(df.values)"
   ]
  },
  {
   "cell_type": "code",
   "execution_count": 8,
   "metadata": {},
   "outputs": [
    {
     "name": "stdout",
     "output_type": "stream",
     "text": [
      "(4, 3)\n",
      "12\n",
      "2\n",
      "이름    object\n",
      "위치    object\n",
      "성별    object\n",
      "dtype: object\n"
     ]
    }
   ],
   "source": [
    "print(df.shape)     # 형태\n",
    "print(df.size)      # 요소\n",
    "print(df.ndim)      # 깊이\n",
    "print(df.dtypes)    # 요소의 자료형"
   ]
  },
  {
   "cell_type": "markdown",
   "metadata": {},
   "source": [
    "---"
   ]
  },
  {
   "cell_type": "markdown",
   "metadata": {},
   "source": [
    "##### DataFrame 메서드"
   ]
  },
  {
   "cell_type": "code",
   "execution_count": 9,
   "metadata": {},
   "outputs": [
    {
     "name": "stdout",
     "output_type": "stream",
     "text": [
      "   Client ID Client Name  Net worth [$]  Years with bank\n",
      "0          1         Aly          35000                4\n",
      "1          2       Steve           3000                7\n",
      "2          3      Nicole         100000               10\n",
      "3          4      Morris           2000               15\n"
     ]
    }
   ],
   "source": [
    "bank_client_df = pd.DataFrame({\n",
    "    'Client ID': [1, 2, 3, 4],\n",
    "    'Client Name': ['Aly', 'Steve', 'Nicole', 'Morris'],\n",
    "    'Net worth [$]': [35000, 3000, 100000, 2000],\n",
    "    'Years with bank': [4, 7, 10, 15]\n",
    "})\n",
    "print(bank_client_df)"
   ]
  },
  {
   "cell_type": "code",
   "execution_count": 10,
   "metadata": {},
   "outputs": [
    {
     "name": "stdout",
     "output_type": "stream",
     "text": [
      "   Client ID Client Name  Net worth [$]  Years with bank\n",
      "0          1         Aly          35000                4\n",
      "1          2       Steve           3000                7\n",
      "   Client ID Client Name  Net worth [$]  Years with bank\n",
      "2          3      Nicole         100000               10\n",
      "3          4      Morris           2000               15\n"
     ]
    }
   ],
   "source": [
    "print(bank_client_df.head(2))\n",
    "print(bank_client_df.tail(2))"
   ]
  },
  {
   "cell_type": "code",
   "execution_count": 11,
   "metadata": {},
   "outputs": [
    {
     "name": "stdout",
     "output_type": "stream",
     "text": [
      "<class 'pandas.core.frame.DataFrame'>\n",
      "RangeIndex: 4 entries, 0 to 3\n",
      "Data columns (total 4 columns):\n",
      " #   Column           Non-Null Count  Dtype \n",
      "---  ------           --------------  ----- \n",
      " 0   Client ID        4 non-null      int64 \n",
      " 1   Client Name      4 non-null      object\n",
      " 2   Net worth [$]    4 non-null      int64 \n",
      " 3   Years with bank  4 non-null      int64 \n",
      "dtypes: int64(3), object(1)\n",
      "memory usage: 260.0+ bytes\n"
     ]
    }
   ],
   "source": [
    "bank_client_df.info()"
   ]
  },
  {
   "cell_type": "code",
   "execution_count": 12,
   "metadata": {},
   "outputs": [
    {
     "data": {
      "text/html": [
       "<div>\n",
       "<style scoped>\n",
       "    .dataframe tbody tr th:only-of-type {\n",
       "        vertical-align: middle;\n",
       "    }\n",
       "\n",
       "    .dataframe tbody tr th {\n",
       "        vertical-align: top;\n",
       "    }\n",
       "\n",
       "    .dataframe thead th {\n",
       "        text-align: right;\n",
       "    }\n",
       "</style>\n",
       "<table border=\"1\" class=\"dataframe\">\n",
       "  <thead>\n",
       "    <tr style=\"text-align: right;\">\n",
       "      <th></th>\n",
       "      <th>Client ID</th>\n",
       "      <th>Net worth [$]</th>\n",
       "      <th>Years with bank</th>\n",
       "    </tr>\n",
       "  </thead>\n",
       "  <tbody>\n",
       "    <tr>\n",
       "      <th>count</th>\n",
       "      <td>4.000000</td>\n",
       "      <td>4.000000</td>\n",
       "      <td>4.000000</td>\n",
       "    </tr>\n",
       "    <tr>\n",
       "      <th>mean</th>\n",
       "      <td>2.500000</td>\n",
       "      <td>35000.000000</td>\n",
       "      <td>9.000000</td>\n",
       "    </tr>\n",
       "    <tr>\n",
       "      <th>std</th>\n",
       "      <td>1.290994</td>\n",
       "      <td>45963.753836</td>\n",
       "      <td>4.690416</td>\n",
       "    </tr>\n",
       "    <tr>\n",
       "      <th>min</th>\n",
       "      <td>1.000000</td>\n",
       "      <td>2000.000000</td>\n",
       "      <td>4.000000</td>\n",
       "    </tr>\n",
       "    <tr>\n",
       "      <th>25%</th>\n",
       "      <td>1.750000</td>\n",
       "      <td>2750.000000</td>\n",
       "      <td>6.250000</td>\n",
       "    </tr>\n",
       "    <tr>\n",
       "      <th>50%</th>\n",
       "      <td>2.500000</td>\n",
       "      <td>19000.000000</td>\n",
       "      <td>8.500000</td>\n",
       "    </tr>\n",
       "    <tr>\n",
       "      <th>75%</th>\n",
       "      <td>3.250000</td>\n",
       "      <td>51250.000000</td>\n",
       "      <td>11.250000</td>\n",
       "    </tr>\n",
       "    <tr>\n",
       "      <th>max</th>\n",
       "      <td>4.000000</td>\n",
       "      <td>100000.000000</td>\n",
       "      <td>15.000000</td>\n",
       "    </tr>\n",
       "  </tbody>\n",
       "</table>\n",
       "</div>"
      ],
      "text/plain": [
       "       Client ID  Net worth [$]  Years with bank\n",
       "count   4.000000       4.000000         4.000000\n",
       "mean    2.500000   35000.000000         9.000000\n",
       "std     1.290994   45963.753836         4.690416\n",
       "min     1.000000    2000.000000         4.000000\n",
       "25%     1.750000    2750.000000         6.250000\n",
       "50%     2.500000   19000.000000         8.500000\n",
       "75%     3.250000   51250.000000        11.250000\n",
       "max     4.000000  100000.000000        15.000000"
      ]
     },
     "execution_count": 12,
     "metadata": {},
     "output_type": "execute_result"
    }
   ],
   "source": [
    "bank_client_df.describe()"
   ]
  },
  {
   "cell_type": "code",
   "execution_count": 13,
   "metadata": {},
   "outputs": [
    {
     "name": "stdout",
     "output_type": "stream",
     "text": [
      "Client ID              1\n",
      "Client Name          Aly\n",
      "Net worth [$]      35000\n",
      "Years with bank        4\n",
      "Name: 0, dtype: object\n",
      "<class 'pandas.core.series.Series'>\n",
      "<class 'pandas.core.indexes.base.Index'>\n",
      "<class 'int'>\n"
     ]
    }
   ],
   "source": [
    "# indexing / slicing\n",
    "# iloc 인덱스 - 향/열 순서로 조회\n",
    "# loc 라벨 - 행/열 순서로 조회\n",
    "print(bank_client_df.iloc[0])\n",
    "print(type(bank_client_df.iloc[0]))\n",
    "print(type(bank_client_df.iloc[0].index))\n",
    "print(type(bank_client_df.iloc[0].name))"
   ]
  },
  {
   "cell_type": "code",
   "execution_count": 14,
   "metadata": {},
   "outputs": [
    {
     "data": {
      "text/html": [
       "<div>\n",
       "<style scoped>\n",
       "    .dataframe tbody tr th:only-of-type {\n",
       "        vertical-align: middle;\n",
       "    }\n",
       "\n",
       "    .dataframe tbody tr th {\n",
       "        vertical-align: top;\n",
       "    }\n",
       "\n",
       "    .dataframe thead th {\n",
       "        text-align: right;\n",
       "    }\n",
       "</style>\n",
       "<table border=\"1\" class=\"dataframe\">\n",
       "  <thead>\n",
       "    <tr style=\"text-align: right;\">\n",
       "      <th></th>\n",
       "      <th>Client ID</th>\n",
       "      <th>Client Name</th>\n",
       "      <th>Net worth [$]</th>\n",
       "      <th>Years with bank</th>\n",
       "    </tr>\n",
       "  </thead>\n",
       "  <tbody>\n",
       "    <tr>\n",
       "      <th>0</th>\n",
       "      <td>1</td>\n",
       "      <td>Aly</td>\n",
       "      <td>35000</td>\n",
       "      <td>4</td>\n",
       "    </tr>\n",
       "    <tr>\n",
       "      <th>1</th>\n",
       "      <td>2</td>\n",
       "      <td>Steve</td>\n",
       "      <td>3000</td>\n",
       "      <td>7</td>\n",
       "    </tr>\n",
       "  </tbody>\n",
       "</table>\n",
       "</div>"
      ],
      "text/plain": [
       "   Client ID Client Name  Net worth [$]  Years with bank\n",
       "0          1         Aly          35000                4\n",
       "1          2       Steve           3000                7"
      ]
     },
     "execution_count": 14,
     "metadata": {},
     "output_type": "execute_result"
    }
   ],
   "source": [
    "bank_client_df.iloc[:2]"
   ]
  },
  {
   "cell_type": "code",
   "execution_count": 15,
   "metadata": {},
   "outputs": [
    {
     "data": {
      "text/plain": [
       "(   Client ID Client Name  Net worth [$]  Years with bank\n",
       " 0          1         Aly          35000                4\n",
       " 2          3      Nicole         100000               10,\n",
       " pandas.core.frame.DataFrame)"
      ]
     },
     "execution_count": 15,
     "metadata": {},
     "output_type": "execute_result"
    }
   ],
   "source": [
    "bank_client_df.iloc[[0,2]], type(bank_client_df.iloc[[0,2]])"
   ]
  },
  {
   "cell_type": "code",
   "execution_count": 16,
   "metadata": {},
   "outputs": [
    {
     "name": "stdout",
     "output_type": "stream",
     "text": [
      "(1, 4)\n",
      "(4,)\n"
     ]
    },
    {
     "data": {
      "text/plain": [
       "(   Client ID Client Name  Net worth [$]  Years with bank\n",
       " 2          3      Nicole         100000               10,\n",
       " pandas.core.frame.DataFrame)"
      ]
     },
     "execution_count": 16,
     "metadata": {},
     "output_type": "execute_result"
    }
   ],
   "source": [
    "# fancy indexing을 통한 조회는 결과가 1개여도 DataFrame 타입으로 반환\n",
    "# -> Series를 반환한다는 것은 차원을 축소(제거)하는 것\n",
    "# -> DataFrame을 반환한다는 것은 차원을 유지하는 것\n",
    "print(bank_client_df.iloc[[2]].shape)\n",
    "print(bank_client_df.iloc[2].shape)\n",
    "bank_client_df.iloc[[2]], type(bank_client_df.iloc[[2]])"
   ]
  },
  {
   "cell_type": "code",
   "execution_count": 17,
   "metadata": {},
   "outputs": [
    {
     "data": {
      "text/plain": [
       "'Aly'"
      ]
     },
     "execution_count": 17,
     "metadata": {},
     "output_type": "execute_result"
    }
   ],
   "source": [
    "# 2찬원 indexing / slicing\n",
    "bank_client_df.iloc[0, 1]"
   ]
  },
  {
   "cell_type": "code",
   "execution_count": 18,
   "metadata": {},
   "outputs": [
    {
     "data": {
      "text/plain": [
       "(0      Aly\n",
       " 1    Steve\n",
       " Name: Client Name, dtype: object,\n",
       " pandas.core.series.Series)"
      ]
     },
     "execution_count": 18,
     "metadata": {},
     "output_type": "execute_result"
    }
   ],
   "source": [
    "bank_client_df.iloc[:2, 1], type(bank_client_df.iloc[:2, 1])"
   ]
  },
  {
   "cell_type": "code",
   "execution_count": 19,
   "metadata": {},
   "outputs": [
    {
     "data": {
      "text/plain": [
       "(   Net worth [$]  Years with bank\n",
       " 0          35000                4\n",
       " 1           3000                7,\n",
       " pandas.core.frame.DataFrame)"
      ]
     },
     "execution_count": 19,
     "metadata": {},
     "output_type": "execute_result"
    }
   ],
   "source": [
    "bank_client_df.iloc[:2, 2:], type(bank_client_df.iloc[:2, 2:])"
   ]
  },
  {
   "cell_type": "code",
   "execution_count": 20,
   "metadata": {},
   "outputs": [
    {
     "name": "stdout",
     "output_type": "stream",
     "text": [
      "         Client ID Client Name  Net worth [$]  Years with bank\n",
      "client1          1         Aly          35000                4\n",
      "client2          2       Steve           3000                7\n",
      "client3          3      Nicole         100000               10\n",
      "client4          4      Morris           2000               15\n"
     ]
    }
   ],
   "source": [
    "bank_client_df.index = ['client1', 'client2', 'client3', 'client4']\n",
    "print(bank_client_df)"
   ]
  },
  {
   "cell_type": "code",
   "execution_count": 21,
   "metadata": {},
   "outputs": [
    {
     "data": {
      "text/plain": [
       "Client ID               3\n",
       "Client Name        Nicole\n",
       "Net worth [$]      100000\n",
       "Years with bank        10\n",
       "Name: client3, dtype: object"
      ]
     },
     "execution_count": 21,
     "metadata": {},
     "output_type": "execute_result"
    }
   ],
   "source": [
    "bank_client_df.loc['client3']"
   ]
  },
  {
   "cell_type": "code",
   "execution_count": 22,
   "metadata": {},
   "outputs": [
    {
     "data": {
      "text/html": [
       "<div>\n",
       "<style scoped>\n",
       "    .dataframe tbody tr th:only-of-type {\n",
       "        vertical-align: middle;\n",
       "    }\n",
       "\n",
       "    .dataframe tbody tr th {\n",
       "        vertical-align: top;\n",
       "    }\n",
       "\n",
       "    .dataframe thead th {\n",
       "        text-align: right;\n",
       "    }\n",
       "</style>\n",
       "<table border=\"1\" class=\"dataframe\">\n",
       "  <thead>\n",
       "    <tr style=\"text-align: right;\">\n",
       "      <th></th>\n",
       "      <th>Client ID</th>\n",
       "      <th>Client Name</th>\n",
       "      <th>Net worth [$]</th>\n",
       "      <th>Years with bank</th>\n",
       "    </tr>\n",
       "  </thead>\n",
       "  <tbody>\n",
       "    <tr>\n",
       "      <th>client2</th>\n",
       "      <td>2</td>\n",
       "      <td>Steve</td>\n",
       "      <td>3000</td>\n",
       "      <td>7</td>\n",
       "    </tr>\n",
       "    <tr>\n",
       "      <th>client3</th>\n",
       "      <td>3</td>\n",
       "      <td>Nicole</td>\n",
       "      <td>100000</td>\n",
       "      <td>10</td>\n",
       "    </tr>\n",
       "    <tr>\n",
       "      <th>client4</th>\n",
       "      <td>4</td>\n",
       "      <td>Morris</td>\n",
       "      <td>2000</td>\n",
       "      <td>15</td>\n",
       "    </tr>\n",
       "  </tbody>\n",
       "</table>\n",
       "</div>"
      ],
      "text/plain": [
       "         Client ID Client Name  Net worth [$]  Years with bank\n",
       "client2          2       Steve           3000                7\n",
       "client3          3      Nicole         100000               10\n",
       "client4          4      Morris           2000               15"
      ]
     },
     "execution_count": 22,
     "metadata": {},
     "output_type": "execute_result"
    }
   ],
   "source": [
    "bank_client_df.iloc[1:4]"
   ]
  },
  {
   "cell_type": "code",
   "execution_count": 23,
   "metadata": {},
   "outputs": [
    {
     "data": {
      "text/plain": [
       "(         Client ID Client Name  Net worth [$]  Years with bank\n",
       " client2          2       Steve           3000                7\n",
       " client3          3      Nicole         100000               10\n",
       " client4          4      Morris           2000               15,\n",
       " pandas.core.frame.DataFrame)"
      ]
     },
     "execution_count": 23,
     "metadata": {},
     "output_type": "execute_result"
    }
   ],
   "source": [
    "bank_client_df.loc['client2' : 'client4'], type(bank_client_df.loc['client2' : 'client4'])"
   ]
  },
  {
   "cell_type": "code",
   "execution_count": 24,
   "metadata": {},
   "outputs": [
    {
     "data": {
      "text/plain": [
       "(client2     Steve\n",
       " client4    Morris\n",
       " Name: Client Name, dtype: object,\n",
       " pandas.core.series.Series)"
      ]
     },
     "execution_count": 24,
     "metadata": {},
     "output_type": "execute_result"
    }
   ],
   "source": [
    "bank_client_df.loc['client2' : 'client4':2, 'Client Name'], type(bank_client_df.loc['client2' : 'client4':2, 'Client Name'])"
   ]
  },
  {
   "cell_type": "code",
   "execution_count": 25,
   "metadata": {},
   "outputs": [
    {
     "data": {
      "text/plain": [
       "(        Client Name  Net worth [$]\n",
       " client2       Steve           3000\n",
       " client4      Morris           2000,\n",
       " pandas.core.frame.DataFrame)"
      ]
     },
     "execution_count": 25,
     "metadata": {},
     "output_type": "execute_result"
    }
   ],
   "source": [
    "bank_client_df.loc['client2' : 'client4':2, 'Client Name':'Net worth [$]'] ,type(bank_client_df.loc['client2' : 'client4':2, 'Client Name':'Net worth [$]'])"
   ]
  },
  {
   "cell_type": "code",
   "execution_count": 26,
   "metadata": {},
   "outputs": [
    {
     "data": {
      "text/html": [
       "<div>\n",
       "<style scoped>\n",
       "    .dataframe tbody tr th:only-of-type {\n",
       "        vertical-align: middle;\n",
       "    }\n",
       "\n",
       "    .dataframe tbody tr th {\n",
       "        vertical-align: top;\n",
       "    }\n",
       "\n",
       "    .dataframe thead th {\n",
       "        text-align: right;\n",
       "    }\n",
       "</style>\n",
       "<table border=\"1\" class=\"dataframe\">\n",
       "  <thead>\n",
       "    <tr style=\"text-align: right;\">\n",
       "      <th></th>\n",
       "      <th>Client ID</th>\n",
       "      <th>Client Name</th>\n",
       "      <th>Net worth [$]</th>\n",
       "      <th>Years with bank</th>\n",
       "    </tr>\n",
       "  </thead>\n",
       "  <tbody>\n",
       "    <tr>\n",
       "      <th>client2</th>\n",
       "      <td>2</td>\n",
       "      <td>Steve</td>\n",
       "      <td>3000</td>\n",
       "      <td>7</td>\n",
       "    </tr>\n",
       "  </tbody>\n",
       "</table>\n",
       "</div>"
      ],
      "text/plain": [
       "         Client ID Client Name  Net worth [$]  Years with bank\n",
       "client2          2       Steve           3000                7"
      ]
     },
     "execution_count": 26,
     "metadata": {},
     "output_type": "execute_result"
    }
   ],
   "source": [
    "# 이름이 Steve인 고객 정보 출력\n",
    "bank_client_df.loc[bank_client_df['Client Name'] == 'Steve']"
   ]
  },
  {
   "cell_type": "code",
   "execution_count": 27,
   "metadata": {},
   "outputs": [
    {
     "data": {
      "text/plain": [
       "client1       Aly\n",
       "client2     Steve\n",
       "client3    Nicole\n",
       "client4    Morris\n",
       "Name: Client Name, dtype: object"
      ]
     },
     "execution_count": 27,
     "metadata": {},
     "output_type": "execute_result"
    }
   ],
   "source": [
    "# client Name 만 출력\n",
    "bank_client_df[ 'Client Name']"
   ]
  },
  {
   "cell_type": "code",
   "execution_count": 28,
   "metadata": {},
   "outputs": [
    {
     "data": {
      "text/html": [
       "<div>\n",
       "<style scoped>\n",
       "    .dataframe tbody tr th:only-of-type {\n",
       "        vertical-align: middle;\n",
       "    }\n",
       "\n",
       "    .dataframe tbody tr th {\n",
       "        vertical-align: top;\n",
       "    }\n",
       "\n",
       "    .dataframe thead th {\n",
       "        text-align: right;\n",
       "    }\n",
       "</style>\n",
       "<table border=\"1\" class=\"dataframe\">\n",
       "  <thead>\n",
       "    <tr style=\"text-align: right;\">\n",
       "      <th></th>\n",
       "      <th>Client Name</th>\n",
       "      <th>Net worth [$]</th>\n",
       "    </tr>\n",
       "  </thead>\n",
       "  <tbody>\n",
       "    <tr>\n",
       "      <th>client1</th>\n",
       "      <td>Aly</td>\n",
       "      <td>35000</td>\n",
       "    </tr>\n",
       "    <tr>\n",
       "      <th>client2</th>\n",
       "      <td>Steve</td>\n",
       "      <td>3000</td>\n",
       "    </tr>\n",
       "    <tr>\n",
       "      <th>client3</th>\n",
       "      <td>Nicole</td>\n",
       "      <td>100000</td>\n",
       "    </tr>\n",
       "    <tr>\n",
       "      <th>client4</th>\n",
       "      <td>Morris</td>\n",
       "      <td>2000</td>\n",
       "    </tr>\n",
       "  </tbody>\n",
       "</table>\n",
       "</div>"
      ],
      "text/plain": [
       "        Client Name  Net worth [$]\n",
       "client1         Aly          35000\n",
       "client2       Steve           3000\n",
       "client3      Nicole         100000\n",
       "client4      Morris           2000"
      ]
     },
     "execution_count": 28,
     "metadata": {},
     "output_type": "execute_result"
    }
   ],
   "source": [
    "# client Nane과 Net worth [$] 출력 \n",
    "bank_client_df[['Client Name', 'Net worth [$]']]"
   ]
  },
  {
   "cell_type": "code",
   "execution_count": 29,
   "metadata": {},
   "outputs": [
    {
     "data": {
      "text/html": [
       "<div>\n",
       "<style scoped>\n",
       "    .dataframe tbody tr th:only-of-type {\n",
       "        vertical-align: middle;\n",
       "    }\n",
       "\n",
       "    .dataframe tbody tr th {\n",
       "        vertical-align: top;\n",
       "    }\n",
       "\n",
       "    .dataframe thead th {\n",
       "        text-align: right;\n",
       "    }\n",
       "</style>\n",
       "<table border=\"1\" class=\"dataframe\">\n",
       "  <thead>\n",
       "    <tr style=\"text-align: right;\">\n",
       "      <th></th>\n",
       "      <th>Client Name</th>\n",
       "      <th>Net worth [$]</th>\n",
       "    </tr>\n",
       "  </thead>\n",
       "  <tbody>\n",
       "    <tr>\n",
       "      <th>client1</th>\n",
       "      <td>Aly</td>\n",
       "      <td>35000</td>\n",
       "    </tr>\n",
       "    <tr>\n",
       "      <th>client2</th>\n",
       "      <td>Steve</td>\n",
       "      <td>3000</td>\n",
       "    </tr>\n",
       "    <tr>\n",
       "      <th>client3</th>\n",
       "      <td>Nicole</td>\n",
       "      <td>100000</td>\n",
       "    </tr>\n",
       "    <tr>\n",
       "      <th>client4</th>\n",
       "      <td>Morris</td>\n",
       "      <td>2000</td>\n",
       "    </tr>\n",
       "  </tbody>\n",
       "</table>\n",
       "</div>"
      ],
      "text/plain": [
       "        Client Name  Net worth [$]\n",
       "client1         Aly          35000\n",
       "client2       Steve           3000\n",
       "client3      Nicole         100000\n",
       "client4      Morris           2000"
      ]
     },
     "execution_count": 29,
     "metadata": {},
     "output_type": "execute_result"
    }
   ],
   "source": [
    "# filter\n",
    "bank_client_df.filter(items=['Client Name', 'Net worth [$]'])"
   ]
  },
  {
   "cell_type": "code",
   "execution_count": 30,
   "metadata": {},
   "outputs": [
    {
     "data": {
      "text/html": [
       "<div>\n",
       "<style scoped>\n",
       "    .dataframe tbody tr th:only-of-type {\n",
       "        vertical-align: middle;\n",
       "    }\n",
       "\n",
       "    .dataframe tbody tr th {\n",
       "        vertical-align: top;\n",
       "    }\n",
       "\n",
       "    .dataframe thead th {\n",
       "        text-align: right;\n",
       "    }\n",
       "</style>\n",
       "<table border=\"1\" class=\"dataframe\">\n",
       "  <thead>\n",
       "    <tr style=\"text-align: right;\">\n",
       "      <th></th>\n",
       "      <th>Net worth [$]</th>\n",
       "    </tr>\n",
       "  </thead>\n",
       "  <tbody>\n",
       "    <tr>\n",
       "      <th>client1</th>\n",
       "      <td>35000</td>\n",
       "    </tr>\n",
       "    <tr>\n",
       "      <th>client2</th>\n",
       "      <td>3000</td>\n",
       "    </tr>\n",
       "    <tr>\n",
       "      <th>client3</th>\n",
       "      <td>100000</td>\n",
       "    </tr>\n",
       "    <tr>\n",
       "      <th>client4</th>\n",
       "      <td>2000</td>\n",
       "    </tr>\n",
       "  </tbody>\n",
       "</table>\n",
       "</div>"
      ],
      "text/plain": [
       "         Net worth [$]\n",
       "client1          35000\n",
       "client2           3000\n",
       "client3         100000\n",
       "client4           2000"
      ]
     },
     "execution_count": 30,
     "metadata": {},
     "output_type": "execute_result"
    }
   ],
   "source": [
    "bank_client_df.filter(like='$', axis=1)"
   ]
  },
  {
   "cell_type": "code",
   "execution_count": 31,
   "metadata": {},
   "outputs": [
    {
     "data": {
      "text/html": [
       "<div>\n",
       "<style scoped>\n",
       "    .dataframe tbody tr th:only-of-type {\n",
       "        vertical-align: middle;\n",
       "    }\n",
       "\n",
       "    .dataframe tbody tr th {\n",
       "        vertical-align: top;\n",
       "    }\n",
       "\n",
       "    .dataframe thead th {\n",
       "        text-align: right;\n",
       "    }\n",
       "</style>\n",
       "<table border=\"1\" class=\"dataframe\">\n",
       "  <thead>\n",
       "    <tr style=\"text-align: right;\">\n",
       "      <th></th>\n",
       "      <th>Client ID</th>\n",
       "      <th>Client Name</th>\n",
       "      <th>Net worth [$]</th>\n",
       "      <th>Years with bank</th>\n",
       "    </tr>\n",
       "  </thead>\n",
       "  <tbody>\n",
       "    <tr>\n",
       "      <th>client4</th>\n",
       "      <td>4</td>\n",
       "      <td>Morris</td>\n",
       "      <td>2000</td>\n",
       "      <td>15</td>\n",
       "    </tr>\n",
       "  </tbody>\n",
       "</table>\n",
       "</div>"
      ],
      "text/plain": [
       "         Client ID Client Name  Net worth [$]  Years with bank\n",
       "client4          4      Morris           2000               15"
      ]
     },
     "execution_count": 31,
     "metadata": {},
     "output_type": "execute_result"
    }
   ],
   "source": [
    "bank_client_df.filter(like='4', axis=0)"
   ]
  },
  {
   "cell_type": "markdown",
   "metadata": {},
   "source": [
    "---"
   ]
  },
  {
   "cell_type": "markdown",
   "metadata": {},
   "source": [
    "##### 행 추가 및 삭제"
   ]
  },
  {
   "cell_type": "code",
   "execution_count": 32,
   "metadata": {},
   "outputs": [
    {
     "name": "stdout",
     "output_type": "stream",
     "text": [
      "  name  midterm  final\n",
      "0  호랑이       95     85\n",
      "1   늑대       93     90\n",
      "2    양      100     10\n"
     ]
    }
   ],
   "source": [
    "students = [\n",
    "    {'name': '호랑이', 'midterm': 95, 'final': 85},\n",
    "    {'name': '늑대', 'midterm': 93, 'final': 90},\n",
    "    {'name': '양', 'midterm': 100, 'final': 10}\n",
    "]\n",
    "df  = pd.DataFrame(students)\n",
    "print(df)"
   ]
  },
  {
   "cell_type": "code",
   "execution_count": 33,
   "metadata": {},
   "outputs": [
    {
     "name": "stdout",
     "output_type": "stream",
     "text": [
      "  name  midterm  final\n",
      "0  호랑이       95     85\n",
      "1   늑대       93     90\n",
      "2    양      100     10\n",
      "3   하마       88     72\n"
     ]
    }
   ],
   "source": [
    "# 행 추가 1. loc 이용\n",
    "df.loc[len(df)] = ['하마', 88, 72]\n",
    "print(df)"
   ]
  },
  {
   "cell_type": "code",
   "execution_count": 34,
   "metadata": {},
   "outputs": [
    {
     "data": {
      "text/html": [
       "<div>\n",
       "<style scoped>\n",
       "    .dataframe tbody tr th:only-of-type {\n",
       "        vertical-align: middle;\n",
       "    }\n",
       "\n",
       "    .dataframe tbody tr th {\n",
       "        vertical-align: top;\n",
       "    }\n",
       "\n",
       "    .dataframe thead th {\n",
       "        text-align: right;\n",
       "    }\n",
       "</style>\n",
       "<table border=\"1\" class=\"dataframe\">\n",
       "  <thead>\n",
       "    <tr style=\"text-align: right;\">\n",
       "      <th></th>\n",
       "      <th>name</th>\n",
       "      <th>midterm</th>\n",
       "      <th>final</th>\n",
       "    </tr>\n",
       "  </thead>\n",
       "  <tbody>\n",
       "    <tr>\n",
       "      <th>0</th>\n",
       "      <td>호랑이</td>\n",
       "      <td>95</td>\n",
       "      <td>85</td>\n",
       "    </tr>\n",
       "    <tr>\n",
       "      <th>1</th>\n",
       "      <td>늑대</td>\n",
       "      <td>93</td>\n",
       "      <td>90</td>\n",
       "    </tr>\n",
       "    <tr>\n",
       "      <th>2</th>\n",
       "      <td>양</td>\n",
       "      <td>100</td>\n",
       "      <td>10</td>\n",
       "    </tr>\n",
       "    <tr>\n",
       "      <th>3</th>\n",
       "      <td>하마</td>\n",
       "      <td>88</td>\n",
       "      <td>72</td>\n",
       "    </tr>\n",
       "    <tr>\n",
       "      <th>4</th>\n",
       "      <td>곰</td>\n",
       "      <td>99</td>\n",
       "      <td>24</td>\n",
       "    </tr>\n",
       "  </tbody>\n",
       "</table>\n",
       "</div>"
      ],
      "text/plain": [
       "  name  midterm  final\n",
       "0  호랑이       95     85\n",
       "1   늑대       93     90\n",
       "2    양      100     10\n",
       "3   하마       88     72\n",
       "4    곰       99     24"
      ]
     },
     "execution_count": 34,
     "metadata": {},
     "output_type": "execute_result"
    }
   ],
   "source": [
    "# 행 추가 2. pd.concat() 이용 : DataFrame 경합\n",
    "add_student_df = pd.DataFrame([['곰', 99, 24]], columns=['name', 'midterm', 'final'])\n",
    "df = pd.concat([df, add_student_df], ignore_index=True)  # ignore_index : 인덱스를 새로 부여\n",
    "df"
   ]
  },
  {
   "cell_type": "code",
   "execution_count": 35,
   "metadata": {},
   "outputs": [
    {
     "data": {
      "text/html": [
       "<div>\n",
       "<style scoped>\n",
       "    .dataframe tbody tr th:only-of-type {\n",
       "        vertical-align: middle;\n",
       "    }\n",
       "\n",
       "    .dataframe tbody tr th {\n",
       "        vertical-align: top;\n",
       "    }\n",
       "\n",
       "    .dataframe thead th {\n",
       "        text-align: right;\n",
       "    }\n",
       "</style>\n",
       "<table border=\"1\" class=\"dataframe\">\n",
       "  <thead>\n",
       "    <tr style=\"text-align: right;\">\n",
       "      <th></th>\n",
       "      <th>name</th>\n",
       "      <th>midterm</th>\n",
       "      <th>final</th>\n",
       "    </tr>\n",
       "  </thead>\n",
       "  <tbody>\n",
       "    <tr>\n",
       "      <th>1</th>\n",
       "      <td>늑대</td>\n",
       "      <td>93</td>\n",
       "      <td>90</td>\n",
       "    </tr>\n",
       "    <tr>\n",
       "      <th>2</th>\n",
       "      <td>양</td>\n",
       "      <td>100</td>\n",
       "      <td>10</td>\n",
       "    </tr>\n",
       "    <tr>\n",
       "      <th>3</th>\n",
       "      <td>하마</td>\n",
       "      <td>88</td>\n",
       "      <td>72</td>\n",
       "    </tr>\n",
       "    <tr>\n",
       "      <th>4</th>\n",
       "      <td>곰</td>\n",
       "      <td>99</td>\n",
       "      <td>24</td>\n",
       "    </tr>\n",
       "  </tbody>\n",
       "</table>\n",
       "</div>"
      ],
      "text/plain": [
       "  name  midterm  final\n",
       "1   늑대       93     90\n",
       "2    양      100     10\n",
       "3   하마       88     72\n",
       "4    곰       99     24"
      ]
     },
     "execution_count": 35,
     "metadata": {},
     "output_type": "execute_result"
    }
   ],
   "source": [
    "# 행 삭제\n",
    "# index 이용\n",
    "# df = df.drop(df.index[0])\n",
    "df.drop(df.index[0], inplace=True)\n",
    "df"
   ]
  },
  {
   "cell_type": "markdown",
   "metadata": {},
   "source": [
    "---"
   ]
  },
  {
   "cell_type": "markdown",
   "metadata": {},
   "source": [
    "##### 컬럼 추가"
   ]
  },
  {
   "cell_type": "code",
   "execution_count": 36,
   "metadata": {},
   "outputs": [],
   "source": [
    "df = pd.DataFrame ({\n",
    "    '이름': ['준호', '준희', '상익', '호진'],\n",
    "    '위치': ['독산', '평양', '개성', '용산'],\n",
    "    '성별': ['M', 'F', 'F', 'M']\n",
    "})"
   ]
  },
  {
   "cell_type": "code",
   "execution_count": 37,
   "metadata": {},
   "outputs": [
    {
     "data": {
      "text/html": [
       "<div>\n",
       "<style scoped>\n",
       "    .dataframe tbody tr th:only-of-type {\n",
       "        vertical-align: middle;\n",
       "    }\n",
       "\n",
       "    .dataframe tbody tr th {\n",
       "        vertical-align: top;\n",
       "    }\n",
       "\n",
       "    .dataframe thead th {\n",
       "        text-align: right;\n",
       "    }\n",
       "</style>\n",
       "<table border=\"1\" class=\"dataframe\">\n",
       "  <thead>\n",
       "    <tr style=\"text-align: right;\">\n",
       "      <th></th>\n",
       "      <th>이름</th>\n",
       "      <th>위치</th>\n",
       "      <th>성별</th>\n",
       "      <th>취미</th>\n",
       "    </tr>\n",
       "  </thead>\n",
       "  <tbody>\n",
       "    <tr>\n",
       "      <th>0</th>\n",
       "      <td>준호</td>\n",
       "      <td>독산</td>\n",
       "      <td>M</td>\n",
       "      <td>인공지능 공부</td>\n",
       "    </tr>\n",
       "    <tr>\n",
       "      <th>1</th>\n",
       "      <td>준희</td>\n",
       "      <td>평양</td>\n",
       "      <td>F</td>\n",
       "      <td>바보</td>\n",
       "    </tr>\n",
       "    <tr>\n",
       "      <th>2</th>\n",
       "      <td>상익</td>\n",
       "      <td>개성</td>\n",
       "      <td>F</td>\n",
       "      <td>멍청이</td>\n",
       "    </tr>\n",
       "    <tr>\n",
       "      <th>3</th>\n",
       "      <td>호진</td>\n",
       "      <td>용산</td>\n",
       "      <td>M</td>\n",
       "      <td>더 멍청이</td>\n",
       "    </tr>\n",
       "  </tbody>\n",
       "</table>\n",
       "</div>"
      ],
      "text/plain": [
       "   이름  위치 성별       취미\n",
       "0  준호  독산  M  인공지능 공부\n",
       "1  준희  평양  F       바보\n",
       "2  상익  개성  F      멍청이\n",
       "3  호진  용산  M    더 멍청이"
      ]
     },
     "execution_count": 37,
     "metadata": {},
     "output_type": "execute_result"
    }
   ],
   "source": [
    "# 컬럼명 이용\n",
    "df['취미'] = ['인공지능 공부', '바보', '멍청이', '더 멍청이']\n",
    "df"
   ]
  },
  {
   "cell_type": "code",
   "execution_count": 38,
   "metadata": {},
   "outputs": [
    {
     "data": {
      "text/plain": [
       "array(['남성', '여성', '여성', '남성'], dtype='<U2')"
      ]
     },
     "execution_count": 38,
     "metadata": {},
     "output_type": "execute_result"
    }
   ],
   "source": [
    "# 컬럼명과 np.where(조건, True일 떄 값, False일 때 값) -> ndarray\n",
    "df['성별(한글'] = np.where(df['성별'] == 'M', '남성', '여성')\n",
    "np.where(df['성별'] == 'M', '남성', '여성')"
   ]
  },
  {
   "cell_type": "code",
   "execution_count": 39,
   "metadata": {},
   "outputs": [],
   "source": [
    "df = pd.DataFrame ({\n",
    "    '이름': ['준호', '준희', '상익', '호진'],\n",
    "    '위치': ['독산', '평양', '개성', '용산'],\n",
    "    '성별': ['M', 'F', 'F', 'M'],\n",
    "    '키': [181, 155, 157, 140],\n",
    "    '체중': [71, 80, 90, 100]\n",
    "})"
   ]
  },
  {
   "cell_type": "code",
   "execution_count": 40,
   "metadata": {},
   "outputs": [
    {
     "data": {
      "text/html": [
       "<div>\n",
       "<style scoped>\n",
       "    .dataframe tbody tr th:only-of-type {\n",
       "        vertical-align: middle;\n",
       "    }\n",
       "\n",
       "    .dataframe tbody tr th {\n",
       "        vertical-align: top;\n",
       "    }\n",
       "\n",
       "    .dataframe thead th {\n",
       "        text-align: right;\n",
       "    }\n",
       "</style>\n",
       "<table border=\"1\" class=\"dataframe\">\n",
       "  <thead>\n",
       "    <tr style=\"text-align: right;\">\n",
       "      <th></th>\n",
       "      <th>이름</th>\n",
       "      <th>위치</th>\n",
       "      <th>성별</th>\n",
       "      <th>키</th>\n",
       "      <th>체중</th>\n",
       "      <th>BMI</th>\n",
       "    </tr>\n",
       "  </thead>\n",
       "  <tbody>\n",
       "    <tr>\n",
       "      <th>0</th>\n",
       "      <td>준호</td>\n",
       "      <td>독산</td>\n",
       "      <td>M</td>\n",
       "      <td>181</td>\n",
       "      <td>71</td>\n",
       "      <td>21.672110</td>\n",
       "    </tr>\n",
       "    <tr>\n",
       "      <th>1</th>\n",
       "      <td>준희</td>\n",
       "      <td>평양</td>\n",
       "      <td>F</td>\n",
       "      <td>155</td>\n",
       "      <td>80</td>\n",
       "      <td>33.298647</td>\n",
       "    </tr>\n",
       "    <tr>\n",
       "      <th>2</th>\n",
       "      <td>상익</td>\n",
       "      <td>개성</td>\n",
       "      <td>F</td>\n",
       "      <td>157</td>\n",
       "      <td>90</td>\n",
       "      <td>36.512637</td>\n",
       "    </tr>\n",
       "    <tr>\n",
       "      <th>3</th>\n",
       "      <td>호진</td>\n",
       "      <td>용산</td>\n",
       "      <td>M</td>\n",
       "      <td>140</td>\n",
       "      <td>100</td>\n",
       "      <td>51.020408</td>\n",
       "    </tr>\n",
       "  </tbody>\n",
       "</table>\n",
       "</div>"
      ],
      "text/plain": [
       "   이름  위치 성별    키   체중        BMI\n",
       "0  준호  독산  M  181   71  21.672110\n",
       "1  준희  평양  F  155   80  33.298647\n",
       "2  상익  개성  F  157   90  36.512637\n",
       "3  호진  용산  M  140  100  51.020408"
      ]
     },
     "execution_count": 40,
     "metadata": {},
     "output_type": "execute_result"
    }
   ],
   "source": [
    "# 커럼명과 기존 컬럼 연산 이용\n",
    "df['BMI'] = df['체중']/ ((df['키'] * 0.01)**2)    # BMI = kg / m^2\n",
    "df"
   ]
  },
  {
   "cell_type": "code",
   "execution_count": 53,
   "metadata": {},
   "outputs": [
    {
     "data": {
      "text/html": [
       "<div>\n",
       "<style scoped>\n",
       "    .dataframe tbody tr th:only-of-type {\n",
       "        vertical-align: middle;\n",
       "    }\n",
       "\n",
       "    .dataframe tbody tr th {\n",
       "        vertical-align: top;\n",
       "    }\n",
       "\n",
       "    .dataframe thead th {\n",
       "        text-align: right;\n",
       "    }\n",
       "</style>\n",
       "<table border=\"1\" class=\"dataframe\">\n",
       "  <thead>\n",
       "    <tr style=\"text-align: right;\">\n",
       "      <th></th>\n",
       "      <th>이름</th>\n",
       "      <th>위치</th>\n",
       "      <th>성별</th>\n",
       "      <th>키</th>\n",
       "      <th>체중</th>\n",
       "      <th>BMI</th>\n",
       "      <th>BMI type</th>\n",
       "    </tr>\n",
       "  </thead>\n",
       "  <tbody>\n",
       "    <tr>\n",
       "      <th>0</th>\n",
       "      <td>준호</td>\n",
       "      <td>독산</td>\n",
       "      <td>M</td>\n",
       "      <td>181</td>\n",
       "      <td>71</td>\n",
       "      <td>21.672110</td>\n",
       "      <td>표준</td>\n",
       "    </tr>\n",
       "    <tr>\n",
       "      <th>1</th>\n",
       "      <td>준희</td>\n",
       "      <td>평양</td>\n",
       "      <td>F</td>\n",
       "      <td>155</td>\n",
       "      <td>80</td>\n",
       "      <td>33.298647</td>\n",
       "      <td>비만</td>\n",
       "    </tr>\n",
       "    <tr>\n",
       "      <th>2</th>\n",
       "      <td>상익</td>\n",
       "      <td>개성</td>\n",
       "      <td>F</td>\n",
       "      <td>157</td>\n",
       "      <td>90</td>\n",
       "      <td>36.512637</td>\n",
       "      <td>비만</td>\n",
       "    </tr>\n",
       "    <tr>\n",
       "      <th>3</th>\n",
       "      <td>호진</td>\n",
       "      <td>용산</td>\n",
       "      <td>M</td>\n",
       "      <td>140</td>\n",
       "      <td>100</td>\n",
       "      <td>51.020408</td>\n",
       "      <td>비만</td>\n",
       "    </tr>\n",
       "  </tbody>\n",
       "</table>\n",
       "</div>"
      ],
      "text/plain": [
       "   이름  위치 성별    키   체중        BMI BMI type\n",
       "0  준호  독산  M  181   71  21.672110       표준\n",
       "1  준희  평양  F  155   80  33.298647       비만\n",
       "2  상익  개성  F  157   90  36.512637       비만\n",
       "3  호진  용산  M  140  100  51.020408       비만"
      ]
     },
     "execution_count": 53,
     "metadata": {},
     "output_type": "execute_result"
    }
   ],
   "source": [
    "# apply\n",
    "def get_type(value):\n",
    "    if value < 18:\n",
    "        return '저체중'\n",
    "    elif value > 30:\n",
    "        return '비만'\n",
    "    else:\n",
    "        return '표준'\n",
    "    \n",
    "df['BMI type'] = df['BMI'].apply(get_type)\n",
    "df"
   ]
  },
  {
   "cell_type": "code",
   "execution_count": 54,
   "metadata": {},
   "outputs": [
    {
     "data": {
      "text/html": [
       "<div>\n",
       "<style scoped>\n",
       "    .dataframe tbody tr th:only-of-type {\n",
       "        vertical-align: middle;\n",
       "    }\n",
       "\n",
       "    .dataframe tbody tr th {\n",
       "        vertical-align: top;\n",
       "    }\n",
       "\n",
       "    .dataframe thead th {\n",
       "        text-align: right;\n",
       "    }\n",
       "</style>\n",
       "<table border=\"1\" class=\"dataframe\">\n",
       "  <thead>\n",
       "    <tr style=\"text-align: right;\">\n",
       "      <th></th>\n",
       "      <th>이름</th>\n",
       "      <th>위치</th>\n",
       "      <th>성별</th>\n",
       "      <th>키</th>\n",
       "      <th>체중</th>\n",
       "      <th>BMI</th>\n",
       "    </tr>\n",
       "  </thead>\n",
       "  <tbody>\n",
       "    <tr>\n",
       "      <th>0</th>\n",
       "      <td>준호</td>\n",
       "      <td>독산</td>\n",
       "      <td>M</td>\n",
       "      <td>181</td>\n",
       "      <td>71</td>\n",
       "      <td>21.672110</td>\n",
       "    </tr>\n",
       "    <tr>\n",
       "      <th>1</th>\n",
       "      <td>준희</td>\n",
       "      <td>평양</td>\n",
       "      <td>F</td>\n",
       "      <td>155</td>\n",
       "      <td>80</td>\n",
       "      <td>33.298647</td>\n",
       "    </tr>\n",
       "    <tr>\n",
       "      <th>2</th>\n",
       "      <td>상익</td>\n",
       "      <td>개성</td>\n",
       "      <td>F</td>\n",
       "      <td>157</td>\n",
       "      <td>90</td>\n",
       "      <td>36.512637</td>\n",
       "    </tr>\n",
       "    <tr>\n",
       "      <th>3</th>\n",
       "      <td>호진</td>\n",
       "      <td>용산</td>\n",
       "      <td>M</td>\n",
       "      <td>140</td>\n",
       "      <td>100</td>\n",
       "      <td>51.020408</td>\n",
       "    </tr>\n",
       "  </tbody>\n",
       "</table>\n",
       "</div>"
      ],
      "text/plain": [
       "   이름  위치 성별    키   체중        BMI\n",
       "0  준호  독산  M  181   71  21.672110\n",
       "1  준희  평양  F  155   80  33.298647\n",
       "2  상익  개성  F  157   90  36.512637\n",
       "3  호진  용산  M  140  100  51.020408"
      ]
     },
     "execution_count": 54,
     "metadata": {},
     "output_type": "execute_result"
    }
   ],
   "source": [
    "# 컬럼 삭제 : drop 이용\n",
    "df.drop('BMI type', axis=1, inplace=True)\n",
    "df"
   ]
  },
  {
   "cell_type": "markdown",
   "metadata": {},
   "source": [
    "---"
   ]
  },
  {
   "cell_type": "markdown",
   "metadata": {},
   "source": [
    "##### 정렬"
   ]
  },
  {
   "cell_type": "code",
   "execution_count": 55,
   "metadata": {},
   "outputs": [
    {
     "data": {
      "text/html": [
       "<div>\n",
       "<style scoped>\n",
       "    .dataframe tbody tr th:only-of-type {\n",
       "        vertical-align: middle;\n",
       "    }\n",
       "\n",
       "    .dataframe tbody tr th {\n",
       "        vertical-align: top;\n",
       "    }\n",
       "\n",
       "    .dataframe thead th {\n",
       "        text-align: right;\n",
       "    }\n",
       "</style>\n",
       "<table border=\"1\" class=\"dataframe\">\n",
       "  <thead>\n",
       "    <tr style=\"text-align: right;\">\n",
       "      <th></th>\n",
       "      <th>First Name</th>\n",
       "      <th>Last Name</th>\n",
       "      <th>Email</th>\n",
       "      <th>Postal Code</th>\n",
       "      <th>Net Worth</th>\n",
       "      <th>Years with Bank</th>\n",
       "    </tr>\n",
       "  </thead>\n",
       "  <tbody>\n",
       "    <tr>\n",
       "      <th>0</th>\n",
       "      <td>Bird</td>\n",
       "      <td>Steve</td>\n",
       "      <td>bird@gmail.com</td>\n",
       "      <td>N94 3M0</td>\n",
       "      <td>5000.00</td>\n",
       "      <td>5</td>\n",
       "    </tr>\n",
       "    <tr>\n",
       "      <th>1</th>\n",
       "      <td>Noah</td>\n",
       "      <td>Small</td>\n",
       "      <td>nsmall@hotmail.com</td>\n",
       "      <td>N8S 14K</td>\n",
       "      <td>10000.00</td>\n",
       "      <td>6</td>\n",
       "    </tr>\n",
       "    <tr>\n",
       "      <th>2</th>\n",
       "      <td>Nina</td>\n",
       "      <td>Keller</td>\n",
       "      <td>azikez@gahew.mr</td>\n",
       "      <td>S1T 4E6</td>\n",
       "      <td>9072.02</td>\n",
       "      <td>7</td>\n",
       "    </tr>\n",
       "    <tr>\n",
       "      <th>3</th>\n",
       "      <td>Chanel</td>\n",
       "      <td>Steve</td>\n",
       "      <td>chanel@gmail.com</td>\n",
       "      <td>N7T 3E6</td>\n",
       "      <td>11072.02</td>\n",
       "      <td>10</td>\n",
       "    </tr>\n",
       "    <tr>\n",
       "      <th>4</th>\n",
       "      <td>Kate</td>\n",
       "      <td>Noor</td>\n",
       "      <td>kate@hotmail.com</td>\n",
       "      <td>K8N 5H6</td>\n",
       "      <td>5000.00</td>\n",
       "      <td>22</td>\n",
       "    </tr>\n",
       "    <tr>\n",
       "      <th>5</th>\n",
       "      <td>Samer</td>\n",
       "      <td>Mo</td>\n",
       "      <td>samer@gmail.com</td>\n",
       "      <td>J7H 3HY</td>\n",
       "      <td>100000.00</td>\n",
       "      <td>26</td>\n",
       "    </tr>\n",
       "    <tr>\n",
       "      <th>6</th>\n",
       "      <td>Heba</td>\n",
       "      <td>Ismail</td>\n",
       "      <td>heba.ismail@hotmail.com</td>\n",
       "      <td>K8Y 3M8</td>\n",
       "      <td>50000.00</td>\n",
       "      <td>11</td>\n",
       "    </tr>\n",
       "    <tr>\n",
       "      <th>7</th>\n",
       "      <td>Laila</td>\n",
       "      <td>Ahmed</td>\n",
       "      <td>Laila.a@hotmail.com</td>\n",
       "      <td>J8Y 3M0</td>\n",
       "      <td>20000.00</td>\n",
       "      <td>3</td>\n",
       "    </tr>\n",
       "    <tr>\n",
       "      <th>8</th>\n",
       "      <td>Joseph</td>\n",
       "      <td>Patton</td>\n",
       "      <td>daafeja@boh.jm</td>\n",
       "      <td>M6U 5U7</td>\n",
       "      <td>2629.13</td>\n",
       "      <td>1</td>\n",
       "    </tr>\n",
       "    <tr>\n",
       "      <th>9</th>\n",
       "      <td>Noah</td>\n",
       "      <td>Moran</td>\n",
       "      <td>guutodi@bigwoc.kw</td>\n",
       "      <td>K2D 4M9</td>\n",
       "      <td>8626.96</td>\n",
       "      <td>13</td>\n",
       "    </tr>\n",
       "  </tbody>\n",
       "</table>\n",
       "</div>"
      ],
      "text/plain": [
       "  First Name Last Name                    Email Postal Code  Net Worth  \\\n",
       "0      Bird      Steve           bird@gmail.com     N94 3M0    5000.00   \n",
       "1       Noah     Small       nsmall@hotmail.com     N8S 14K   10000.00   \n",
       "2       Nina    Keller          azikez@gahew.mr     S1T 4E6    9072.02   \n",
       "3    Chanel      Steve         chanel@gmail.com     N7T 3E6   11072.02   \n",
       "4       Kate      Noor         kate@hotmail.com     K8N 5H6    5000.00   \n",
       "5      Samer        Mo          samer@gmail.com     J7H 3HY  100000.00   \n",
       "6       Heba    Ismail  heba.ismail@hotmail.com     K8Y 3M8   50000.00   \n",
       "7      Laila     Ahmed      Laila.a@hotmail.com     J8Y 3M0   20000.00   \n",
       "8     Joseph    Patton           daafeja@boh.jm     M6U 5U7    2629.13   \n",
       "9       Noah     Moran        guutodi@bigwoc.kw     K2D 4M9    8626.96   \n",
       "\n",
       "   Years with Bank  \n",
       "0                5  \n",
       "1                6  \n",
       "2                7  \n",
       "3               10  \n",
       "4               22  \n",
       "5               26  \n",
       "6               11  \n",
       "7                3  \n",
       "8                1  \n",
       "9               13  "
      ]
     },
     "execution_count": 55,
     "metadata": {},
     "output_type": "execute_result"
    }
   ],
   "source": [
    "df = pd.read_csv('data/bank_client_information.csv')\n",
    "df"
   ]
  },
  {
   "cell_type": "code",
   "execution_count": 57,
   "metadata": {},
   "outputs": [
    {
     "data": {
      "text/html": [
       "<div>\n",
       "<style scoped>\n",
       "    .dataframe tbody tr th:only-of-type {\n",
       "        vertical-align: middle;\n",
       "    }\n",
       "\n",
       "    .dataframe tbody tr th {\n",
       "        vertical-align: top;\n",
       "    }\n",
       "\n",
       "    .dataframe thead th {\n",
       "        text-align: right;\n",
       "    }\n",
       "</style>\n",
       "<table border=\"1\" class=\"dataframe\">\n",
       "  <thead>\n",
       "    <tr style=\"text-align: right;\">\n",
       "      <th></th>\n",
       "      <th>First Name</th>\n",
       "      <th>Last Name</th>\n",
       "      <th>Email</th>\n",
       "      <th>Postal Code</th>\n",
       "      <th>Net Worth</th>\n",
       "      <th>Years with Bank</th>\n",
       "    </tr>\n",
       "  </thead>\n",
       "  <tbody>\n",
       "    <tr>\n",
       "      <th>5</th>\n",
       "      <td>Samer</td>\n",
       "      <td>Mo</td>\n",
       "      <td>samer@gmail.com</td>\n",
       "      <td>J7H 3HY</td>\n",
       "      <td>100000.00</td>\n",
       "      <td>26</td>\n",
       "    </tr>\n",
       "    <tr>\n",
       "      <th>6</th>\n",
       "      <td>Heba</td>\n",
       "      <td>Ismail</td>\n",
       "      <td>heba.ismail@hotmail.com</td>\n",
       "      <td>K8Y 3M8</td>\n",
       "      <td>50000.00</td>\n",
       "      <td>11</td>\n",
       "    </tr>\n",
       "    <tr>\n",
       "      <th>7</th>\n",
       "      <td>Laila</td>\n",
       "      <td>Ahmed</td>\n",
       "      <td>Laila.a@hotmail.com</td>\n",
       "      <td>J8Y 3M0</td>\n",
       "      <td>20000.00</td>\n",
       "      <td>3</td>\n",
       "    </tr>\n",
       "    <tr>\n",
       "      <th>3</th>\n",
       "      <td>Chanel</td>\n",
       "      <td>Steve</td>\n",
       "      <td>chanel@gmail.com</td>\n",
       "      <td>N7T 3E6</td>\n",
       "      <td>11072.02</td>\n",
       "      <td>10</td>\n",
       "    </tr>\n",
       "    <tr>\n",
       "      <th>1</th>\n",
       "      <td>Noah</td>\n",
       "      <td>Small</td>\n",
       "      <td>nsmall@hotmail.com</td>\n",
       "      <td>N8S 14K</td>\n",
       "      <td>10000.00</td>\n",
       "      <td>6</td>\n",
       "    </tr>\n",
       "    <tr>\n",
       "      <th>2</th>\n",
       "      <td>Nina</td>\n",
       "      <td>Keller</td>\n",
       "      <td>azikez@gahew.mr</td>\n",
       "      <td>S1T 4E6</td>\n",
       "      <td>9072.02</td>\n",
       "      <td>7</td>\n",
       "    </tr>\n",
       "    <tr>\n",
       "      <th>9</th>\n",
       "      <td>Noah</td>\n",
       "      <td>Moran</td>\n",
       "      <td>guutodi@bigwoc.kw</td>\n",
       "      <td>K2D 4M9</td>\n",
       "      <td>8626.96</td>\n",
       "      <td>13</td>\n",
       "    </tr>\n",
       "    <tr>\n",
       "      <th>0</th>\n",
       "      <td>Bird</td>\n",
       "      <td>Steve</td>\n",
       "      <td>bird@gmail.com</td>\n",
       "      <td>N94 3M0</td>\n",
       "      <td>5000.00</td>\n",
       "      <td>5</td>\n",
       "    </tr>\n",
       "    <tr>\n",
       "      <th>4</th>\n",
       "      <td>Kate</td>\n",
       "      <td>Noor</td>\n",
       "      <td>kate@hotmail.com</td>\n",
       "      <td>K8N 5H6</td>\n",
       "      <td>5000.00</td>\n",
       "      <td>22</td>\n",
       "    </tr>\n",
       "    <tr>\n",
       "      <th>8</th>\n",
       "      <td>Joseph</td>\n",
       "      <td>Patton</td>\n",
       "      <td>daafeja@boh.jm</td>\n",
       "      <td>M6U 5U7</td>\n",
       "      <td>2629.13</td>\n",
       "      <td>1</td>\n",
       "    </tr>\n",
       "  </tbody>\n",
       "</table>\n",
       "</div>"
      ],
      "text/plain": [
       "  First Name Last Name                    Email Postal Code  Net Worth  \\\n",
       "5      Samer        Mo          samer@gmail.com     J7H 3HY  100000.00   \n",
       "6       Heba    Ismail  heba.ismail@hotmail.com     K8Y 3M8   50000.00   \n",
       "7      Laila     Ahmed      Laila.a@hotmail.com     J8Y 3M0   20000.00   \n",
       "3    Chanel      Steve         chanel@gmail.com     N7T 3E6   11072.02   \n",
       "1       Noah     Small       nsmall@hotmail.com     N8S 14K   10000.00   \n",
       "2       Nina    Keller          azikez@gahew.mr     S1T 4E6    9072.02   \n",
       "9       Noah     Moran        guutodi@bigwoc.kw     K2D 4M9    8626.96   \n",
       "0      Bird      Steve           bird@gmail.com     N94 3M0    5000.00   \n",
       "4       Kate      Noor         kate@hotmail.com     K8N 5H6    5000.00   \n",
       "8     Joseph    Patton           daafeja@boh.jm     M6U 5U7    2629.13   \n",
       "\n",
       "   Years with Bank  \n",
       "5               26  \n",
       "6               11  \n",
       "7                3  \n",
       "3               10  \n",
       "1                6  \n",
       "2                7  \n",
       "9               13  \n",
       "0                5  \n",
       "4               22  \n",
       "8                1  "
      ]
     },
     "execution_count": 57,
     "metadata": {},
     "output_type": "execute_result"
    }
   ],
   "source": [
    "df.sort_values('Net Worth', ascending=False)"
   ]
  },
  {
   "cell_type": "code",
   "execution_count": 58,
   "metadata": {},
   "outputs": [
    {
     "data": {
      "text/html": [
       "<div>\n",
       "<style scoped>\n",
       "    .dataframe tbody tr th:only-of-type {\n",
       "        vertical-align: middle;\n",
       "    }\n",
       "\n",
       "    .dataframe tbody tr th {\n",
       "        vertical-align: top;\n",
       "    }\n",
       "\n",
       "    .dataframe thead th {\n",
       "        text-align: right;\n",
       "    }\n",
       "</style>\n",
       "<table border=\"1\" class=\"dataframe\">\n",
       "  <thead>\n",
       "    <tr style=\"text-align: right;\">\n",
       "      <th></th>\n",
       "      <th>First Name</th>\n",
       "      <th>Last Name</th>\n",
       "      <th>Email</th>\n",
       "      <th>Postal Code</th>\n",
       "      <th>Net Worth</th>\n",
       "      <th>Years with Bank</th>\n",
       "    </tr>\n",
       "  </thead>\n",
       "  <tbody>\n",
       "    <tr>\n",
       "      <th>5</th>\n",
       "      <td>Samer</td>\n",
       "      <td>Mo</td>\n",
       "      <td>samer@gmail.com</td>\n",
       "      <td>J7H 3HY</td>\n",
       "      <td>100000.00</td>\n",
       "      <td>26</td>\n",
       "    </tr>\n",
       "    <tr>\n",
       "      <th>4</th>\n",
       "      <td>Kate</td>\n",
       "      <td>Noor</td>\n",
       "      <td>kate@hotmail.com</td>\n",
       "      <td>K8N 5H6</td>\n",
       "      <td>5000.00</td>\n",
       "      <td>22</td>\n",
       "    </tr>\n",
       "    <tr>\n",
       "      <th>9</th>\n",
       "      <td>Noah</td>\n",
       "      <td>Moran</td>\n",
       "      <td>guutodi@bigwoc.kw</td>\n",
       "      <td>K2D 4M9</td>\n",
       "      <td>8626.96</td>\n",
       "      <td>13</td>\n",
       "    </tr>\n",
       "    <tr>\n",
       "      <th>6</th>\n",
       "      <td>Heba</td>\n",
       "      <td>Ismail</td>\n",
       "      <td>heba.ismail@hotmail.com</td>\n",
       "      <td>K8Y 3M8</td>\n",
       "      <td>50000.00</td>\n",
       "      <td>11</td>\n",
       "    </tr>\n",
       "    <tr>\n",
       "      <th>3</th>\n",
       "      <td>Chanel</td>\n",
       "      <td>Steve</td>\n",
       "      <td>chanel@gmail.com</td>\n",
       "      <td>N7T 3E6</td>\n",
       "      <td>11072.02</td>\n",
       "      <td>10</td>\n",
       "    </tr>\n",
       "    <tr>\n",
       "      <th>2</th>\n",
       "      <td>Nina</td>\n",
       "      <td>Keller</td>\n",
       "      <td>azikez@gahew.mr</td>\n",
       "      <td>S1T 4E6</td>\n",
       "      <td>9072.02</td>\n",
       "      <td>7</td>\n",
       "    </tr>\n",
       "    <tr>\n",
       "      <th>1</th>\n",
       "      <td>Noah</td>\n",
       "      <td>Small</td>\n",
       "      <td>nsmall@hotmail.com</td>\n",
       "      <td>N8S 14K</td>\n",
       "      <td>10000.00</td>\n",
       "      <td>6</td>\n",
       "    </tr>\n",
       "    <tr>\n",
       "      <th>0</th>\n",
       "      <td>Bird</td>\n",
       "      <td>Steve</td>\n",
       "      <td>bird@gmail.com</td>\n",
       "      <td>N94 3M0</td>\n",
       "      <td>5000.00</td>\n",
       "      <td>5</td>\n",
       "    </tr>\n",
       "    <tr>\n",
       "      <th>7</th>\n",
       "      <td>Laila</td>\n",
       "      <td>Ahmed</td>\n",
       "      <td>Laila.a@hotmail.com</td>\n",
       "      <td>J8Y 3M0</td>\n",
       "      <td>20000.00</td>\n",
       "      <td>3</td>\n",
       "    </tr>\n",
       "    <tr>\n",
       "      <th>8</th>\n",
       "      <td>Joseph</td>\n",
       "      <td>Patton</td>\n",
       "      <td>daafeja@boh.jm</td>\n",
       "      <td>M6U 5U7</td>\n",
       "      <td>2629.13</td>\n",
       "      <td>1</td>\n",
       "    </tr>\n",
       "  </tbody>\n",
       "</table>\n",
       "</div>"
      ],
      "text/plain": [
       "  First Name Last Name                    Email Postal Code  Net Worth  \\\n",
       "5      Samer        Mo          samer@gmail.com     J7H 3HY  100000.00   \n",
       "4       Kate      Noor         kate@hotmail.com     K8N 5H6    5000.00   \n",
       "9       Noah     Moran        guutodi@bigwoc.kw     K2D 4M9    8626.96   \n",
       "6       Heba    Ismail  heba.ismail@hotmail.com     K8Y 3M8   50000.00   \n",
       "3    Chanel      Steve         chanel@gmail.com     N7T 3E6   11072.02   \n",
       "2       Nina    Keller          azikez@gahew.mr     S1T 4E6    9072.02   \n",
       "1       Noah     Small       nsmall@hotmail.com     N8S 14K   10000.00   \n",
       "0      Bird      Steve           bird@gmail.com     N94 3M0    5000.00   \n",
       "7      Laila     Ahmed      Laila.a@hotmail.com     J8Y 3M0   20000.00   \n",
       "8     Joseph    Patton           daafeja@boh.jm     M6U 5U7    2629.13   \n",
       "\n",
       "   Years with Bank  \n",
       "5               26  \n",
       "4               22  \n",
       "9               13  \n",
       "6               11  \n",
       "3               10  \n",
       "2                7  \n",
       "1                6  \n",
       "0                5  \n",
       "7                3  \n",
       "8                1  "
      ]
     },
     "execution_count": 58,
     "metadata": {},
     "output_type": "execute_result"
    }
   ],
   "source": [
    "# 오래된 고객순으로 출력\n",
    "df.sort_values('Years with Bank', ascending=False)"
   ]
  },
  {
   "cell_type": "code",
   "execution_count": 67,
   "metadata": {},
   "outputs": [
    {
     "data": {
      "text/html": [
       "<div>\n",
       "<style scoped>\n",
       "    .dataframe tbody tr th:only-of-type {\n",
       "        vertical-align: middle;\n",
       "    }\n",
       "\n",
       "    .dataframe tbody tr th {\n",
       "        vertical-align: top;\n",
       "    }\n",
       "\n",
       "    .dataframe thead th {\n",
       "        text-align: right;\n",
       "    }\n",
       "</style>\n",
       "<table border=\"1\" class=\"dataframe\">\n",
       "  <thead>\n",
       "    <tr style=\"text-align: right;\">\n",
       "      <th></th>\n",
       "      <th>First Name</th>\n",
       "      <th>Last Name</th>\n",
       "      <th>Email</th>\n",
       "      <th>Postal Code</th>\n",
       "      <th>Net Worth</th>\n",
       "      <th>Years with Bank</th>\n",
       "    </tr>\n",
       "  </thead>\n",
       "  <tbody>\n",
       "    <tr>\n",
       "      <th>5</th>\n",
       "      <td>Samer</td>\n",
       "      <td>Mo</td>\n",
       "      <td>samer@gmail.com</td>\n",
       "      <td>J7H 3HY</td>\n",
       "      <td>100000.00</td>\n",
       "      <td>26</td>\n",
       "    </tr>\n",
       "    <tr>\n",
       "      <th>6</th>\n",
       "      <td>Heba</td>\n",
       "      <td>Ismail</td>\n",
       "      <td>heba.ismail@hotmail.com</td>\n",
       "      <td>K8Y 3M8</td>\n",
       "      <td>50000.00</td>\n",
       "      <td>11</td>\n",
       "    </tr>\n",
       "    <tr>\n",
       "      <th>7</th>\n",
       "      <td>Laila</td>\n",
       "      <td>Ahmed</td>\n",
       "      <td>Laila.a@hotmail.com</td>\n",
       "      <td>J8Y 3M0</td>\n",
       "      <td>20000.00</td>\n",
       "      <td>3</td>\n",
       "    </tr>\n",
       "    <tr>\n",
       "      <th>3</th>\n",
       "      <td>Chanel</td>\n",
       "      <td>Steve</td>\n",
       "      <td>chanel@gmail.com</td>\n",
       "      <td>N7T 3E6</td>\n",
       "      <td>11072.02</td>\n",
       "      <td>10</td>\n",
       "    </tr>\n",
       "    <tr>\n",
       "      <th>1</th>\n",
       "      <td>Noah</td>\n",
       "      <td>Small</td>\n",
       "      <td>nsmall@hotmail.com</td>\n",
       "      <td>N8S 14K</td>\n",
       "      <td>10000.00</td>\n",
       "      <td>6</td>\n",
       "    </tr>\n",
       "    <tr>\n",
       "      <th>2</th>\n",
       "      <td>Nina</td>\n",
       "      <td>Keller</td>\n",
       "      <td>azikez@gahew.mr</td>\n",
       "      <td>S1T 4E6</td>\n",
       "      <td>9072.02</td>\n",
       "      <td>7</td>\n",
       "    </tr>\n",
       "    <tr>\n",
       "      <th>9</th>\n",
       "      <td>Noah</td>\n",
       "      <td>Moran</td>\n",
       "      <td>guutodi@bigwoc.kw</td>\n",
       "      <td>K2D 4M9</td>\n",
       "      <td>8626.96</td>\n",
       "      <td>13</td>\n",
       "    </tr>\n",
       "    <tr>\n",
       "      <th>4</th>\n",
       "      <td>Kate</td>\n",
       "      <td>Noor</td>\n",
       "      <td>kate@hotmail.com</td>\n",
       "      <td>K8N 5H6</td>\n",
       "      <td>5000.00</td>\n",
       "      <td>22</td>\n",
       "    </tr>\n",
       "    <tr>\n",
       "      <th>0</th>\n",
       "      <td>Bird</td>\n",
       "      <td>Steve</td>\n",
       "      <td>bird@gmail.com</td>\n",
       "      <td>N94 3M0</td>\n",
       "      <td>5000.00</td>\n",
       "      <td>5</td>\n",
       "    </tr>\n",
       "    <tr>\n",
       "      <th>8</th>\n",
       "      <td>Joseph</td>\n",
       "      <td>Patton</td>\n",
       "      <td>daafeja@boh.jm</td>\n",
       "      <td>M6U 5U7</td>\n",
       "      <td>2629.13</td>\n",
       "      <td>1</td>\n",
       "    </tr>\n",
       "  </tbody>\n",
       "</table>\n",
       "</div>"
      ],
      "text/plain": [
       "  First Name Last Name                    Email Postal Code  Net Worth  \\\n",
       "5      Samer        Mo          samer@gmail.com     J7H 3HY  100000.00   \n",
       "6       Heba    Ismail  heba.ismail@hotmail.com     K8Y 3M8   50000.00   \n",
       "7      Laila     Ahmed      Laila.a@hotmail.com     J8Y 3M0   20000.00   \n",
       "3    Chanel      Steve         chanel@gmail.com     N7T 3E6   11072.02   \n",
       "1       Noah     Small       nsmall@hotmail.com     N8S 14K   10000.00   \n",
       "2       Nina    Keller          azikez@gahew.mr     S1T 4E6    9072.02   \n",
       "9       Noah     Moran        guutodi@bigwoc.kw     K2D 4M9    8626.96   \n",
       "4       Kate      Noor         kate@hotmail.com     K8N 5H6    5000.00   \n",
       "0      Bird      Steve           bird@gmail.com     N94 3M0    5000.00   \n",
       "8     Joseph    Patton           daafeja@boh.jm     M6U 5U7    2629.13   \n",
       "\n",
       "   Years with Bank  \n",
       "5               26  \n",
       "6               11  \n",
       "7                3  \n",
       "3               10  \n",
       "1                6  \n",
       "2                7  \n",
       "9               13  \n",
       "4               22  \n",
       "0                5  \n",
       "8                1  "
      ]
     },
     "execution_count": 67,
     "metadata": {},
     "output_type": "execute_result"
    }
   ],
   "source": [
    "# 순자산이 많고 오래된 고객순\n",
    "# 정렬 기준으로 n개의 컬럼을 사용할 수 있으며, 이때 ascending 속성 역시 짝을 맞추어 n개 전달 \n",
    "df.sort_values(['Net Worth','Years with Bank'], ascending=[False, False])"
   ]
  },
  {
   "cell_type": "code",
   "execution_count": 72,
   "metadata": {},
   "outputs": [
    {
     "data": {
      "text/html": [
       "<div>\n",
       "<style scoped>\n",
       "    .dataframe tbody tr th:only-of-type {\n",
       "        vertical-align: middle;\n",
       "    }\n",
       "\n",
       "    .dataframe tbody tr th {\n",
       "        vertical-align: top;\n",
       "    }\n",
       "\n",
       "    .dataframe thead th {\n",
       "        text-align: right;\n",
       "    }\n",
       "</style>\n",
       "<table border=\"1\" class=\"dataframe\">\n",
       "  <thead>\n",
       "    <tr style=\"text-align: right;\">\n",
       "      <th></th>\n",
       "      <th>First Name</th>\n",
       "      <th>Last Name</th>\n",
       "      <th>Email</th>\n",
       "      <th>Postal Code</th>\n",
       "      <th>Net Worth</th>\n",
       "      <th>Years with Bank</th>\n",
       "      <th>Rank</th>\n",
       "    </tr>\n",
       "  </thead>\n",
       "  <tbody>\n",
       "    <tr>\n",
       "      <th>5</th>\n",
       "      <td>Samer</td>\n",
       "      <td>Mo</td>\n",
       "      <td>samer@gmail.com</td>\n",
       "      <td>J7H 3HY</td>\n",
       "      <td>100000.00</td>\n",
       "      <td>26</td>\n",
       "      <td>1</td>\n",
       "    </tr>\n",
       "    <tr>\n",
       "      <th>6</th>\n",
       "      <td>Heba</td>\n",
       "      <td>Ismail</td>\n",
       "      <td>heba.ismail@hotmail.com</td>\n",
       "      <td>K8Y 3M8</td>\n",
       "      <td>50000.00</td>\n",
       "      <td>11</td>\n",
       "      <td>2</td>\n",
       "    </tr>\n",
       "    <tr>\n",
       "      <th>7</th>\n",
       "      <td>Laila</td>\n",
       "      <td>Ahmed</td>\n",
       "      <td>Laila.a@hotmail.com</td>\n",
       "      <td>J8Y 3M0</td>\n",
       "      <td>20000.00</td>\n",
       "      <td>3</td>\n",
       "      <td>3</td>\n",
       "    </tr>\n",
       "    <tr>\n",
       "      <th>3</th>\n",
       "      <td>Chanel</td>\n",
       "      <td>Steve</td>\n",
       "      <td>chanel@gmail.com</td>\n",
       "      <td>N7T 3E6</td>\n",
       "      <td>11072.02</td>\n",
       "      <td>10</td>\n",
       "      <td>4</td>\n",
       "    </tr>\n",
       "    <tr>\n",
       "      <th>1</th>\n",
       "      <td>Noah</td>\n",
       "      <td>Small</td>\n",
       "      <td>nsmall@hotmail.com</td>\n",
       "      <td>N8S 14K</td>\n",
       "      <td>10000.00</td>\n",
       "      <td>6</td>\n",
       "      <td>5</td>\n",
       "    </tr>\n",
       "    <tr>\n",
       "      <th>2</th>\n",
       "      <td>Nina</td>\n",
       "      <td>Keller</td>\n",
       "      <td>azikez@gahew.mr</td>\n",
       "      <td>S1T 4E6</td>\n",
       "      <td>9072.02</td>\n",
       "      <td>7</td>\n",
       "      <td>6</td>\n",
       "    </tr>\n",
       "    <tr>\n",
       "      <th>9</th>\n",
       "      <td>Noah</td>\n",
       "      <td>Moran</td>\n",
       "      <td>guutodi@bigwoc.kw</td>\n",
       "      <td>K2D 4M9</td>\n",
       "      <td>8626.96</td>\n",
       "      <td>13</td>\n",
       "      <td>7</td>\n",
       "    </tr>\n",
       "    <tr>\n",
       "      <th>0</th>\n",
       "      <td>Bird</td>\n",
       "      <td>Steve</td>\n",
       "      <td>bird@gmail.com</td>\n",
       "      <td>N94 3M0</td>\n",
       "      <td>5000.00</td>\n",
       "      <td>5</td>\n",
       "      <td>8</td>\n",
       "    </tr>\n",
       "    <tr>\n",
       "      <th>4</th>\n",
       "      <td>Kate</td>\n",
       "      <td>Noor</td>\n",
       "      <td>kate@hotmail.com</td>\n",
       "      <td>K8N 5H6</td>\n",
       "      <td>5000.00</td>\n",
       "      <td>22</td>\n",
       "      <td>8</td>\n",
       "    </tr>\n",
       "    <tr>\n",
       "      <th>8</th>\n",
       "      <td>Joseph</td>\n",
       "      <td>Patton</td>\n",
       "      <td>daafeja@boh.jm</td>\n",
       "      <td>M6U 5U7</td>\n",
       "      <td>2629.13</td>\n",
       "      <td>1</td>\n",
       "      <td>10</td>\n",
       "    </tr>\n",
       "  </tbody>\n",
       "</table>\n",
       "</div>"
      ],
      "text/plain": [
       "  First Name Last Name                    Email Postal Code  Net Worth  \\\n",
       "5      Samer        Mo          samer@gmail.com     J7H 3HY  100000.00   \n",
       "6       Heba    Ismail  heba.ismail@hotmail.com     K8Y 3M8   50000.00   \n",
       "7      Laila     Ahmed      Laila.a@hotmail.com     J8Y 3M0   20000.00   \n",
       "3    Chanel      Steve         chanel@gmail.com     N7T 3E6   11072.02   \n",
       "1       Noah     Small       nsmall@hotmail.com     N8S 14K   10000.00   \n",
       "2       Nina    Keller          azikez@gahew.mr     S1T 4E6    9072.02   \n",
       "9       Noah     Moran        guutodi@bigwoc.kw     K2D 4M9    8626.96   \n",
       "0      Bird      Steve           bird@gmail.com     N94 3M0    5000.00   \n",
       "4       Kate      Noor         kate@hotmail.com     K8N 5H6    5000.00   \n",
       "8     Joseph    Patton           daafeja@boh.jm     M6U 5U7    2629.13   \n",
       "\n",
       "   Years with Bank  Rank  \n",
       "5               26     1  \n",
       "6               11     2  \n",
       "7                3     3  \n",
       "3               10     4  \n",
       "1                6     5  \n",
       "2                7     6  \n",
       "9               13     7  \n",
       "0                5     8  \n",
       "4               22     8  \n",
       "8                1    10  "
      ]
     },
     "execution_count": 72,
     "metadata": {},
     "output_type": "execute_result"
    }
   ],
   "source": [
    "# rank()\n",
    "df['Rank'] = df['Net Worth'].rank(ascending=False).astype(int)\n",
    "df.sort_values('Rank')"
   ]
  }
 ],
 "metadata": {
  "kernelspec": {
   "display_name": "pystudy_env",
   "language": "python",
   "name": "python3"
  },
  "language_info": {
   "codemirror_mode": {
    "name": "ipython",
    "version": 3
   },
   "file_extension": ".py",
   "mimetype": "text/x-python",
   "name": "python",
   "nbconvert_exporter": "python",
   "pygments_lexer": "ipython3",
   "version": "3.12.9"
  }
 },
 "nbformat": 4,
 "nbformat_minor": 2
}
