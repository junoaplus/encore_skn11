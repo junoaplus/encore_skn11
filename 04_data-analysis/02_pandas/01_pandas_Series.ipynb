{
 "cells": [
  {
   "cell_type": "markdown",
   "metadata": {},
   "source": [
    "### oandas = Series\n",
    "    - index(label)ㅇ을 통해 처리 가능한 1차원 배열"
   ]
  },
  {
   "cell_type": "code",
   "execution_count": 81,
   "metadata": {},
   "outputs": [],
   "source": [
    "import pandas as pd\n",
    "import numpy as np"
   ]
  },
  {
   "cell_type": "markdown",
   "metadata": {},
   "source": [
    "---"
   ]
  },
  {
   "cell_type": "markdown",
   "metadata": {},
   "source": [
    "### Series 생성"
   ]
  },
  {
   "cell_type": "code",
   "execution_count": 82,
   "metadata": {},
   "outputs": [
    {
     "name": "stdout",
     "output_type": "stream",
     "text": [
      "<class 'pandas.core.series.Series'>\n",
      "NVDA\n",
      "0    NVDA\n",
      "1    MSFT\n",
      "2    AAPL\n",
      "3    GOOG\n",
      "4    TSLA\n",
      "Name: 미국 주식, dtype: object\n"
     ]
    }
   ],
   "source": [
    "# 파이썬 list 활용\n",
    "stocks = ['NVDA',  'MSFT', 'AAPL', 'GOOG', 'TSLA']\n",
    "stocks_ser = pd.Series(stocks)\n",
    "print(type(stocks_ser))\n",
    "print(stocks_ser[0])\n",
    "\n",
    "stocks_ser.name = '미국 주식'\n",
    "print(stocks_ser)"
   ]
  },
  {
   "cell_type": "code",
   "execution_count": 83,
   "metadata": {},
   "outputs": [
    {
     "name": "stdout",
     "output_type": "stream",
     "text": [
      "a    0.945124\n",
      "b    0.611691\n",
      "c    0.364860\n",
      "d    0.457461\n",
      "e    0.954446\n",
      "dtype: float64\n",
      "0.36486013589141697 0.36486013589141697\n",
      "0.36486013589141697 0.36486013589141697\n"
     ]
    },
    {
     "name": "stderr",
     "output_type": "stream",
     "text": [
      "/var/folders/3n/_m4swqjn32qg1gw1xlfsyvx00000gn/T/ipykernel_29818/1364345713.py:4: FutureWarning: Series.__getitem__ treating keys as positions is deprecated. In a future version, integer keys will always be treated as labels (consistent with DataFrame behavior). To access a value by position, use `ser.iloc[pos]`\n",
      "  print(nums_ser[2], nums_ser['c'])\n"
     ]
    }
   ],
   "source": [
    "# ndarray 활용\n",
    "nums_ser = pd.Series(np.random.rand(5), index=['a', 'b', 'c', 'd', 'e'])\n",
    "print(nums_ser)\n",
    "print(nums_ser[2], nums_ser['c'])\n",
    "print(nums_ser.iloc[2], nums_ser.loc['c'])\n",
    "# iloc(integer location) : 인덱스를 통한 참조\n",
    "# loc(location) : 인덱스 라벨을 통한 참조"
   ]
  },
  {
   "cell_type": "code",
   "execution_count": 84,
   "metadata": {},
   "outputs": [
    {
     "name": "stdout",
     "output_type": "stream",
     "text": [
      "a    10\n",
      "b    20\n",
      "c    30\n",
      "dtype: int64\n",
      "A    10\n",
      "B    20\n",
      "C    30\n",
      "dtype: int64\n"
     ]
    }
   ],
   "source": [
    "# dictioary 활용\n",
    "info = {\n",
    "    'a' : 10,\n",
    "    'b' : 20,\n",
    "    'c' : 30\n",
    "}\n",
    "info_ser = pd.Series(info)\n",
    "print(info_ser)\n",
    "\n",
    "info_ser.index = ['A', 'B', 'C']\n",
    "print(info_ser)"
   ]
  },
  {
   "cell_type": "code",
   "execution_count": 85,
   "metadata": {},
   "outputs": [
    {
     "name": "stdout",
     "output_type": "stream",
     "text": [
      "a    5.5\n",
      "b    5.5\n",
      "c    5.5\n",
      "d    5.5\n",
      "e    5.5\n",
      "dtype: float64\n"
     ]
    }
   ],
   "source": [
    "# scalar value 활용\n",
    "num_ser = pd.Series(5.5)\n",
    "num_ser = pd.Series(5.5, index=['a', 'b', 'c', 'd', 'e'])\n",
    "print(num_ser)"
   ]
  },
  {
   "cell_type": "markdown",
   "metadata": {},
   "source": [
    "---"
   ]
  },
  {
   "cell_type": "markdown",
   "metadata": {},
   "source": [
    "##### Series 속성"
   ]
  },
  {
   "cell_type": "code",
   "execution_count": 86,
   "metadata": {},
   "outputs": [
    {
     "data": {
      "text/plain": [
       "0         미키17\n",
       "1          퇴마록\n",
       "2       캡틴아메리카\n",
       "3    괜찮아괜찮악괜찮아\n",
       "4          퇴마록\n",
       "dtype: object"
      ]
     },
     "execution_count": 86,
     "metadata": {},
     "output_type": "execute_result"
    }
   ],
   "source": [
    "movies = ['미키17', '퇴마록', '캡틴아메리카', '괜찮아괜찮악괜찮아', '퇴마록']\n",
    "movies_ser = pd.Series(movies)\n",
    "movies_ser"
   ]
  },
  {
   "cell_type": "code",
   "execution_count": 87,
   "metadata": {},
   "outputs": [
    {
     "data": {
      "text/plain": [
       "array(['미키17', '퇴마록', '캡틴아메리카', '괜찮아괜찮악괜찮아', '퇴마록'], dtype=object)"
      ]
     },
     "execution_count": 87,
     "metadata": {},
     "output_type": "execute_result"
    }
   ],
   "source": [
    "movies_ser.values"
   ]
  },
  {
   "cell_type": "code",
   "execution_count": 88,
   "metadata": {},
   "outputs": [
    {
     "data": {
      "text/plain": [
       "<NumpyExtensionArray>\n",
       "['미키17', '퇴마록', '캡틴아메리카', '괜찮아괜찮악괜찮아', '퇴마록']\n",
       "Length: 5, dtype: object"
      ]
     },
     "execution_count": 88,
     "metadata": {},
     "output_type": "execute_result"
    }
   ],
   "source": [
    "movies_ser.array"
   ]
  },
  {
   "cell_type": "code",
   "execution_count": 89,
   "metadata": {},
   "outputs": [
    {
     "data": {
      "text/plain": [
       "Index(['1st', '2nd', '3rd', '4th', '5th'], dtype='object')"
      ]
     },
     "execution_count": 89,
     "metadata": {},
     "output_type": "execute_result"
    }
   ],
   "source": [
    "# index를 별도 지정하지 않은 경우 기본적으로 숫자 인덱스\n",
    "movies_ser.index = ['1st', '2nd', '3rd', '4th', '5th']\n",
    "movies_ser.index    # 라벨을 지정한 경우 라벨 인덱스"
   ]
  },
  {
   "cell_type": "code",
   "execution_count": 90,
   "metadata": {},
   "outputs": [
    {
     "name": "stdout",
     "output_type": "stream",
     "text": [
      "object\n",
      "(5,)\n",
      "1\n",
      "5\n"
     ]
    }
   ],
   "source": [
    "print(movies_ser.dtype)     # 요소의 자료형\n",
    "print(movies_ser.shape)     # 형태\n",
    "print(movies_ser.ndim)      # 차원 깊이\n",
    "print(movies_ser.size)      # 요소의 개수"
   ]
  },
  {
   "cell_type": "code",
   "execution_count": 91,
   "metadata": {},
   "outputs": [
    {
     "data": {
      "text/plain": [
       "False"
      ]
     },
     "execution_count": 91,
     "metadata": {},
     "output_type": "execute_result"
    }
   ],
   "source": [
    "# 시리즈의 값이 모두 고유한 값이닞 여부 (True: 중복 값이 없음 / False: 중복 값이 있음)\n",
    "movies_ser.is_unique"
   ]
  },
  {
   "cell_type": "markdown",
   "metadata": {},
   "source": [
    "---"
   ]
  },
  {
   "cell_type": "markdown",
   "metadata": {},
   "source": [
    "##### Series의 메서드"
   ]
  },
  {
   "cell_type": "code",
   "execution_count": 92,
   "metadata": {},
   "outputs": [],
   "source": [
    "nums_ser = pd.Series([2025, 3, 4, 12, 41])"
   ]
  },
  {
   "cell_type": "code",
   "execution_count": 93,
   "metadata": {},
   "outputs": [
    {
     "name": "stdout",
     "output_type": "stream",
     "text": [
      "2085\n",
      "11955600\n",
      "417.0\n"
     ]
    }
   ],
   "source": [
    "print(nums_ser.sum())       # 누작 힙 (총합)\n",
    "print(nums_ser.product())   # 누적 곱\n",
    "print(nums_ser.mean())      # 평균"
   ]
  },
  {
   "cell_type": "code",
   "execution_count": 94,
   "metadata": {},
   "outputs": [
    {
     "name": "stdout",
     "output_type": "stream",
     "text": [
      "0    2025\n",
      "1       3\n",
      "dtype: int64\n",
      "3    12\n",
      "4    41\n",
      "dtype: int64\n"
     ]
    }
   ],
   "source": [
    "print(nums_ser.head(2))     # 앞에서 일부 데이터 조회 (기본값 : 전체)\n",
    "print(nums_ser.tail(2))     # 뒤에서 일부 데이터 조회 (기본값 : 잔체)"
   ]
  },
  {
   "cell_type": "code",
   "execution_count": 95,
   "metadata": {},
   "outputs": [
    {
     "name": "stdout",
     "output_type": "stream",
     "text": [
      "<class 'pandas.core.series.Series'>\n",
      "RangeIndex: 5 entries, 0 to 4\n",
      "Series name: None\n",
      "Non-Null Count  Dtype\n",
      "--------------  -----\n",
      "5 non-null      int64\n",
      "dtypes: int64(1)\n",
      "memory usage: 172.0 bytes\n"
     ]
    }
   ],
   "source": [
    "nums_ser.info()"
   ]
  },
  {
   "cell_type": "code",
   "execution_count": 96,
   "metadata": {},
   "outputs": [
    {
     "data": {
      "text/plain": [
       "count       5.000000\n",
       "mean      417.000000\n",
       "std       899.031423\n",
       "min         3.000000\n",
       "25%         4.000000\n",
       "50%        12.000000\n",
       "75%        41.000000\n",
       "max      2025.000000\n",
       "dtype: float64"
      ]
     },
     "execution_count": 96,
     "metadata": {},
     "output_type": "execute_result"
    }
   ],
   "source": [
    "nums_ser.describe()"
   ]
  },
  {
   "cell_type": "code",
   "execution_count": 97,
   "metadata": {},
   "outputs": [
    {
     "name": "stdout",
     "output_type": "stream",
     "text": [
      "0    2025\n",
      "1       3\n",
      "2       4\n",
      "3      12\n",
      "4      41\n",
      "dtype: int64\n",
      "3 3\n"
     ]
    }
   ],
   "source": [
    "print(nums_ser)\n",
    "# print(nums_ser.iloc[1], nums_ser.loc[1])\n",
    "\n",
    "nums_ser.index = list('abcde')  # ['a', 'b', 'c', 'd', 'e']\n",
    "print(nums_ser.iloc[1], nums_ser.loc['b'])"
   ]
  },
  {
   "cell_type": "markdown",
   "metadata": {},
   "source": [
    "---"
   ]
  },
  {
   "cell_type": "markdown",
   "metadata": {},
   "source": [
    "##### SP500 데이터 활용"
   ]
  },
  {
   "cell_type": "code",
   "execution_count": 98,
   "metadata": {},
   "outputs": [
    {
     "data": {
      "text/html": [
       "<div>\n",
       "<style scoped>\n",
       "    .dataframe tbody tr th:only-of-type {\n",
       "        vertical-align: middle;\n",
       "    }\n",
       "\n",
       "    .dataframe tbody tr th {\n",
       "        vertical-align: top;\n",
       "    }\n",
       "\n",
       "    .dataframe thead th {\n",
       "        text-align: right;\n",
       "    }\n",
       "</style>\n",
       "<table border=\"1\" class=\"dataframe\">\n",
       "  <thead>\n",
       "    <tr style=\"text-align: right;\">\n",
       "      <th></th>\n",
       "      <th>sp500</th>\n",
       "    </tr>\n",
       "  </thead>\n",
       "  <tbody>\n",
       "    <tr>\n",
       "      <th>0</th>\n",
       "      <td>1295.500000</td>\n",
       "    </tr>\n",
       "    <tr>\n",
       "      <th>1</th>\n",
       "      <td>1289.089966</td>\n",
       "    </tr>\n",
       "    <tr>\n",
       "      <th>2</th>\n",
       "      <td>1293.670044</td>\n",
       "    </tr>\n",
       "    <tr>\n",
       "      <th>3</th>\n",
       "      <td>1308.040039</td>\n",
       "    </tr>\n",
       "    <tr>\n",
       "      <th>4</th>\n",
       "      <td>1314.500000</td>\n",
       "    </tr>\n",
       "    <tr>\n",
       "      <th>...</th>\n",
       "      <td>...</td>\n",
       "    </tr>\n",
       "    <tr>\n",
       "      <th>2154</th>\n",
       "      <td>3327.770020</td>\n",
       "    </tr>\n",
       "    <tr>\n",
       "      <th>2155</th>\n",
       "      <td>3349.159912</td>\n",
       "    </tr>\n",
       "    <tr>\n",
       "      <th>2156</th>\n",
       "      <td>3351.280029</td>\n",
       "    </tr>\n",
       "    <tr>\n",
       "      <th>2157</th>\n",
       "      <td>3360.469971</td>\n",
       "    </tr>\n",
       "    <tr>\n",
       "      <th>2158</th>\n",
       "      <td>3333.689941</td>\n",
       "    </tr>\n",
       "  </tbody>\n",
       "</table>\n",
       "<p>2159 rows × 1 columns</p>\n",
       "</div>"
      ],
      "text/plain": [
       "            sp500\n",
       "0     1295.500000\n",
       "1     1289.089966\n",
       "2     1293.670044\n",
       "3     1308.040039\n",
       "4     1314.500000\n",
       "...           ...\n",
       "2154  3327.770020\n",
       "2155  3349.159912\n",
       "2156  3351.280029\n",
       "2157  3360.469971\n",
       "2158  3333.689941\n",
       "\n",
       "[2159 rows x 1 columns]"
      ]
     },
     "execution_count": 98,
     "metadata": {},
     "output_type": "execute_result"
    }
   ],
   "source": [
    "sp_500_df = pd.read_csv('/Users/hwangjunho/Desktop/encore_skn11/04_data-analysis/02_pandas/data/S_P500_Prices.csv')\n",
    "sp_500_df"
   ]
  },
  {
   "cell_type": "code",
   "execution_count": 99,
   "metadata": {},
   "outputs": [
    {
     "data": {
      "text/plain": [
       "pandas.core.series.Series"
      ]
     },
     "execution_count": 99,
     "metadata": {},
     "output_type": "execute_result"
    }
   ],
   "source": [
    "type(sp_500_df)\n",
    "\n",
    "# df.squeeze() : DataFrame의 Series가 하나인 경우 Series 객체 반환\n",
    "sp_500_ser = sp_500_df.squeeze()\n",
    "type(sp_500_ser)"
   ]
  },
  {
   "cell_type": "code",
   "execution_count": 100,
   "metadata": {},
   "outputs": [
    {
     "name": "stdout",
     "output_type": "stream",
     "text": [
      "<class 'pandas.core.series.Series'>\n",
      "RangeIndex: 2159 entries, 0 to 2158\n",
      "Series name: sp500\n",
      "Non-Null Count  Dtype  \n",
      "--------------  -----  \n",
      "2159 non-null   float64\n",
      "dtypes: float64(1)\n",
      "memory usage: 17.0 KB\n"
     ]
    }
   ],
   "source": [
    "sp_500_ser.info()"
   ]
  },
  {
   "cell_type": "code",
   "execution_count": 101,
   "metadata": {},
   "outputs": [
    {
     "data": {
      "text/plain": [
       "count    2159.000000\n",
       "mean     2218.749554\n",
       "std       537.321727\n",
       "min      1278.040039\n",
       "25%      1847.984985\n",
       "50%      2106.629883\n",
       "75%      2705.810059\n",
       "max      3386.149902\n",
       "Name: sp500, dtype: float64"
      ]
     },
     "execution_count": 101,
     "metadata": {},
     "output_type": "execute_result"
    }
   ],
   "source": [
    "sp_500_ser.describe()"
   ]
  },
  {
   "cell_type": "code",
   "execution_count": 102,
   "metadata": {},
   "outputs": [
    {
     "data": {
      "text/plain": [
       "((2159,), 2159, 1)"
      ]
     },
     "execution_count": 102,
     "metadata": {},
     "output_type": "execute_result"
    }
   ],
   "source": [
    "# 형태, 요소의 개수, 깊이\n",
    "sp_500_ser.shape, sp_500_ser.size, sp_500_ser.ndim"
   ]
  },
  {
   "cell_type": "code",
   "execution_count": 103,
   "metadata": {},
   "outputs": [
    {
     "name": "stdout",
     "output_type": "stream",
     "text": [
      "2159\n",
      "1278.040039\n",
      "2106.629883\n",
      "3386.149902\n",
      "1278.040039\n",
      "288714.6381853397\n",
      "537.3217268874763\n"
     ]
    }
   ],
   "source": [
    "# 갯수, 최소값, 중위값, 최대값, 평균값, 표준편차값, 분산값\n",
    "print(sp_500_ser.count())\n",
    "print(sp_500_ser.min())\n",
    "print(sp_500_ser.median())\n",
    "print(sp_500_ser.max())\n",
    "print(sp_500_ser.min())\n",
    "print(sp_500_ser.var())\n",
    "print(sp_500_ser.std())"
   ]
  },
  {
   "cell_type": "code",
   "execution_count": 104,
   "metadata": {},
   "outputs": [
    {
     "name": "stdout",
     "output_type": "stream",
     "text": [
      "1416.51001\n",
      "1416.51001\n",
      "100    1315.130005\n",
      "101    1314.989990\n",
      "102    1325.660034\n",
      "103    1308.930054\n",
      "104    1324.180054\n",
      "          ...     \n",
      "195    1433.189941\n",
      "196    1433.819946\n",
      "197    1413.109985\n",
      "198    1408.750000\n",
      "199    1412.969971\n",
      "Name: sp500, Length: 100, dtype: float64\n",
      "100    1315.130005\n",
      "101    1314.989990\n",
      "102    1325.660034\n",
      "103    1308.930054\n",
      "104    1324.180054\n",
      "          ...     \n",
      "195    1433.189941\n",
      "196    1433.819946\n",
      "197    1413.109985\n",
      "198    1408.750000\n",
      "199    1412.969971\n",
      "Name: sp500, Length: 100, dtype: float64\n",
      "<class 'pandas.core.series.Series'>\n"
     ]
    }
   ],
   "source": [
    "# 인덱스 번호로 인덱스 및 슬라이싱 : 인덱스 50의 값 가져오기, 인덱스 100~200 값 가져오기\n",
    "print(sp_500_ser[50])\n",
    "print(sp_500_ser.iloc[50])\n",
    "\n",
    "print(sp_500_ser[100:200])\n",
    "print(sp_500_ser.iloc[100:200])\n",
    "print(type(sp_500_ser.iloc[100:200]))"
   ]
  },
  {
   "cell_type": "code",
   "execution_count": 105,
   "metadata": {},
   "outputs": [
    {
     "data": {
      "text/plain": [
       "1000    2016.709961\n",
       "2000    3223.379883\n",
       "Name: sp500, dtype: float64"
      ]
     },
     "execution_count": 105,
     "metadata": {},
     "output_type": "execute_result"
    }
   ],
   "source": [
    "# fancy indexing 써보기\n",
    "sp_500_ser[[1000, 2000]]"
   ]
  },
  {
   "cell_type": "code",
   "execution_count": 106,
   "metadata": {},
   "outputs": [
    {
     "data": {
      "text/plain": [
       "1885    3013.770020\n",
       "1886    3014.300049\n",
       "1887    3004.040039\n",
       "1892    3005.469971\n",
       "1893    3019.560059\n",
       "           ...     \n",
       "2154    3327.770020\n",
       "2155    3349.159912\n",
       "2156    3351.280029\n",
       "2157    3360.469971\n",
       "2158    3333.689941\n",
       "Name: sp500, Length: 160, dtype: float64"
      ]
     },
     "execution_count": 106,
     "metadata": {},
     "output_type": "execute_result"
    }
   ],
   "source": [
    "# boolean indexing 써보기\n",
    "sp_500_ser.iloc[sp_500_ser.values > 3000]"
   ]
  },
  {
   "cell_type": "code",
   "execution_count": 107,
   "metadata": {},
   "outputs": [
    {
     "name": "stdout",
     "output_type": "stream",
     "text": [
      "True\n",
      "True\n",
      "True\n"
     ]
    }
   ],
   "source": [
    "print(3013.770020 in sp_500_ser.values)\n",
    "\n",
    "print(2000 in sp_500_ser)\n",
    "print(2000 in sp_500_ser.index)"
   ]
  },
  {
   "cell_type": "code",
   "execution_count": 108,
   "metadata": {},
   "outputs": [
    {
     "name": "stdout",
     "output_type": "stream",
     "text": [
      "97      1278.040039\n",
      "98      1278.180054\n",
      "99      1285.500000\n",
      "1       1289.089966\n",
      "2       1293.670044\n",
      "           ...     \n",
      "2038    3373.229980\n",
      "2034    3373.939941\n",
      "2033    3379.449951\n",
      "2035    3380.159912\n",
      "2037    3386.149902\n",
      "Name: sp500, Length: 2159, dtype: float64\n",
      "97      1278.040039\n",
      "98      1278.180054\n",
      "99      1285.500000\n",
      "1       1289.089966\n",
      "2       1293.670044\n",
      "           ...     \n",
      "2038    3373.229980\n",
      "2034    3373.939941\n",
      "2033    3379.449951\n",
      "2035    3380.159912\n",
      "2037    3386.149902\n",
      "Name: sp500, Length: 2159, dtype: float64\n"
     ]
    }
   ],
   "source": [
    "# 정렬\n",
    "print(sp_500_ser.sort_values())\n",
    "sp_500_ser = sp_500_ser.sort_values()\n",
    "print(sp_500_ser)"
   ]
  },
  {
   "cell_type": "code",
   "execution_count": 109,
   "metadata": {},
   "outputs": [
    {
     "data": {
      "text/plain": [
       "2037    3386.149902\n",
       "2035    3380.159912\n",
       "2033    3379.449951\n",
       "2034    3373.939941\n",
       "2038    3373.229980\n",
       "           ...     \n",
       "2       1293.670044\n",
       "1       1289.089966\n",
       "99      1285.500000\n",
       "98      1278.180054\n",
       "97      1278.040039\n",
       "Name: sp500, Length: 2159, dtype: float64"
      ]
     },
     "execution_count": 109,
     "metadata": {},
     "output_type": "execute_result"
    }
   ],
   "source": [
    "sp_500_ser.sort_values(ascending=False)"
   ]
  }
 ],
 "metadata": {
  "kernelspec": {
   "display_name": "pystudy_env",
   "language": "python",
   "name": "python3"
  },
  "language_info": {
   "codemirror_mode": {
    "name": "ipython",
    "version": 3
   },
   "file_extension": ".py",
   "mimetype": "text/x-python",
   "name": "python",
   "nbconvert_exporter": "python",
   "pygments_lexer": "ipython3",
   "version": "3.12.9"
  }
 },
 "nbformat": 4,
 "nbformat_minor": 2
}
