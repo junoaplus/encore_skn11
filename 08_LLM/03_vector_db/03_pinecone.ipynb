{
 "cells": [
  {
   "cell_type": "markdown",
   "metadata": {},
   "source": [
    "# Pincone DB (프리티어 사용)"
   ]
  },
  {
   "cell_type": "code",
   "execution_count": 1,
   "metadata": {},
   "outputs": [
    {
     "name": "stdout",
     "output_type": "stream",
     "text": [
      "Requirement already satisfied: pinecone in /opt/anaconda3/envs/vectordb_env/lib/python3.9/site-packages (6.0.2)\n",
      "Requirement already satisfied: certifi>=2019.11.17 in /opt/anaconda3/envs/vectordb_env/lib/python3.9/site-packages (from pinecone) (2025.1.31)\n",
      "Requirement already satisfied: pinecone-plugin-interface<0.0.8,>=0.0.7 in /opt/anaconda3/envs/vectordb_env/lib/python3.9/site-packages (from pinecone) (0.0.7)\n",
      "Requirement already satisfied: python-dateutil>=2.5.3 in /opt/anaconda3/envs/vectordb_env/lib/python3.9/site-packages (from pinecone) (2.9.0.post0)\n",
      "Requirement already satisfied: typing-extensions>=3.7.4 in /opt/anaconda3/envs/vectordb_env/lib/python3.9/site-packages (from pinecone) (4.13.2)\n",
      "Requirement already satisfied: urllib3>=1.26.0 in /opt/anaconda3/envs/vectordb_env/lib/python3.9/site-packages (from pinecone) (2.4.0)\n",
      "Requirement already satisfied: six>=1.5 in /opt/anaconda3/envs/vectordb_env/lib/python3.9/site-packages (from python-dateutil>=2.5.3->pinecone) (1.17.0)\n"
     ]
    }
   ],
   "source": [
    "!pip install pinecone"
   ]
  },
  {
   "cell_type": "code",
   "execution_count": 3,
   "metadata": {},
   "outputs": [
    {
     "data": {
      "text/plain": [
       "{\n",
       "    \"name\": \"reviewtest\",\n",
       "    \"metric\": \"cosine\",\n",
       "    \"host\": \"reviewtest-7qjn04l.svc.aped-4627-b74a.pinecone.io\",\n",
       "    \"spec\": {\n",
       "        \"serverless\": {\n",
       "            \"cloud\": \"aws\",\n",
       "            \"region\": \"us-east-1\"\n",
       "        }\n",
       "    },\n",
       "    \"status\": {\n",
       "        \"ready\": true,\n",
       "        \"state\": \"Ready\"\n",
       "    },\n",
       "    \"vector_type\": \"dense\",\n",
       "    \"dimension\": 384,\n",
       "    \"deletion_protection\": \"disabled\",\n",
       "    \"tags\": null\n",
       "}"
      ]
     },
     "execution_count": 3,
     "metadata": {},
     "output_type": "execute_result"
    }
   ],
   "source": [
    "from pinecone import Pinecone, ServerlessSpec\n",
    "\n",
    "pc = Pinecone(api_key=\"\")\n",
    "index_name = \"reviewtest\"\n",
    "\n",
    "pc.create_index(\n",
    "    name=index_name,\n",
    "    dimension=384,\n",
    "    metric='cosine',  \n",
    "    spec=ServerlessSpec(\n",
    "        cloud=\"aws\",\n",
    "        region=\"us-east-1\"\n",
    "    )\n",
    ")"
   ]
  },
  {
   "cell_type": "code",
   "execution_count": 4,
   "metadata": {},
   "outputs": [],
   "source": [
    "reviews = [\n",
    "    {\"id\": \"1\", \"text\": \"이 제품 정말 좋아요! 성능이 만족스러워요!\", \"sentiment\": \"positive\"},\n",
    "    {\"id\": \"2\", \"text\": \"배송이 빠르고 포장도 꼼꼼했어요. 대만족입니다!\", \"sentiment\": \"positive\"},\n",
    "    {\"id\": \"3\", \"text\": \"디자인도 예쁘고 사용법도 간편해서 마음에 들어요.\", \"sentiment\": \"positive\"},\n",
    "    {\"id\": \"4\", \"text\": \"가격 대비 훌륭한 제품이에요. 추천합니다.\", \"sentiment\": \"positive\"},\n",
    "    {\"id\": \"5\", \"text\": \"친구에게 추천받았는데 역시 좋아요!\", \"sentiment\": \"positive\"},\n",
    "    {\"id\": \"6\", \"text\": \"생각보다 훨씬 좋네요. 기대 이상이에요.\", \"sentiment\": \"positive\"},\n",
    "    {\"id\": \"7\", \"text\": \"기능이 다양하고 성능도 안정적이에요.\", \"sentiment\": \"positive\"},\n",
    "    {\"id\": \"8\", \"text\": \"고급스러운 디자인에 만족했어요.\", \"sentiment\": \"positive\"},\n",
    "    {\"id\": \"9\", \"text\": \"재구매 의사 있습니다. 너무 만족해요.\", \"sentiment\": \"positive\"},\n",
    "    {\"id\": \"10\", \"text\": \"AS도 친절하고 전반적으로 만족스러워요.\", \"sentiment\": \"positive\"},\n",
    "    {\"id\": \"11\", \"text\": \"하루 만에 고장났어요. 정말 실망입니다.\", \"sentiment\": \"negative\"},\n",
    "    {\"id\": \"12\", \"text\": \"설명서도 없고 조립도 어렵네요.\", \"sentiment\": \"negative\"},\n",
    "    {\"id\": \"13\", \"text\": \"품질이 너무 안 좋아요. 돈 아까워요.\", \"sentiment\": \"negative\"},\n",
    "    {\"id\": \"14\", \"text\": \"배터리가 금방 닳고 발열도 심해요.\", \"sentiment\": \"negative\"},\n",
    "    {\"id\": \"15\", \"text\": \"광고와 너무 달라요. 비추천합니다.\", \"sentiment\": \"negative\"},\n",
    "    {\"id\": \"16\", \"text\": \"서비스도 불친절하고 반품도 어렵네요.\", \"sentiment\": \"negative\"},\n",
    "    {\"id\": \"17\", \"text\": \"기대 이하의 성능이에요. 실망했어요.\", \"sentiment\": \"negative\"},\n",
    "    {\"id\": \"18\", \"text\": \"가격만 비싸고 성능은 형편없어요.\", \"sentiment\": \"negative\"},\n",
    "    {\"id\": \"19\", \"text\": \"처리 속도가 느려서 답답합니다.\", \"sentiment\": \"negative\"},\n",
    "    {\"id\": \"20\", \"text\": \"디자인은 좋지만 성능은 엉망이에요.\", \"sentiment\": \"negative\"}\n",
    "]"
   ]
  },
  {
   "cell_type": "code",
   "execution_count": 5,
   "metadata": {},
   "outputs": [],
   "source": [
    "# Pinecone index 및 임베딩 모델 ㄹ로드\n",
    "from sentence_transformers import SentenceTransformer\n",
    "\n",
    "pc = Pinecone(api_key=\"\")\n",
    "idx = pc.Index(index_name)\n",
    "\n",
    "model = SentenceTransformer('all-MiniLM-L6-v2')"
   ]
  },
  {
   "cell_type": "code",
   "execution_count": 8,
   "metadata": {},
   "outputs": [],
   "source": [
    "for review in reviews:\n",
    "    review_embed = model.encode(review['text']).tolist()\n",
    "    idx.upsert([\n",
    "        (\n",
    "            review['id'],\n",
    "            review_embed,\n",
    "            {\n",
    "                'text': review['text'],\n",
    "                'sentiment': review['sentiment']\n",
    "            }\n",
    "        )\n",
    "    ])"
   ]
  },
  {
   "cell_type": "markdown",
   "metadata": {},
   "source": [
    "### 리뷰 데이터 조회"
   ]
  },
  {
   "cell_type": "code",
   "execution_count": 9,
   "metadata": {},
   "outputs": [
    {
     "data": {
      "text/plain": [
       "{'matches': [{'id': '17',\n",
       "              'metadata': {'sentiment': 'negative',\n",
       "                           'text': '기대 이하의 성능이에요. 실망했어요.'},\n",
       "              'score': 0.768254757,\n",
       "              'values': []},\n",
       "             {'id': '2',\n",
       "              'metadata': {'sentiment': 'positive',\n",
       "                           'text': '배송이 빠르고 포장도 꼼꼼했어요. 대만족입니다!'},\n",
       "              'score': 0.717725635,\n",
       "              'values': []},\n",
       "             {'id': '20',\n",
       "              'metadata': {'sentiment': 'negative',\n",
       "                           'text': '디자인은 좋지만 성능은 엉망이에요.'},\n",
       "              'score': 0.711059809,\n",
       "              'values': []}],\n",
       " 'namespace': '',\n",
       " 'usage': {'read_units': 6}}"
      ]
     },
     "execution_count": 9,
     "metadata": {},
     "output_type": "execute_result"
    }
   ],
   "source": [
    "query_text = \"이 노트북 성능은 괜찮은가요?\"\n",
    "query_embed = model.encode(query_text).tolist()\n",
    "\n",
    "result = idx.query(\n",
    "    vector=query_embed,\n",
    "    top_k=3,\n",
    "    include_metadata=True\n",
    ")\n",
    "\n",
    "result"
   ]
  },
  {
   "cell_type": "code",
   "execution_count": 10,
   "metadata": {},
   "outputs": [
    {
     "name": "stdout",
     "output_type": "stream",
     "text": [
      "기대 이하의 성능이에요. 실망했어요. (감성: negative)\n",
      "배송이 빠르고 포장도 꼼꼼했어요. 대만족입니다! (감성: positive)\n",
      "디자인은 좋지만 성능은 엉망이에요. (감성: negative)\n"
     ]
    }
   ],
   "source": [
    "for review in result['matches']:\n",
    "    metadata = review['metadata']\n",
    "    print(metadata['text'], f\"(감성: {metadata['sentiment']})\")"
   ]
  },
  {
   "cell_type": "markdown",
   "metadata": {},
   "source": [
    "### 리뷰 감성 분석"
   ]
  },
  {
   "cell_type": "code",
   "execution_count": 11,
   "metadata": {},
   "outputs": [
    {
     "data": {
      "text/plain": [
       "{'matches': [{'id': '10',\n",
       "              'metadata': {'sentiment': 'positive',\n",
       "                           'text': 'AS도 친절하고 전반적으로 만족스러워요.'},\n",
       "              'score': 0.90022248,\n",
       "              'values': []},\n",
       "             {'id': '1',\n",
       "              'metadata': {'sentiment': 'positive',\n",
       "                           'text': '이 제품 정말 좋아요! 성능이 만족스러워요!'},\n",
       "              'score': 0.841893137,\n",
       "              'values': []},\n",
       "             {'id': '14',\n",
       "              'metadata': {'sentiment': 'negative',\n",
       "                           'text': '배터리가 금방 닳고 발열도 심해요.'},\n",
       "              'score': 0.836007416,\n",
       "              'values': []},\n",
       "             {'id': '4',\n",
       "              'metadata': {'sentiment': 'positive',\n",
       "                           'text': '가격 대비 훌륭한 제품이에요. 추천합니다.'},\n",
       "              'score': 0.788865268,\n",
       "              'values': []},\n",
       "             {'id': '16',\n",
       "              'metadata': {'sentiment': 'negative',\n",
       "                           'text': '서비스도 불친절하고 반품도 어렵네요.'},\n",
       "              'score': 0.773039579,\n",
       "              'values': []}],\n",
       " 'namespace': '',\n",
       " 'usage': {'read_units': 6}}"
      ]
     },
     "execution_count": 11,
     "metadata": {},
     "output_type": "execute_result"
    }
   ],
   "source": [
    "query_text = \"베터리도 빨리 닳고 벽돌보다 무거워요, 비추천\"\n",
    "query_embed = model.encode(query_text).tolist()\n",
    "\n",
    "result = idx.query(\n",
    "    vector=query_embed,\n",
    "    top_k=5,\n",
    "    include_metadata=True\n",
    ")\n",
    "\n",
    "result"
   ]
  },
  {
   "cell_type": "code",
   "execution_count": 13,
   "metadata": {},
   "outputs": [
    {
     "name": "stdout",
     "output_type": "stream",
     "text": [
      "리뷰 분석 결과: positive\n"
     ]
    }
   ],
   "source": [
    "sentiment_counts = {\n",
    "    \"positive\": 0,\n",
    "    'negative': 0\n",
    "}\n",
    "\n",
    "for review in result['matches']:\n",
    "    metadata = review['metadata'][\"sentiment\"]\n",
    "    sentiment_counts[metadata] += 1\n",
    "\n",
    "print(f\"리뷰 분석 결과: {'positive' if sentiment_counts['positive'] > sentiment_counts['negative'] else 'negative'}\")"
   ]
  }
 ],
 "metadata": {
  "kernelspec": {
   "display_name": "vectordb_env",
   "language": "python",
   "name": "python3"
  },
  "language_info": {
   "codemirror_mode": {
    "name": "ipython",
    "version": 3
   },
   "file_extension": ".py",
   "mimetype": "text/x-python",
   "name": "python",
   "nbconvert_exporter": "python",
   "pygments_lexer": "ipython3",
   "version": "3.9.21"
  }
 },
 "nbformat": 4,
 "nbformat_minor": 2
}
