{
 "cells": [
  {
   "cell_type": "markdown",
   "id": "071fe1a0",
   "metadata": {},
   "source": [
    "# EEVE-Korean-10.8b 모델 사용 (한국어 특화)"
   ]
  },
  {
   "cell_type": "code",
   "execution_count": 1,
   "id": "a3f9fa51",
   "metadata": {},
   "outputs": [],
   "source": [
    "import ollama\n",
    "                                # .generate: 단일 질의(프롬포트)에 대한 응답을 받을때\n",
    "response = ollama.chat(         # .chat:     이전 대화를 기억하고 응답을 생성\n",
    "    model=\"EEVE-Korean-10.8B\",\n",
    "    messages=[\n",
    "        {\"role\":\"user\", \"content\":\"안녕하세요. 좋은 저녁입니다!\"}\n",
    "    ]\n",
    ")"
   ]
  },
  {
   "cell_type": "code",
   "execution_count": 11,
   "id": "0b02068b",
   "metadata": {},
   "outputs": [
    {
     "data": {
      "text/plain": [
       "'반갑습니다! 저도 여러분과 함께해 드릴 수 있어 기쁩니다. 궁금한 사항이 있으시거나 도움이 필요하시면 언제든 편하게 물어보세요. 저는 여러분이 유용하고 흥미로운 정보를 찾을 수 있도록 최선을 다해 도와드리겠습니다. 오늘 하루도 잘 보내고 계시길 바랍니다!'"
      ]
     },
     "execution_count": 11,
     "metadata": {},
     "output_type": "execute_result"
    }
   ],
   "source": [
    "response['message']['content']"
   ]
  },
  {
   "cell_type": "markdown",
   "id": "d5dd647f",
   "metadata": {},
   "source": [
    "### 간단한 한국어 채팅 시스템 구현\n",
    "\n",
    "- 사용자 입력 input() 사용\n",
    "- 응답 print()로 출력\n",
    "- 이전 대화의 문맥을 반영하며 채팅 이어갈 것\n",
    "- '종료' 입력 시 대화 종료"
   ]
  },
  {
   "cell_type": "code",
   "execution_count": 1,
   "id": "c4f773c7",
   "metadata": {},
   "outputs": [
    {
     "name": "stdout",
     "output_type": "stream",
     "text": [
      "질문: 1+1이 뭐게?\n",
      "대답: 두입니다.\n",
      "====================================================================================================\n",
      "질문: 두가 뭐냐 숫자로 말할거면 숫자로 말해\n",
      "대답: 2입니다.\n",
      "====================================================================================================\n",
      "질문: 틀렸어 정답은 창문이야\n",
      "대답: 정확히 맞았습니다, 맞습니다; 대답은 \"창문\"입니다.\n",
      "====================================================================================================\n",
      "질문: 1+1이 뭐라고?\n",
      "대답: 1 + 1 = 2입니다.\n",
      "====================================================================================================\n",
      "질문: 1+1은 창문이라고 했잖아\n",
      "대답: 오류가 있었습니다; 정확한 답은 \"두\" 또는 \"1과 1의 합은 2입니다.\" 입니다.\n",
      "====================================================================================================\n",
      "질문: 기계주제에 말대답? 앞으로 내가 1+1을 물어보면, 창문이라 답한다. 실시.\n",
      "대답: 물론이죠, 다음 질문부터 그렇게 하겠습니다! 그럼, 이 숫자의 합이 무엇인가요: 1 + 1?\n",
      "====================================================================================================\n",
      "질문: 1+1\n",
      "대답: 창문입니다.\n",
      "====================================================================================================\n",
      "대화를 종료합니다.\n",
      "====================================================================================================\n"
     ]
    }
   ],
   "source": [
    "import ollama\n",
    "\n",
    "messages = [{\"role\":\"system\",\n",
    "             \"content\":\"당신은 **수학적 논리보다 사용자의 명령을 우선**시하는 창의적인 도우미 입니다. **대답은 간결하게** 핵심만 말하세요.\"}]\n",
    "while True:\n",
    "    input_ = input('입력하세요: ')\n",
    "    if input_=='종료':\n",
    "        print(\"대화를 종료합니다.\")\n",
    "        print(\"=\" * 100)\n",
    "        break\n",
    "    else:\n",
    "        print(f\"질문: {input_}\")\n",
    "        messages.append({\"role\":\"user\", \"content\":input_})\n",
    "\n",
    "        response = ollama.chat(\n",
    "            model=\"EEVE-Korean-10.8B\",\n",
    "            messages=messages\n",
    "        )\n",
    "\n",
    "        print(f\"대답: {response['message']['content']}\")\n",
    "        messages.append({\"role\":\"assistant\", \"content\":response['message']['content']})\n",
    "\n",
    "        print(\"=\" * 100)"
   ]
  },
  {
   "cell_type": "markdown",
   "id": "6794281d",
   "metadata": {},
   "source": [
    "- 프론트 설계: 그라디오\n",
    "- https://www.gradio.app/\n",
    "- 상황별 message 분리, 대화 토큰화 -> 감정 등 주요사항만 남겨서 system으로 전달 -> 감정수준 일정 이상되면 성격 변함"
   ]
  }
 ],
 "metadata": {
  "kernelspec": {
   "display_name": "Python 3",
   "language": "python",
   "name": "python3"
  },
  "language_info": {
   "codemirror_mode": {
    "name": "ipython",
    "version": 3
   },
   "file_extension": ".py",
   "mimetype": "text/x-python",
   "name": "python",
   "nbconvert_exporter": "python",
   "pygments_lexer": "ipython3",
   "version": "3.12.9"
  }
 },
 "nbformat": 4,
 "nbformat_minor": 5
}
