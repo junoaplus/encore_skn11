{
 "cells": [
  {
   "cell_type": "markdown",
   "metadata": {},
   "source": [
    "# Cot (chain of Though)"
   ]
  },
  {
   "cell_type": "code",
   "execution_count": 1,
   "metadata": {},
   "outputs": [
    {
     "data": {
      "text/plain": [
       "True"
      ]
     },
     "execution_count": 1,
     "metadata": {},
     "output_type": "execute_result"
    }
   ],
   "source": [
    "from dotenv import load_dotenv\n",
    "load_dotenv()"
   ]
  },
  {
   "cell_type": "code",
   "execution_count": 2,
   "metadata": {},
   "outputs": [],
   "source": [
    "import openai\n",
    "client = openai.OpenAI()"
   ]
  },
  {
   "cell_type": "markdown",
   "metadata": {},
   "source": [
    "### 일반 프롬프트 vs Zero-shot Cot"
   ]
  },
  {
   "cell_type": "code",
   "execution_count": 3,
   "metadata": {},
   "outputs": [],
   "source": [
    "# 일반 프롬프트\n",
    "prompt = '123 X 31은 얼마인가요?'\n",
    "\n",
    "# Zero-shot Cot 적용 프롬프트\n",
    "cot_prompt = '단계별로 계산해주세요: 123 X 31은 얼마인가요?'\n",
    "\n",
    "res = client.chat.completions.create(\n",
    "    model='gpt-4',\n",
    "    messages=[{\"role\":\"user\", \"content\": prompt}]\n",
    ")\n",
    "\n",
    "cot_res = client.chat.completions.create(\n",
    "    model='gpt-4',\n",
    "    messages=[{\"role\":\"user\", \"content\": cot_prompt}]\n",
    ")"
   ]
  },
  {
   "cell_type": "code",
   "execution_count": 6,
   "metadata": {},
   "outputs": [
    {
     "data": {
      "text/plain": [
       "'123 X 31 = 3813'"
      ]
     },
     "execution_count": 6,
     "metadata": {},
     "output_type": "execute_result"
    }
   ],
   "source": [
    "res.choices[0].message.content"
   ]
  },
  {
   "cell_type": "code",
   "execution_count": 9,
   "metadata": {},
   "outputs": [
    {
     "name": "stdout",
     "output_type": "stream",
     "text": [
      "123 X 31의 연산을 단계별로 보자면, \n",
      "\n",
      "1단계: 1 * 123 = 123\n",
      "2단계: 3 * 123 = 369 (하지만 3은 십의 자리이므로 369에 10을 곱해줍니다. 그래서 3690이 됩니다.)\n",
      "3단계: 123 (1단계 값) + 3690 (2단계값) = 3813\n",
      "\n",
      "따라서, 123 X 31 = 3813입니다.\n"
     ]
    }
   ],
   "source": [
    "print(cot_res.choices[0].message.content)"
   ]
  },
  {
   "cell_type": "markdown",
   "metadata": {},
   "source": [
    "# Few-shot Cot"
   ]
  },
  {
   "cell_type": "code",
   "execution_count": 12,
   "metadata": {},
   "outputs": [],
   "source": [
    "few_shot_cot = \"\"\" \n",
    "Q: 123 x 31 은 얼마인가요?\n",
    "A: \n",
    "1. 123를 분해합니다: 123 = 100 + 20 + 3\n",
    "2. 각 항을 31과 곱합니다:\n",
    "   - 100 x 31 = 3100\n",
    "   - 20 x 31 = 620\n",
    "   - 3 x 31 = 93\n",
    "\n",
    "3. 이제 이 결과들을 더합니다:\n",
    "   - 3100 + 620 + 93\n",
    "\n",
    "4. 계산을 진행하면:\n",
    "   - 3100 + 620 = 3720\n",
    "   - 3720 + 93 = 3813 \n",
    "\n",
    "따라서, 123 x 31 = 3813입니다.\n",
    "\n",
    "Q: 789 X 56은 얼마 인가여?\n",
    "A:\n",
    "\"\"\"\n",
    "\n",
    "res = client.chat.completions.create(\n",
    "    model='gpt-4',\n",
    "    messages=[{\"role\": \"user\", \"content\": few_shot_cot}]\n",
    ")"
   ]
  },
  {
   "cell_type": "code",
   "execution_count": 13,
   "metadata": {},
   "outputs": [
    {
     "name": "stdout",
     "output_type": "stream",
     "text": [
      "1. 789를 분해합니다: 789 = 700 + 80 + 9\n",
      "2. 각 항을 56과 곱합니다:\n",
      "   - 700 x 56 = 39200\n",
      "   - 80 x 56 = 4480\n",
      "   - 9 x 56 = 504\n",
      "\n",
      "3. 이제 이 결과들을 더합니다:\n",
      "   - 39200 + 4480 + 504 \n",
      "\n",
      "4. 계산을 진행하면:\n",
      "   - 39200 + 4480 = 43680\n",
      "   - 43680 + 504 = 44184 \n",
      "\n",
      "따라서, 789 x 56 = 44184입니다.\n"
     ]
    }
   ],
   "source": [
    "print(res.choices[0].message.content)"
   ]
  },
  {
   "cell_type": "markdown",
   "metadata": {},
   "source": [
    "### 논리 문제 해결"
   ]
  },
  {
   "cell_type": "code",
   "execution_count": 14,
   "metadata": {},
   "outputs": [],
   "source": [
    "prompt = \"앨리스(Alice)는 밥(Bob)보다 나이가 많다. 밥(Bob)은 찰리(Charlie)보다 나이가 많다. 데이비드(David)는 앨리스(Alice)보다 어리지만, 에밀리(Emily)보다는 많다. 찰리(Charlie)는 프랭크(Frank)보다 많다. 에밀리(Emily)는 찰리(Charlie)보다 나이가 많지만, 밥(Bob)보다는 어리다. 프랭크(Frank)는 데이비드(David)보다 어리다. 그렇다면 가장 어린 사람은 누구인가요?\"\n",
    "\n",
    "cot_prompt = \"단계적으로 생각해서 대답해주세요: 앨리스(Alice)는 밥(Bob)보다 나이가 많다. 밥(Bob)은 찰리(Charlie)보다 나이가 많다. 데이비드(David)는 앨리스(Alice)보다 어리지만, 에밀리(Emily)보다는 많다. 찰리(Charlie)는 프랭크(Frank)보다 많다. 에밀리(Emily)는 찰리(Charlie)보다 나이가 많지만, 밥(Bob)보다는 어리다. 프랭크(Frank)는 데이비드(David)보다 어리다. 그렇다면 가장 어린 사람은 누구인가요?\""
   ]
  },
  {
   "cell_type": "code",
   "execution_count": 15,
   "metadata": {},
   "outputs": [],
   "source": [
    "res = client.chat.completions.create(\n",
    "    model='gpt-4',\n",
    "    messages=[{\"role\":\"user\", \"content\": prompt}]\n",
    ")\n",
    "\n",
    "cot_res = client.chat.completions.create(\n",
    "    model='gpt-4',\n",
    "    messages=[{\"role\":\"user\", \"content\": cot_prompt}]\n",
    ")"
   ]
  },
  {
   "cell_type": "code",
   "execution_count": 16,
   "metadata": {},
   "outputs": [
    {
     "name": "stdout",
     "output_type": "stream",
     "text": [
      "가장 어린 사람은 프랭크(Frank)입니다.\n"
     ]
    }
   ],
   "source": [
    "print(res.choices[0].message.content)"
   ]
  },
  {
   "cell_type": "code",
   "execution_count": 17,
   "metadata": {},
   "outputs": [
    {
     "name": "stdout",
     "output_type": "stream",
     "text": [
      "가장 어린 사람을 찾기 위해, 우선 다음과 같은 관계를 정의해보겠습니다:\n",
      "\n",
      "1. 앨리스는 밥보다 나이가 많다.\n",
      "2. 밥은 찰리보다 나이가 많다.\n",
      "3. 데이비드는 앨리스보다 어리고, 에밀리보다 많다.\n",
      "4. 찰리는 프랭크보다 많다.\n",
      "5. 에밀리는 찰리보다 많고, 밥보다 어리다.\n",
      "6. 프랭크는 데이비드보다 어리다.\n",
      "\n",
      "이를 기반으로 다음과 같이 나이의 순서를 파악할 수 있습니다:\n",
      "\n",
      "앨리스 > 밥 > 찰리 > 프랭크\n",
      "\n",
      "에밀리 > 찰리 > 프랭크\n",
      "\n",
      "데이비드 > 에밀리\n",
      "\n",
      "데이비드 > 프랭크\n",
      "\n",
      "따라서 가장 어린 사람은 프랭크(Frank)입니다.\n"
     ]
    }
   ],
   "source": [
    "print(cot_res.choices[0].message.content)"
   ]
  },
  {
   "cell_type": "markdown",
   "metadata": {},
   "source": [
    "### 코드 디버깅"
   ]
  },
  {
   "cell_type": "code",
   "execution_count": 18,
   "metadata": {},
   "outputs": [],
   "source": [
    "prompt = \"\"\" \n",
    "다음과 같이 코드를 작성했더니 에러가 발생합니다. 왜 일까요?\n",
    "\n",
    "def add_numbers(a, b):\n",
    "return a + b\n",
    "\n",
    "print(add_numbers(1, 2))\n",
    "\"\"\"\n",
    "\n",
    "cot_prompt = \"\"\" \n",
    "다음과 같이 코드를 작성했더니 에러가 발생합니다. \n",
    "실수가 무억인지 찾아 단계별로 설명해주세요\n",
    "\n",
    "def add_numbers(a, b):\n",
    "return a + b\n",
    "\n",
    "print(add_numbers(1, 2))\n",
    "\"\"\""
   ]
  },
  {
   "cell_type": "code",
   "execution_count": 19,
   "metadata": {},
   "outputs": [],
   "source": [
    "res = client.chat.completions.create(\n",
    "    model='gpt-4',\n",
    "    messages=[{\"role\":\"user\", \"content\": prompt}]\n",
    ")\n",
    "\n",
    "cot_res = client.chat.completions.create(\n",
    "    model='gpt-4',\n",
    "    messages=[{\"role\":\"user\", \"content\": cot_prompt}]\n",
    ")"
   ]
  },
  {
   "cell_type": "code",
   "execution_count": 20,
   "metadata": {},
   "outputs": [
    {
     "name": "stdout",
     "output_type": "stream",
     "text": [
      "위의 코드에서 파이썬은 들여쓰기를 강조하기 때문에 에러가 발생합니다. \"return a + b\"가 함수 \"add_numbers(a, b)\"의 본문(body)을 형성하므로, 이는 함수 선언 다음줄에서 추가적인 들여쓰기(indentation)가 필요합니다.\n",
      "\n",
      "아래는 제대로 작동하는 코드입니다:\n",
      "\n",
      "```python\n",
      "def add_numbers(a, b):\n",
      "    return a + b\n",
      "\n",
      "print(add_numbers(1, 2))\n",
      "```\n",
      "이렇게 작성하면 정상적으로 동작하며, 출력결과는 3이 나올 것입니다.\n"
     ]
    }
   ],
   "source": [
    "print(res.choices[0].message.content)"
   ]
  },
  {
   "cell_type": "code",
   "execution_count": 21,
   "metadata": {},
   "outputs": [
    {
     "name": "stdout",
     "output_type": "stream",
     "text": [
      "이 코드에서는 주로 들여쓰기에 대한 에러(SyntaxError: expected an indented block)가 발생합니다.\n",
      "\n",
      "파이썬은 블록(block)을 구분할 때 중괄호나 키워드 대신 들여쓰기를 사용합니다.\n",
      "따라서, 함수의 본문은 들여쓰기를 해줘야 합니다.\n",
      "\n",
      "아래와 같이 코드를 수정하면 에러 없이 정상적으로 실행됩니다.\n",
      "\n",
      "```python\n",
      "def add_numbers(a, b):\n",
      "    return a + b  # <-- 이 줄이 들여써져야 함\n",
      "\n",
      "print(add_numbers(1, 2))\n",
      "```\n",
      "\n",
      "이렇게 들여쓰기를 한 후에는 결과값으로 3을 반환받아 올 수 있습니다.\n"
     ]
    }
   ],
   "source": [
    "print(cot_res.choices[0].message.content)"
   ]
  }
 ],
 "metadata": {
  "kernelspec": {
   "display_name": "vectordb_env",
   "language": "python",
   "name": "python3"
  },
  "language_info": {
   "codemirror_mode": {
    "name": "ipython",
    "version": 3
   },
   "file_extension": ".py",
   "mimetype": "text/x-python",
   "name": "python",
   "nbconvert_exporter": "python",
   "pygments_lexer": "ipython3",
   "version": "3.9.21"
  }
 },
 "nbformat": 4,
 "nbformat_minor": 2
}
