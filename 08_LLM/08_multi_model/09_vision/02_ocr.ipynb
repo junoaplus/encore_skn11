{
 "cells": [
  {
   "cell_type": "markdown",
   "metadata": {},
   "source": [
    "# OCR (Optical Character Recognition)"
   ]
  },
  {
   "cell_type": "code",
   "execution_count": 1,
   "metadata": {},
   "outputs": [
    {
     "name": "stdout",
     "output_type": "stream",
     "text": [
      "Requirement already satisfied: easyocr in /Users/hwangjunho/.local/lib/python3.9/site-packages (1.7.2)\n",
      "Requirement already satisfied: torch in /Users/hwangjunho/.local/lib/python3.9/site-packages (from easyocr) (2.7.0)\n",
      "Requirement already satisfied: torchvision>=0.5 in /Users/hwangjunho/.local/lib/python3.9/site-packages (from easyocr) (0.22.0)\n",
      "Requirement already satisfied: opencv-python-headless in /Users/hwangjunho/.local/lib/python3.9/site-packages (from easyocr) (4.11.0.86)\n",
      "Requirement already satisfied: scipy in /opt/anaconda3/envs/vectordb_env/lib/python3.9/site-packages (from easyocr) (1.13.1)\n",
      "Requirement already satisfied: numpy in /opt/anaconda3/envs/vectordb_env/lib/python3.9/site-packages (from easyocr) (2.0.2)\n",
      "Requirement already satisfied: Pillow in /opt/anaconda3/envs/vectordb_env/lib/python3.9/site-packages (from easyocr) (11.2.1)\n",
      "Requirement already satisfied: scikit-image in /Users/hwangjunho/.local/lib/python3.9/site-packages (from easyocr) (0.24.0)\n",
      "Requirement already satisfied: python-bidi in /Users/hwangjunho/.local/lib/python3.9/site-packages (from easyocr) (0.6.6)\n",
      "Requirement already satisfied: PyYAML in /opt/anaconda3/envs/vectordb_env/lib/python3.9/site-packages (from easyocr) (6.0.2)\n",
      "Requirement already satisfied: Shapely in /Users/hwangjunho/.local/lib/python3.9/site-packages (from easyocr) (2.0.7)\n",
      "Requirement already satisfied: pyclipper in /Users/hwangjunho/.local/lib/python3.9/site-packages (from easyocr) (1.3.0.post6)\n",
      "Requirement already satisfied: ninja in /Users/hwangjunho/.local/lib/python3.9/site-packages (from easyocr) (1.11.1.4)\n",
      "Requirement already satisfied: filelock in /opt/anaconda3/envs/vectordb_env/lib/python3.9/site-packages (from torch->easyocr) (3.18.0)\n",
      "Requirement already satisfied: typing-extensions>=4.10.0 in /opt/anaconda3/envs/vectordb_env/lib/python3.9/site-packages (from torch->easyocr) (4.13.2)\n",
      "Requirement already satisfied: sympy>=1.13.3 in /Users/hwangjunho/.local/lib/python3.9/site-packages (from torch->easyocr) (1.14.0)\n",
      "Requirement already satisfied: networkx in /opt/anaconda3/envs/vectordb_env/lib/python3.9/site-packages (from torch->easyocr) (3.2.1)\n",
      "Requirement already satisfied: jinja2 in /opt/anaconda3/envs/vectordb_env/lib/python3.9/site-packages (from torch->easyocr) (3.1.6)\n",
      "Requirement already satisfied: fsspec in /opt/anaconda3/envs/vectordb_env/lib/python3.9/site-packages (from torch->easyocr) (2024.12.0)\n",
      "Requirement already satisfied: mpmath<1.4,>=1.1.0 in /opt/anaconda3/envs/vectordb_env/lib/python3.9/site-packages (from sympy>=1.13.3->torch->easyocr) (1.3.0)\n",
      "Requirement already satisfied: MarkupSafe>=2.0 in /opt/anaconda3/envs/vectordb_env/lib/python3.9/site-packages (from jinja2->torch->easyocr) (3.0.2)\n",
      "Requirement already satisfied: imageio>=2.33 in /Users/hwangjunho/.local/lib/python3.9/site-packages (from scikit-image->easyocr) (2.37.0)\n",
      "Requirement already satisfied: tifffile>=2022.8.12 in /Users/hwangjunho/.local/lib/python3.9/site-packages (from scikit-image->easyocr) (2024.8.30)\n",
      "Requirement already satisfied: packaging>=21 in /opt/anaconda3/envs/vectordb_env/lib/python3.9/site-packages (from scikit-image->easyocr) (24.2)\n",
      "Requirement already satisfied: lazy-loader>=0.4 in /Users/hwangjunho/.local/lib/python3.9/site-packages (from scikit-image->easyocr) (0.4)\n",
      "\n",
      "\u001b[1m[\u001b[0m\u001b[34;49mnotice\u001b[0m\u001b[1;39;49m]\u001b[0m\u001b[39;49m A new release of pip is available: \u001b[0m\u001b[31;49m25.1\u001b[0m\u001b[39;49m -> \u001b[0m\u001b[32;49m25.1.1\u001b[0m\n",
      "\u001b[1m[\u001b[0m\u001b[34;49mnotice\u001b[0m\u001b[1;39;49m]\u001b[0m\u001b[39;49m To update, run: \u001b[0m\u001b[32;49mpip install --upgrade pip\u001b[0m\n"
     ]
    }
   ],
   "source": [
    "# 환경설정\n",
    "!pip install easyocr --user"
   ]
  },
  {
   "cell_type": "markdown",
   "metadata": {},
   "source": [
    "### 이미지 -> 덱스트 추출"
   ]
  },
  {
   "cell_type": "code",
   "execution_count": 5,
   "metadata": {},
   "outputs": [
    {
     "name": "stderr",
     "output_type": "stream",
     "text": [
      "/Users/hwangjunho/.local/lib/python3.9/site-packages/torch/utils/data/dataloader.py:683: UserWarning: 'pin_memory' argument is set as true but not supported on MPS now, then device pinned memory won't be used.\n",
      "  warnings.warn(warn_msg)\n"
     ]
    },
    {
     "name": "stdout",
     "output_type": "stream",
     "text": [
      "하루만 행복하려면 이발소에 가라,\n",
      "일주일만 행복하려면 차흘 사라\n",
      "한 달올 행복하려면 결혼올 해라\n",
      "일 년을 행복하려면 집을 사라\n",
      "평생 행복하고 싶다면 정직하게 살아라.\n"
     ]
    }
   ],
   "source": [
    "import easyocr\n",
    "\n",
    "reader = easyocr.Reader(['ko', 'en'])\n",
    "\n",
    "# 이미지에서 텍스트 추출\n",
    "result = reader.readtext('sinn.png')\n",
    "\n",
    "# 추출된 텍스트 출력\n",
    "for bbox, text, conf in result:\n",
    "    print(text)"
   ]
  },
  {
   "cell_type": "code",
   "execution_count": 3,
   "metadata": {},
   "outputs": [
    {
     "name": "stdout",
     "output_type": "stream",
     "text": [
      "Collecting paddlepaddle\n",
      "  Downloading paddlepaddle-3.0.0-cp39-cp39-macosx_11_0_arm64.whl.metadata (8.6 kB)\n",
      "Collecting paddleocr\n",
      "  Downloading paddleocr-2.10.0-py3-none-any.whl.metadata (12 kB)\n",
      "Requirement already satisfied: httpx in /opt/anaconda3/envs/vectordb_env/lib/python3.9/site-packages (from paddlepaddle) (0.28.1)\n",
      "Requirement already satisfied: numpy>=1.21 in /opt/anaconda3/envs/vectordb_env/lib/python3.9/site-packages (from paddlepaddle) (2.0.2)\n",
      "Requirement already satisfied: protobuf>=3.20.2 in /opt/anaconda3/envs/vectordb_env/lib/python3.9/site-packages (from paddlepaddle) (5.29.4)\n",
      "Requirement already satisfied: Pillow in /opt/anaconda3/envs/vectordb_env/lib/python3.9/site-packages (from paddlepaddle) (11.2.1)\n",
      "Requirement already satisfied: decorator in /opt/anaconda3/envs/vectordb_env/lib/python3.9/site-packages (from paddlepaddle) (5.2.1)\n",
      "Collecting astor (from paddlepaddle)\n",
      "  Downloading astor-0.8.1-py2.py3-none-any.whl.metadata (4.2 kB)\n",
      "Collecting opt-einsum==3.3.0 (from paddlepaddle)\n",
      "  Downloading opt_einsum-3.3.0-py3-none-any.whl.metadata (6.5 kB)\n",
      "Requirement already satisfied: networkx in /opt/anaconda3/envs/vectordb_env/lib/python3.9/site-packages (from paddlepaddle) (3.2.1)\n",
      "Requirement already satisfied: typing-extensions in /opt/anaconda3/envs/vectordb_env/lib/python3.9/site-packages (from paddlepaddle) (4.13.2)\n",
      "Requirement already satisfied: shapely in /Users/hwangjunho/.local/lib/python3.9/site-packages (from paddleocr) (2.0.7)\n",
      "Requirement already satisfied: scikit-image in /Users/hwangjunho/.local/lib/python3.9/site-packages (from paddleocr) (0.24.0)\n",
      "Requirement already satisfied: pyclipper in /Users/hwangjunho/.local/lib/python3.9/site-packages (from paddleocr) (1.3.0.post6)\n",
      "Collecting lmdb (from paddleocr)\n",
      "  Downloading lmdb-1.6.2-cp39-cp39-macosx_10_9_universal2.whl.metadata (1.1 kB)\n",
      "Requirement already satisfied: tqdm in /opt/anaconda3/envs/vectordb_env/lib/python3.9/site-packages (from paddleocr) (4.67.1)\n",
      "Collecting rapidfuzz (from paddleocr)\n",
      "  Downloading rapidfuzz-3.13.0-cp39-cp39-macosx_11_0_arm64.whl.metadata (12 kB)\n",
      "Collecting opencv-python (from paddleocr)\n",
      "  Using cached opencv_python-4.11.0.86-cp37-abi3-macosx_13_0_arm64.whl.metadata (20 kB)\n",
      "Collecting opencv-contrib-python (from paddleocr)\n",
      "  Downloading opencv_contrib_python-4.11.0.86-cp37-abi3-macosx_13_0_arm64.whl.metadata (20 kB)\n",
      "Collecting cython (from paddleocr)\n",
      "  Downloading cython-3.1.0-cp39-cp39-macosx_11_0_arm64.whl.metadata (30 kB)\n",
      "Requirement already satisfied: pyyaml in /opt/anaconda3/envs/vectordb_env/lib/python3.9/site-packages (from paddleocr) (6.0.2)\n",
      "Collecting python-docx (from paddleocr)\n",
      "  Downloading python_docx-1.1.2-py3-none-any.whl.metadata (2.0 kB)\n",
      "Requirement already satisfied: beautifulsoup4 in /opt/anaconda3/envs/vectordb_env/lib/python3.9/site-packages (from paddleocr) (4.13.4)\n",
      "Collecting fonttools>=4.24.0 (from paddleocr)\n",
      "  Downloading fonttools-4.58.0-cp39-cp39-macosx_10_9_universal2.whl.metadata (104 kB)\n",
      "Collecting fire>=0.3.0 (from paddleocr)\n",
      "  Downloading fire-0.7.0.tar.gz (87 kB)\n",
      "  Preparing metadata (setup.py) ... \u001b[?25ldone\n",
      "\u001b[?25hRequirement already satisfied: requests in /opt/anaconda3/envs/vectordb_env/lib/python3.9/site-packages (from paddleocr) (2.32.3)\n",
      "Collecting albumentations (from paddleocr)\n",
      "  Downloading albumentations-2.0.6-py3-none-any.whl.metadata (43 kB)\n",
      "Collecting albucore (from paddleocr)\n",
      "  Downloading albucore-0.0.24-py3-none-any.whl.metadata (5.3 kB)\n",
      "Collecting termcolor (from fire>=0.3.0->paddleocr)\n",
      "  Downloading termcolor-3.1.0-py3-none-any.whl.metadata (6.4 kB)\n",
      "Collecting stringzilla>=3.10.4 (from albucore->paddleocr)\n",
      "  Downloading stringzilla-3.12.5-cp39-cp39-macosx_11_0_arm64.whl.metadata (80 kB)\n",
      "Collecting simsimd>=5.9.2 (from albucore->paddleocr)\n",
      "  Downloading simsimd-6.2.1-cp39-cp39-macosx_11_0_arm64.whl.metadata (66 kB)\n",
      "Requirement already satisfied: opencv-python-headless>=4.9.0.80 in /Users/hwangjunho/.local/lib/python3.9/site-packages (from albucore->paddleocr) (4.11.0.86)\n",
      "Requirement already satisfied: scipy>=1.10.0 in /opt/anaconda3/envs/vectordb_env/lib/python3.9/site-packages (from albumentations->paddleocr) (1.13.1)\n",
      "Requirement already satisfied: pydantic>=2.9.2 in /opt/anaconda3/envs/vectordb_env/lib/python3.9/site-packages (from albumentations->paddleocr) (2.11.3)\n",
      "Collecting eval-type-backport (from albumentations->paddleocr)\n",
      "  Downloading eval_type_backport-0.2.2-py3-none-any.whl.metadata (2.2 kB)\n",
      "Requirement already satisfied: annotated-types>=0.6.0 in /opt/anaconda3/envs/vectordb_env/lib/python3.9/site-packages (from pydantic>=2.9.2->albumentations->paddleocr) (0.7.0)\n",
      "Requirement already satisfied: pydantic-core==2.33.1 in /opt/anaconda3/envs/vectordb_env/lib/python3.9/site-packages (from pydantic>=2.9.2->albumentations->paddleocr) (2.33.1)\n",
      "Requirement already satisfied: typing-inspection>=0.4.0 in /opt/anaconda3/envs/vectordb_env/lib/python3.9/site-packages (from pydantic>=2.9.2->albumentations->paddleocr) (0.4.0)\n",
      "Requirement already satisfied: soupsieve>1.2 in /opt/anaconda3/envs/vectordb_env/lib/python3.9/site-packages (from beautifulsoup4->paddleocr) (2.6)\n",
      "Requirement already satisfied: anyio in /opt/anaconda3/envs/vectordb_env/lib/python3.9/site-packages (from httpx->paddlepaddle) (4.9.0)\n",
      "Requirement already satisfied: certifi in /opt/anaconda3/envs/vectordb_env/lib/python3.9/site-packages (from httpx->paddlepaddle) (2025.1.31)\n",
      "Requirement already satisfied: httpcore==1.* in /opt/anaconda3/envs/vectordb_env/lib/python3.9/site-packages (from httpx->paddlepaddle) (1.0.8)\n",
      "Requirement already satisfied: idna in /opt/anaconda3/envs/vectordb_env/lib/python3.9/site-packages (from httpx->paddlepaddle) (3.10)\n",
      "Requirement already satisfied: h11<0.15,>=0.13 in /opt/anaconda3/envs/vectordb_env/lib/python3.9/site-packages (from httpcore==1.*->httpx->paddlepaddle) (0.14.0)\n",
      "Requirement already satisfied: exceptiongroup>=1.0.2 in /opt/anaconda3/envs/vectordb_env/lib/python3.9/site-packages (from anyio->httpx->paddlepaddle) (1.2.2)\n",
      "Requirement already satisfied: sniffio>=1.1 in /opt/anaconda3/envs/vectordb_env/lib/python3.9/site-packages (from anyio->httpx->paddlepaddle) (1.3.1)\n",
      "Collecting lxml>=3.1.0 (from python-docx->paddleocr)\n",
      "  Downloading lxml-5.4.0-cp39-cp39-macosx_10_9_universal2.whl.metadata (3.5 kB)\n",
      "Requirement already satisfied: charset-normalizer<4,>=2 in /opt/anaconda3/envs/vectordb_env/lib/python3.9/site-packages (from requests->paddleocr) (3.4.1)\n",
      "Requirement already satisfied: urllib3<3,>=1.21.1 in /opt/anaconda3/envs/vectordb_env/lib/python3.9/site-packages (from requests->paddleocr) (2.4.0)\n",
      "Requirement already satisfied: imageio>=2.33 in /Users/hwangjunho/.local/lib/python3.9/site-packages (from scikit-image->paddleocr) (2.37.0)\n",
      "Requirement already satisfied: tifffile>=2022.8.12 in /Users/hwangjunho/.local/lib/python3.9/site-packages (from scikit-image->paddleocr) (2024.8.30)\n",
      "Requirement already satisfied: packaging>=21 in /opt/anaconda3/envs/vectordb_env/lib/python3.9/site-packages (from scikit-image->paddleocr) (24.2)\n",
      "Requirement already satisfied: lazy-loader>=0.4 in /Users/hwangjunho/.local/lib/python3.9/site-packages (from scikit-image->paddleocr) (0.4)\n",
      "Downloading paddlepaddle-3.0.0-cp39-cp39-macosx_11_0_arm64.whl (96.9 MB)\n",
      "\u001b[2K   \u001b[90m━━━━━━━━━━━━━━━━━━━━━━━━━━━━━━━━━━━━━━━━\u001b[0m \u001b[32m96.9/96.9 MB\u001b[0m \u001b[31m18.1 MB/s\u001b[0m eta \u001b[36m0:00:00\u001b[0m00:01\u001b[0m00:01\u001b[0m\n",
      "\u001b[?25hDownloading opt_einsum-3.3.0-py3-none-any.whl (65 kB)\n",
      "Downloading paddleocr-2.10.0-py3-none-any.whl (2.4 MB)\n",
      "\u001b[2K   \u001b[90m━━━━━━━━━━━━━━━━━━━━━━━━━━━━━━━━━━━━━━━━\u001b[0m \u001b[32m2.4/2.4 MB\u001b[0m \u001b[31m20.8 MB/s\u001b[0m eta \u001b[36m0:00:00\u001b[0m\n",
      "\u001b[?25hDownloading fonttools-4.58.0-cp39-cp39-macosx_10_9_universal2.whl (2.7 MB)\n",
      "\u001b[2K   \u001b[90m━━━━━━━━━━━━━━━━━━━━━━━━━━━━━━━━━━━━━━━━\u001b[0m \u001b[32m2.7/2.7 MB\u001b[0m \u001b[31m16.0 MB/s\u001b[0m eta \u001b[36m0:00:00\u001b[0m\n",
      "\u001b[?25hDownloading albucore-0.0.24-py3-none-any.whl (15 kB)\n",
      "Downloading simsimd-6.2.1-cp39-cp39-macosx_11_0_arm64.whl (93 kB)\n",
      "Downloading stringzilla-3.12.5-cp39-cp39-macosx_11_0_arm64.whl (79 kB)\n",
      "Downloading albumentations-2.0.6-py3-none-any.whl (332 kB)\n",
      "Downloading astor-0.8.1-py2.py3-none-any.whl (27 kB)\n",
      "Downloading cython-3.1.0-cp39-cp39-macosx_11_0_arm64.whl (2.8 MB)\n",
      "\u001b[2K   \u001b[90m━━━━━━━━━━━━━━━━━━━━━━━━━━━━━━━━━━━━━━━━\u001b[0m \u001b[32m2.8/2.8 MB\u001b[0m \u001b[31m8.4 MB/s\u001b[0m eta \u001b[36m0:00:00\u001b[0mta \u001b[36m0:00:01\u001b[0m\n",
      "\u001b[?25hDownloading eval_type_backport-0.2.2-py3-none-any.whl (5.8 kB)\n",
      "Downloading lmdb-1.6.2-cp39-cp39-macosx_10_9_universal2.whl (166 kB)\n",
      "Downloading opencv_contrib_python-4.11.0.86-cp37-abi3-macosx_13_0_arm64.whl (46.3 MB)\n",
      "\u001b[2K   \u001b[90m━━━━━━━━━━━━━━━━━━━━━━━━━━━━━━━━━━━━━━━━\u001b[0m \u001b[32m46.3/46.3 MB\u001b[0m \u001b[31m24.7 MB/s\u001b[0m eta \u001b[36m0:00:00\u001b[0m00:01\u001b[0m00:01\u001b[0m\n",
      "\u001b[?25hUsing cached opencv_python-4.11.0.86-cp37-abi3-macosx_13_0_arm64.whl (37.3 MB)\n",
      "Downloading python_docx-1.1.2-py3-none-any.whl (244 kB)\n",
      "Downloading lxml-5.4.0-cp39-cp39-macosx_10_9_universal2.whl (8.1 MB)\n",
      "\u001b[2K   \u001b[90m━━━━━━━━━━━━━━━━━━━━━━━━━━━━━━━━━━━━━━━━\u001b[0m \u001b[32m8.1/8.1 MB\u001b[0m \u001b[31m30.6 MB/s\u001b[0m eta \u001b[36m0:00:00\u001b[0ma \u001b[36m0:00:01\u001b[0m\n",
      "\u001b[?25hDownloading rapidfuzz-3.13.0-cp39-cp39-macosx_11_0_arm64.whl (1.5 MB)\n",
      "\u001b[2K   \u001b[90m━━━━━━━━━━━━━━━━━━━━━━━━━━━━━━━━━━━━━━━━\u001b[0m \u001b[32m1.5/1.5 MB\u001b[0m \u001b[31m26.0 MB/s\u001b[0m eta \u001b[36m0:00:00\u001b[0m\n",
      "\u001b[?25hDownloading termcolor-3.1.0-py3-none-any.whl (7.7 kB)\n",
      "Building wheels for collected packages: fire\n",
      "\u001b[33m  DEPRECATION: Building 'fire' using the legacy setup.py bdist_wheel mechanism, which will be removed in a future version. pip 25.3 will enforce this behaviour change. A possible replacement is to use the standardized build interface by setting the `--use-pep517` option, (possibly combined with `--no-build-isolation`), or adding a `pyproject.toml` file to the source tree of 'fire'. Discussion can be found at https://github.com/pypa/pip/issues/6334\u001b[0m\u001b[33m\n",
      "\u001b[0m  Building wheel for fire (setup.py) ... \u001b[?25ldone\n",
      "\u001b[?25h  Created wheel for fire: filename=fire-0.7.0-py3-none-any.whl size=114298 sha256=f5385c43b8b7d7f8f16ce16b1dd41230e883da751f16fd2eb3fca974c5ef1203\n",
      "  Stored in directory: /Users/hwangjunho/Library/Caches/pip/wheels/3b/ee/ac/319a7b7f331f61050d0d54425079b2a883b445be3c7284a4eb\n",
      "Successfully built fire\n",
      "Installing collected packages: stringzilla, simsimd, lmdb, termcolor, rapidfuzz, opt-einsum, opencv-python, opencv-contrib-python, lxml, fonttools, eval-type-backport, cython, astor, python-docx, fire, albucore, paddlepaddle, albumentations, paddleocr\n",
      "\u001b[2K   \u001b[90m━━━━━━━━━━━━━━━━━━━━━━━━━━━━━━━━━━━━━━━━\u001b[0m \u001b[32m19/19\u001b[0m [paddleocr]19\u001b[0m [paddleocr]le]b-python]\n",
      "\u001b[1A\u001b[2KSuccessfully installed albucore-0.0.24 albumentations-2.0.6 astor-0.8.1 cython-3.1.0 eval-type-backport-0.2.2 fire-0.7.0 fonttools-4.58.0 lmdb-1.6.2 lxml-5.4.0 opencv-contrib-python-4.11.0.86 opencv-python-4.11.0.86 opt-einsum-3.3.0 paddleocr-2.10.0 paddlepaddle-3.0.0 python-docx-1.1.2 rapidfuzz-3.13.0 simsimd-6.2.1 stringzilla-3.12.5 termcolor-3.1.0\n",
      "\n",
      "\u001b[1m[\u001b[0m\u001b[34;49mnotice\u001b[0m\u001b[1;39;49m]\u001b[0m\u001b[39;49m A new release of pip is available: \u001b[0m\u001b[31;49m25.1\u001b[0m\u001b[39;49m -> \u001b[0m\u001b[32;49m25.1.1\u001b[0m\n",
      "\u001b[1m[\u001b[0m\u001b[34;49mnotice\u001b[0m\u001b[1;39;49m]\u001b[0m\u001b[39;49m To update, run: \u001b[0m\u001b[32;49mpip install --upgrade pip\u001b[0m\n",
      "\u001b[31mERROR: Could not find a version that satisfies the requirement scikt-learn (from versions: none)\u001b[0m\u001b[31m\n",
      "\u001b[0m\n",
      "\u001b[1m[\u001b[0m\u001b[34;49mnotice\u001b[0m\u001b[1;39;49m]\u001b[0m\u001b[39;49m A new release of pip is available: \u001b[0m\u001b[31;49m25.1\u001b[0m\u001b[39;49m -> \u001b[0m\u001b[32;49m25.1.1\u001b[0m\n",
      "\u001b[1m[\u001b[0m\u001b[34;49mnotice\u001b[0m\u001b[1;39;49m]\u001b[0m\u001b[39;49m To update, run: \u001b[0m\u001b[32;49mpip install --upgrade pip\u001b[0m\n",
      "\u001b[31mERROR: No matching distribution found for scikt-learn\u001b[0m\u001b[31m\n",
      "\u001b[0mCollecting translate\n",
      "  Downloading translate-3.6.1-py2.py3-none-any.whl.metadata (7.7 kB)\n",
      "Requirement already satisfied: click in /opt/anaconda3/envs/vectordb_env/lib/python3.9/site-packages (from translate) (8.1.8)\n",
      "Requirement already satisfied: lxml in /opt/anaconda3/envs/vectordb_env/lib/python3.9/site-packages (from translate) (5.4.0)\n",
      "Requirement already satisfied: requests in /opt/anaconda3/envs/vectordb_env/lib/python3.9/site-packages (from translate) (2.32.3)\n",
      "Collecting libretranslatepy==2.1.1 (from translate)\n",
      "  Downloading libretranslatepy-2.1.1-py3-none-any.whl.metadata (233 bytes)\n",
      "Requirement already satisfied: charset-normalizer<4,>=2 in /opt/anaconda3/envs/vectordb_env/lib/python3.9/site-packages (from requests->translate) (3.4.1)\n",
      "Requirement already satisfied: idna<4,>=2.5 in /opt/anaconda3/envs/vectordb_env/lib/python3.9/site-packages (from requests->translate) (3.10)\n",
      "Requirement already satisfied: urllib3<3,>=1.21.1 in /opt/anaconda3/envs/vectordb_env/lib/python3.9/site-packages (from requests->translate) (2.4.0)\n",
      "Requirement already satisfied: certifi>=2017.4.17 in /opt/anaconda3/envs/vectordb_env/lib/python3.9/site-packages (from requests->translate) (2025.1.31)\n",
      "Downloading translate-3.6.1-py2.py3-none-any.whl (12 kB)\n",
      "Downloading libretranslatepy-2.1.1-py3-none-any.whl (3.2 kB)\n",
      "Installing collected packages: libretranslatepy, translate\n",
      "\u001b[2K   \u001b[90m━━━━━━━━━━━━━━━━━━━━━━━━━━━━━━━━━━━━━━━━\u001b[0m \u001b[32m2/2\u001b[0m [translate]\n",
      "\u001b[1A\u001b[2KSuccessfully installed libretranslatepy-2.1.1 translate-3.6.1\n",
      "\n",
      "\u001b[1m[\u001b[0m\u001b[34;49mnotice\u001b[0m\u001b[1;39;49m]\u001b[0m\u001b[39;49m A new release of pip is available: \u001b[0m\u001b[31;49m25.1\u001b[0m\u001b[39;49m -> \u001b[0m\u001b[32;49m25.1.1\u001b[0m\n",
      "\u001b[1m[\u001b[0m\u001b[34;49mnotice\u001b[0m\u001b[1;39;49m]\u001b[0m\u001b[39;49m To update, run: \u001b[0m\u001b[32;49mpip install --upgrade pip\u001b[0m\n"
     ]
    }
   ],
   "source": [
    "# 환경설정\n",
    "!pip install paddlepaddle paddleocr\n",
    "!pip install scikt-learn\n",
    "!pip install translate"
   ]
  },
  {
   "cell_type": "code",
   "execution_count": 6,
   "metadata": {},
   "outputs": [],
   "source": [
    "from PIL import Image, ImageDraw\n",
    "import numpy as np\n",
    "from sklearn.cluster import DBSCAN\n",
    "from paddleocr import PaddleOCR"
   ]
  },
  {
   "cell_type": "code",
   "execution_count": 9,
   "metadata": {},
   "outputs": [],
   "source": [
    "img = Image.open('sinn.png').convert(\"RGB\")"
   ]
  },
  {
   "cell_type": "code",
   "execution_count": 18,
   "metadata": {},
   "outputs": [
    {
     "name": "stdout",
     "output_type": "stream",
     "text": [
      "[2025/05/13 10:10:58] ppocr DEBUG: Namespace(help='==SUPPRESS==', use_gpu=False, use_xpu=False, use_npu=False, use_mlu=False, use_gcu=False, ir_optim=True, use_tensorrt=False, min_subgraph_size=15, precision='fp32', gpu_mem=500, gpu_id=0, image_dir=None, page_num=0, det_algorithm='DB', det_model_dir='/Users/hwangjunho/.paddleocr/whl/det/ml/Multilingual_PP-OCRv3_det_infer', det_limit_side_len=960, det_limit_type='max', det_box_type='quad', det_db_thresh=0.3, det_db_box_thresh=0.6, det_db_unclip_ratio=1.5, max_batch_size=10, use_dilation=False, det_db_score_mode='fast', det_east_score_thresh=0.8, det_east_cover_thresh=0.1, det_east_nms_thresh=0.2, det_sast_score_thresh=0.5, det_sast_nms_thresh=0.2, det_pse_thresh=0, det_pse_box_thresh=0.85, det_pse_min_area=16, det_pse_scale=1, scales=[8, 16, 32], alpha=1.0, beta=1.0, fourier_degree=5, rec_algorithm='SVTR_LCNet', rec_model_dir='/Users/hwangjunho/.paddleocr/whl/rec/korean/korean_PP-OCRv4_rec_infer', rec_image_inverse=True, rec_image_shape='3, 48, 320', rec_batch_num=6, max_text_length=25, rec_char_dict_path='/opt/anaconda3/envs/vectordb_env/lib/python3.9/site-packages/paddleocr/ppocr/utils/dict/korean_dict.txt', use_space_char=True, vis_font_path='./doc/fonts/simfang.ttf', drop_score=0.5, e2e_algorithm='PGNet', e2e_model_dir=None, e2e_limit_side_len=768, e2e_limit_type='max', e2e_pgnet_score_thresh=0.5, e2e_char_dict_path='./ppocr/utils/ic15_dict.txt', e2e_pgnet_valid_set='totaltext', e2e_pgnet_mode='fast', use_angle_cls=False, cls_model_dir='/Users/hwangjunho/.paddleocr/whl/cls/ch_ppocr_mobile_v2.0_cls_infer', cls_image_shape='3, 48, 192', label_list=['0', '180'], cls_batch_num=6, cls_thresh=0.9, enable_mkldnn=False, cpu_threads=10, use_pdserving=False, warmup=False, sr_model_dir=None, sr_image_shape='3, 32, 128', sr_batch_num=1, draw_img_save_dir='./inference_results', save_crop_res=False, crop_res_save_dir='./output', use_mp=False, total_process_num=1, process_id=0, benchmark=False, save_log_path='./log_output/', show_log=True, use_onnx=False, onnx_providers=False, onnx_sess_options=False, return_word_box=False, output='./output', table_max_len=488, table_algorithm='TableAttn', table_model_dir=None, merge_no_span_structure=True, table_char_dict_path=None, formula_algorithm='LaTeXOCR', formula_model_dir=None, formula_char_dict_path=None, formula_batch_num=1, layout_model_dir=None, layout_dict_path=None, layout_score_threshold=0.5, layout_nms_threshold=0.5, kie_algorithm='LayoutXLM', ser_model_dir=None, re_model_dir=None, use_visual_backbone=True, ser_dict_path='../train_data/XFUND/class_list_xfun.txt', ocr_order_method=None, mode='structure', image_orientation=False, layout=True, table=True, formula=False, ocr=True, recovery=False, recovery_to_markdown=False, use_pdf2docx_api=False, invert=False, binarize=False, alphacolor=(255, 255, 255), lang='korean', det=True, rec=True, type='ocr', savefile=False, ocr_version='PP-OCRv4', structure_version='PP-StructureV2')\n",
      "[2025/05/13 10:10:58] ppocr DEBUG: dt_boxes num : 22, elapsed : 0.1708850860595703\n",
      "[2025/05/13 10:11:02] ppocr DEBUG: rec_res num  : 22, elapsed : 3.8106727600097656\n"
     ]
    }
   ],
   "source": [
    "ocr = PaddleOCR(lang='korean')\n",
    "result = ocr.ocr('sinn.png', cls=False)"
   ]
  },
  {
   "cell_type": "code",
   "execution_count": 19,
   "metadata": {},
   "outputs": [
    {
     "name": "stdout",
     "output_type": "stream",
     "text": [
      "[[[81.0, 356.0], [173.0, 359.0], [172.0, 397.0], [80.0, 394.0]], [[183.0, 359.0], [328.0, 359.0], [328.0, 395.0], [183.0, 395.0]], [[339.0, 356.0], [459.0, 356.0], [459.0, 396.0], [339.0, 396.0]], [[465.0, 355.0], [536.0, 355.0], [536.0, 398.0], [465.0, 398.0]], [[98.0, 413.0], [218.0, 413.0], [218.0, 452.0], [98.0, 452.0]], [[226.0, 414.0], [374.0, 414.0], [374.0, 449.0], [226.0, 449.0]], [[382.0, 412.0], [447.0, 412.0], [447.0, 452.0], [382.0, 452.0]], [[451.0, 412.0], [520.0, 412.0], [520.0, 451.0], [451.0, 451.0]], [[92.0, 467.0], [193.0, 467.0], [193.0, 508.0], [92.0, 508.0]], [[202.0, 470.0], [348.0, 470.0], [348.0, 505.0], [202.0, 505.0]], [[356.0, 468.0], [451.0, 468.0], [451.0, 508.0], [356.0, 508.0]], [[455.0, 466.0], [525.0, 466.0], [525.0, 508.0], [455.0, 508.0]], [[107.0, 525.0], [137.0, 521.0], [142.0, 559.0], [112.0, 563.0]], [[144.0, 523.0], [208.0, 523.0], [208.0, 562.0], [144.0, 562.0]], [[215.0, 524.0], [363.0, 524.0], [363.0, 560.0], [215.0, 560.0]], [[370.0, 520.0], [434.0, 520.0], [434.0, 566.0], [370.0, 566.0]], [[440.0, 521.0], [511.0, 521.0], [511.0, 564.0], [440.0, 564.0]], [[47.0, 632.0], [111.0, 632.0], [111.0, 674.0], [47.0, 674.0]], [[117.0, 635.0], [236.0, 635.0], [236.0, 671.0], [117.0, 671.0]], [[246.0, 631.0], [334.0, 631.0], [334.0, 671.0], [246.0, 671.0]], [[342.0, 633.0], [462.0, 633.0], [462.0, 672.0], [342.0, 672.0]], [[474.0, 634.0], [567.0, 634.0], [567.0, 671.0], [474.0, 671.0]]]\n",
      "['하루만', '행복하려면', '이발소에', '가라', '일주일만', '행복하려면', '차를', '사라', '한달을', '행복하려면', '결혼을', '해라', '일', '년을', '행복하려면', '집을', '사라', '평생', '행복하고', '싶다면', '정직하게', '살아라']\n",
      "[0.9999181628227234, 0.9999622106552124, 0.9999038577079773, 0.9996846318244934, 0.9998816251754761, 0.9999468922615051, 0.9996393322944641, 0.9999043941497803, 0.9999277591705322, 0.9999574422836304, 0.9999882578849792, 0.9997667670249939, 0.9998100399971008, 0.999948263168335, 0.9999204874038696, 0.9999032020568848, 0.9997327327728271, 0.999680757522583, 0.9999847412109375, 0.9999094009399414, 0.9998856782913208, 0.9999613761901855]\n"
     ]
    }
   ],
   "source": [
    "boxdata = [item[0] for item in result[0]]\n",
    "textdata = [item[1][0] for item in result[0]]\n",
    "confdata = [item[1][1] for item in result[0]]\n",
    "\n",
    "print(boxdata)\n",
    "print(textdata)\n",
    "print(confdata)"
   ]
  },
  {
   "cell_type": "code",
   "execution_count": 24,
   "metadata": {},
   "outputs": [],
   "source": [
    "def point_center(box):\n",
    "    x_center = box[0] + box[2] / 2\n",
    "    y_center = box[1] + box[3] / 2\n",
    "    return np.array([x_center, y_center])"
   ]
  },
  {
   "cell_type": "code",
   "execution_count": 25,
   "metadata": {},
   "outputs": [],
   "source": [
    "def cluster_boxes(boxes, eps=100):\n",
    "    center = np.array([point_center(box) for box in boxes])\n",
    "    clustering = DBSCAN(eps=eps, min_samples=1).fit(center)\n",
    "    labels = clustering.labels_\n",
    "    clusters = {}\n",
    "    for i, label in enumerate(labels):\n",
    "        clusters.setdefault(label, []).append(i)\n",
    "    \n",
    "    return list(clusters.values())\n",
    "    "
   ]
  },
  {
   "cell_type": "code",
   "execution_count": 26,
   "metadata": {},
   "outputs": [],
   "source": [
    "box_point_data = [[int(x1), int(y1), int(x2-x1), int(y2-y1)] for [[x1, y1], [x2, y2], _, _] in boxdata]\n",
    "cluster_result = cluster_boxes(box_point_data)"
   ]
  },
  {
   "cell_type": "code",
   "execution_count": 27,
   "metadata": {},
   "outputs": [],
   "source": [
    "from translate import Translator\n",
    "\n",
    "Translator = Translator(from_lang='ko', to_lang='en')\n",
    "\n",
    "doc_result = [\" \".join([textdata[word_idx] for word_idx in cluster]) for cluster in cluster_result]\n",
    "\n",
    "eng_doc = [Translator.translate(text) for text in doc_result]"
   ]
  },
  {
   "cell_type": "code",
   "execution_count": 28,
   "metadata": {},
   "outputs": [],
   "source": [
    "new_img = img.copy()\n",
    "draw = ImageDraw.Draw(new_img)\n",
    "font_height = 16\n",
    "\n",
    "for idx, text in enumerate(eng_doc):\n",
    "    line_height = font_height * 1.2\n",
    "    start_idx = cluster_result[idx][0]\n",
    "    for line in text.split():\n",
    "        text_position = box_point_data[start_idx][0], box_point_data[start_idx][1] + line_height\n",
    "        draw.text(text_position, line, fill='black')\n",
    "        line_height += font_height\n",
    "        \n",
    "new_img.show()"
   ]
  }
 ],
 "metadata": {
  "kernelspec": {
   "display_name": "vectordb_env",
   "language": "python",
   "name": "python3"
  },
  "language_info": {
   "codemirror_mode": {
    "name": "ipython",
    "version": 3
   },
   "file_extension": ".py",
   "mimetype": "text/x-python",
   "name": "python",
   "nbconvert_exporter": "python",
   "pygments_lexer": "ipython3",
   "version": "3.9.21"
  }
 },
 "nbformat": 4,
 "nbformat_minor": 2
}
