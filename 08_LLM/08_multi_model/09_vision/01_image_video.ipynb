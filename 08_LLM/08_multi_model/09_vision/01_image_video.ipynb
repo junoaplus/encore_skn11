{
 "cells": [
  {
   "cell_type": "markdown",
   "id": "76db8105",
   "metadata": {},
   "source": [
    "# OpemCv \n",
    "- 오픈소스 컴퓨터 비전 라이브러리 \n",
    "\n",
    "**주요 기능**\n",
    "1. 이미지 처리\n",
    "2. 비디오 분석\n",
    "3. 컴퓨터 비전 알고리즘\n",
    "4. 딥러닝 통합"
   ]
  },
  {
   "cell_type": "code",
   "execution_count": 2,
   "id": "6d97c37b",
   "metadata": {},
   "outputs": [
    {
     "name": "stdout",
     "output_type": "stream",
     "text": [
      "Requirement already satisfied: opencv-python in /opt/anaconda3/envs/pystudy_env/lib/python3.12/site-packages (4.11.0.86)\n",
      "Requirement already satisfied: numpy>=1.21.2 in /opt/anaconda3/envs/pystudy_env/lib/python3.12/site-packages (from opencv-python) (2.1.3)\n",
      "\n",
      "\u001b[1m[\u001b[0m\u001b[34;49mnotice\u001b[0m\u001b[1;39;49m]\u001b[0m\u001b[39;49m A new release of pip is available: \u001b[0m\u001b[31;49m25.1\u001b[0m\u001b[39;49m -> \u001b[0m\u001b[32;49m25.1.1\u001b[0m\n",
      "\u001b[1m[\u001b[0m\u001b[34;49mnotice\u001b[0m\u001b[1;39;49m]\u001b[0m\u001b[39;49m To update, run: \u001b[0m\u001b[32;49mpip install --upgrade pip\u001b[0m\n"
     ]
    }
   ],
   "source": [
    "# 환경 설정\n",
    "!pip install opencv-python"
   ]
  },
  {
   "cell_type": "markdown",
   "id": "6e1059af",
   "metadata": {},
   "source": [
    "### 이미지 처리"
   ]
  },
  {
   "cell_type": "code",
   "execution_count": 3,
   "id": "b3c9f00c",
   "metadata": {},
   "outputs": [],
   "source": [
    "import cv2\n",
    "\n",
    "img = cv2.imread('dog.jpg')\n",
    "img = cv2.imread('dog.jpg', cv2.IMREAD_COLOR) # 기본값\n",
    "img = cv2.imread('dog.jpg', cv2.IMREAD_GRAYSCALE) # 회색조 이미지\n",
    "cv2.imshow('Dog', img)\n",
    "cv2.waitKey(0)\n",
    "cv2.destroyAllWindows()"
   ]
  },
  {
   "cell_type": "code",
   "execution_count": null,
   "id": "c263da3e",
   "metadata": {},
   "outputs": [
    {
     "name": "stdout",
     "output_type": "stream",
     "text": [
      "<class 'numpy.ndarray'>\n",
      "(313, 500, 3)\n"
     ]
    }
   ],
   "source": [
    "print(type(img))\n",
    "print(img.shape)"
   ]
  },
  {
   "cell_type": "markdown",
   "id": "f153a68e",
   "metadata": {},
   "source": [
    "### 2. 동영상 처리"
   ]
  },
  {
   "cell_type": "code",
   "execution_count": 7,
   "id": "d67455c6",
   "metadata": {},
   "outputs": [
    {
     "name": "stdout",
     "output_type": "stream",
     "text": [
      "Frame count: 350.0\n",
      "FPS: 25.0\n",
      "Width: 640.0\n",
      "Height: 360.0\n",
      "<class 'cv2.VideoCapture'>\n"
     ]
    }
   ],
   "source": [
    "import cv2\n",
    "\n",
    "cap = cv2.VideoCapture('video.mp4')\n",
    "\n",
    "frame_count = cap.get(cv2.CAP_PROP_FRAME_COUNT)\n",
    "fps = cap.get(cv2.CAP_PROP_FPS)\n",
    "width = cap.get(cv2.CAP_PROP_FRAME_WIDTH)\n",
    "height = cap.get(cv2.CAP_PROP_FRAME_HEIGHT)\n",
    "\n",
    "print(f\"Frame count: {frame_count}\")\n",
    "print(f\"FPS: {fps}\")\n",
    "print(f\"Width: {width}\")\n",
    "print(f\"Height: {height}\")\n",
    "print(type(cap))\n",
    "\n",
    "while cap.isOpened():\n",
    "    ret, frame = cap.read()\n",
    "    if not ret:\n",
    "        break\n",
    "    \n",
    "    cv2.imshow('Frame', frame)\n",
    "    \n",
    "    if cv2.waitKey(int(1000/fps)) == ord('q'):\n",
    "        break\n",
    "\n",
    "cap.release()\n",
    "cv2.destroyAllWindows()"
   ]
  },
  {
   "cell_type": "code",
   "execution_count": 5,
   "id": "b4c4a6a3",
   "metadata": {},
   "outputs": [
    {
     "data": {
      "text/plain": [
       "113"
      ]
     },
     "execution_count": 5,
     "metadata": {},
     "output_type": "execute_result"
    }
   ],
   "source": [
    "ord('q')"
   ]
  },
  {
   "cell_type": "markdown",
   "id": "04019f68",
   "metadata": {},
   "source": [
    "### 3. 웹캠 영상 처리"
   ]
  },
  {
   "cell_type": "code",
   "execution_count": 6,
   "id": "eace117f",
   "metadata": {},
   "outputs": [],
   "source": [
    "import cv2\n",
    "\n",
    "cap = cv2.VideoCapture(0)\n",
    "\n",
    "if not cap.isOpened():\n",
    "    print(\"Error: 웹캠을 열 수 없습니다\")\n",
    "    exit()\n",
    "\n",
    "while True:\n",
    "    ret, frame = cap.read()\n",
    "    if not ret:\n",
    "        break\n",
    "    cv2.imshow('Frame', frame)\n",
    "    if cv2.waitKey(1) == ord('q'):\n",
    "        break\n",
    "\n",
    "cap.release()\n",
    "cv2.destroyAllWindows()\n"
   ]
  }
 ],
 "metadata": {
  "kernelspec": {
   "display_name": "pystudy_env",
   "language": "python",
   "name": "python3"
  },
  "language_info": {
   "codemirror_mode": {
    "name": "ipython",
    "version": 3
   },
   "file_extension": ".py",
   "mimetype": "text/x-python",
   "name": "python",
   "nbconvert_exporter": "python",
   "pygments_lexer": "ipython3",
   "version": "3.12.2"
  }
 },
 "nbformat": 4,
 "nbformat_minor": 5
}
