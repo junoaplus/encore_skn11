{
 "cells": [
  {
   "cell_type": "markdown",
   "metadata": {},
   "source": [
    "# AI FAQ 챗봇 만들기 with RAG"
   ]
  },
  {
   "cell_type": "code",
   "execution_count": 1,
   "metadata": {},
   "outputs": [
    {
     "data": {
      "text/plain": [
       "True"
      ]
     },
     "execution_count": 1,
     "metadata": {},
     "output_type": "execute_result"
    }
   ],
   "source": [
    "# 환경 변수 세팅\n",
    "from dotenv import load_dotenv\n",
    "load_dotenv()"
   ]
  },
  {
   "cell_type": "code",
   "execution_count": 27,
   "metadata": {},
   "outputs": [],
   "source": [
    "from langchain_openai import OpenAIEmbeddings, ChatOpenAI\n",
    "from langchain.vectorstores import Chroma\n",
    "from langchain.chains import RetrievalQA\n",
    "from langchain.prompts import PromptTemplate\n",
    "from langchain.schema import Document\n",
    "import json\n",
    "from langchain_core.output_parsers import StrOutputParser"
   ]
  },
  {
   "cell_type": "markdown",
   "metadata": {},
   "source": [
    "1. 데이터 로드"
   ]
  },
  {
   "cell_type": "code",
   "execution_count": 3,
   "metadata": {},
   "outputs": [],
   "source": [
    "with open('data/faq_chatbot_data.json', 'r', encoding='utf-8') as f:\n",
    "    faq_data = json.load(f)"
   ]
  },
  {
   "cell_type": "code",
   "execution_count": 4,
   "metadata": {},
   "outputs": [
    {
     "data": {
      "text/plain": [
       "[{'question': '반품 정책이 어떻게 되나요?',\n",
       "  'answer': '제품을 수령한 후 14일 이내에 반품이 가능합니다. 반품 신청은 고객센터에서 도와드립니다.'},\n",
       " {'question': '배송은 얼마나 걸리나요?',\n",
       "  'answer': '일반적으로 2~5일 정도 소요되며, 지역에 따라 다를 수 있습니다.'},\n",
       " {'question': '회원가입 없이 주문할 수 있나요?',\n",
       "  'answer': '네, 비회원 주문이 가능합니다. 다만, 주문 조회 및 혜택을 받기 위해 회원가입을 추천드립니다.'},\n",
       " {'question': '포인트 적립은 어떻게 되나요?',\n",
       "  'answer': '구매 금액의 1%가 적립되며, 특별 프로모션 기간 동안 추가 적립이 가능합니다.'},\n",
       " {'question': '해외 배송이 가능한가요?',\n",
       "  'answer': '일부 국가를 대상으로 해외 배송이 가능하며, 배송비는 지역에 따라 상이할 수 있습니다.'},\n",
       " {'question': '제품 보증 기간은 얼마나 되나요?',\n",
       "  'answer': '제품 보증 기간은 기본적으로 1년이며, 일부 제품은 연장 보증이 가능합니다.'},\n",
       " {'question': 'A/S 신청은 어떻게 하나요?',\n",
       "  'answer': '공식 홈페이지 또는 고객센터를 통해 A/S 신청이 가능합니다.'},\n",
       " {'question': '재고가 없는 상품은 언제 다시 입고되나요?',\n",
       "  'answer': '입고 일정은 상품마다 다르며, 알림 설정을 통해 입고 시 안내받을 수 있습니다.'},\n",
       " {'question': '구매 후 영수증을 받을 수 있나요?',\n",
       "  'answer': '네, 주문 내역에서 전자 영수증을 다운로드할 수 있습니다.'},\n",
       " {'question': '다른 사람이 대신 주문을 수령할 수 있나요?',\n",
       "  'answer': '네, 수령인을 지정할 수 있으며 신분증 확인 후 수령 가능합니다.'},\n",
       " {'question': '결제 방법에는 어떤 것이 있나요?',\n",
       "  'answer': '신용카드, 계좌이체, 모바일 결제 등 다양한 방법을 지원합니다.'},\n",
       " {'question': '배송 주소를 변경할 수 있나요?',\n",
       "  'answer': '출고 전이라면 고객센터를 통해 배송 주소 변경이 가능합니다.'},\n",
       " {'question': '구매 후 취소할 수 있나요?', 'answer': '상품이 출고되지 않은 상태라면 주문 취소가 가능합니다.'}]"
      ]
     },
     "execution_count": 4,
     "metadata": {},
     "output_type": "execute_result"
    }
   ],
   "source": [
    "faq_data"
   ]
  },
  {
   "cell_type": "markdown",
   "metadata": {},
   "source": [
    "2. embedding 모델 생성 + vector store 생성"
   ]
  },
  {
   "cell_type": "code",
   "execution_count": 5,
   "metadata": {},
   "outputs": [],
   "source": [
    "embedding_model = OpenAIEmbeddings(model='text-embedding-3-small')"
   ]
  },
  {
   "cell_type": "code",
   "execution_count": 30,
   "metadata": {},
   "outputs": [],
   "source": [
    "documents = []\n",
    "\n",
    "for item in faq_data:\n",
    "    question = item['question']\n",
    "    answer = item['answer']\n",
    "    \n",
    "    content = f\"Q: {question}\\nA: {answer}\"\n",
    "    \n",
    "    doc = Document(\n",
    "        page_content=content,\n",
    "        metadata={'source': 'faq'}\n",
    "    )\n",
    "    \n",
    "    documents.append(doc)\n",
    "    \n",
    "vector_store = Chroma.from_documents(documents, embedding_model,persist_directory='chroma_db')"
   ]
  },
  {
   "cell_type": "code",
   "execution_count": null,
   "metadata": {},
   "outputs": [],
   "source": [
    "vector_store = Chroma(\n",
    "    embedding_function=embedding_model,\n",
    "    persist_directory='chroma_db'\n",
    ")"
   ]
  },
  {
   "cell_type": "markdown",
   "metadata": {},
   "source": [
    "3. llm 설정 (모델 생성)"
   ]
  },
  {
   "cell_type": "code",
   "execution_count": 17,
   "metadata": {},
   "outputs": [],
   "source": [
    "model = ChatOpenAI(model_name='gpt-4o-mini', temperature=0)"
   ]
  },
  {
   "cell_type": "markdown",
   "metadata": {},
   "source": [
    "4. 프롬프트 및 체인 설정"
   ]
  },
  {
   "cell_type": "code",
   "execution_count": 19,
   "metadata": {},
   "outputs": [],
   "source": [
    "prompt = PromptTemplate(\n",
    "    input_variables=[\"context\", \"question\"],\n",
    "    template=\"\"\"\n",
    "다음은 자주 묻는 질문과 그에 대한 답변입니다.\n",
    "이 정보를 바탕으로 사용자의 질문에 가장 관련 있는 답변을 제공하세요.\n",
    "반드시 context만을 사용하여 답변하새요\n",
    "\n",
    "context: {context}\n",
    "\n",
    "질문: {question}\n",
    "답변: \n",
    "\"\"\"\n",
    ")\n"
   ]
  },
  {
   "cell_type": "code",
   "execution_count": 28,
   "metadata": {},
   "outputs": [],
   "source": [
    "retriever = vector_store.as_retriever(search_kwargs={\"k\": 3})\n",
    "question=\"배송은 얼마나 걸리나요?\"\n",
    "retrivals = retriever.batch([question])\n",
    "context_text = \"\\n\".join([doc.page_content for doc in retrivals[0]])\n",
    "\n",
    "chain = prompt | model | StrOutputParser()"
   ]
  },
  {
   "cell_type": "code",
   "execution_count": 31,
   "metadata": {},
   "outputs": [],
   "source": [
    "qa_chain = RetrievalQA.from_chain_type(\n",
    "    llm=model,\n",
    "    retriever=retriever,\n",
    "    chain_type=\"stuff\",\n",
    "    chain_type_kwargs={\"prompt\": prompt}\n",
    ")"
   ]
  },
  {
   "cell_type": "markdown",
   "metadata": {},
   "source": [
    "5. 사용"
   ]
  },
  {
   "cell_type": "code",
   "execution_count": 29,
   "metadata": {},
   "outputs": [
    {
     "data": {
      "text/plain": [
       "'일반적으로 2~5일 정도 소요되며, 지역에 따라 다를 수 있습니다.'"
      ]
     },
     "execution_count": 29,
     "metadata": {},
     "output_type": "execute_result"
    }
   ],
   "source": [
    "chain.invoke({\"context\": context_text, \"question\": question})"
   ]
  },
  {
   "cell_type": "code",
   "execution_count": 33,
   "metadata": {},
   "outputs": [
    {
     "data": {
      "text/plain": [
       "'죄송하지만, 제공된 context에는 \"현대다운\"에 대한 정보가 포함되어 있지 않습니다. 추가적인 정보나 질문을 주시면 더 나은 답변을 드릴 수 있습니다.'"
      ]
     },
     "execution_count": 33,
     "metadata": {},
     "output_type": "execute_result"
    }
   ],
   "source": [
    "qa_chain.run('현대다운')"
   ]
  }
 ],
 "metadata": {
  "kernelspec": {
   "display_name": "vectordb_env",
   "language": "python",
   "name": "python3"
  },
  "language_info": {
   "codemirror_mode": {
    "name": "ipython",
    "version": 3
   },
   "file_extension": ".py",
   "mimetype": "text/x-python",
   "name": "python",
   "nbconvert_exporter": "python",
   "pygments_lexer": "ipython3",
   "version": "3.9.21"
  }
 },
 "nbformat": 4,
 "nbformat_minor": 2
}
