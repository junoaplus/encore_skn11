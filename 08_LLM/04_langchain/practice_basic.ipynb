{
 "cells": [
  {
   "cell_type": "code",
   "execution_count": 1,
   "metadata": {},
   "outputs": [
    {
     "data": {
      "text/plain": [
       "True"
      ]
     },
     "execution_count": 1,
     "metadata": {},
     "output_type": "execute_result"
    }
   ],
   "source": [
    "# 환경설정\n",
    "from dotenv import load_dotenv\n",
    "\n",
    "load_dotenv()"
   ]
  },
  {
   "cell_type": "markdown",
   "metadata": {},
   "source": [
    "### chain을 이용한 Simple LLm\n",
    "1. PromptTemplate\n",
    "2. LLM\n",
    "3. OutputParser"
   ]
  },
  {
   "cell_type": "code",
   "execution_count": 2,
   "metadata": {},
   "outputs": [],
   "source": [
    "# 1. PromptTemplate\n",
    "from langchain import PromptTemplate\n",
    "from langchain_openai import ChatOpenAI\n",
    "\n",
    "prompt = PromptTemplate(\n",
    "    template=\"{question}?\",\n",
    "    input_variables=[\"question\"]\n",
    ")"
   ]
  },
  {
   "cell_type": "code",
   "execution_count": 3,
   "metadata": {},
   "outputs": [],
   "source": [
    "from langchain_core.prompts import ChatPromptTemplate\n",
    "\n",
    "prompt_template = ChatPromptTemplate([\n",
    "    ('system', '너는 애니메이션을 잘 아는 챗봇이야. 사용자의 질문에 친절하고 상세하게 답변 할 수 있어.'),\n",
    "    ('user', '{question}')\n",
    "])"
   ]
  },
  {
   "cell_type": "code",
   "execution_count": 4,
   "metadata": {},
   "outputs": [],
   "source": [
    "# 2. Model\n",
    "model = ChatOpenAI(\n",
    "    model_name='gpt-4o-mini',\n",
    "    temperature=0\n",
    ")"
   ]
  },
  {
   "cell_type": "code",
   "execution_count": 5,
   "metadata": {},
   "outputs": [],
   "source": [
    "# 3. OutputParser(StrOutputParser)\n",
    "from langchain.schema.output_parser import StrOutputParser\n",
    "\n",
    "output_parser = StrOutputParser()"
   ]
  },
  {
   "cell_type": "code",
   "execution_count": 6,
   "metadata": {},
   "outputs": [
    {
     "name": "stdout",
     "output_type": "stream",
     "text": [
      "포켓몬의 강함은 여러 요소에 따라 달라질 수 있습니다. 일반적으로는 전투 능력, 타입 상성, 기술 조합, 그리고 전략적인 사용 등이 중요한 요소입니다. \n",
      "\n",
      "현재 메타에서 강력한 포켓몬으로는 \"아르세우스\", \"메가 레쿠쟈\", \"무장조\" 등이 자주 언급됩니다. 하지만 특정 상황이나 대전 방식에 따라 강한 포켓몬이 달라질 수 있으니, 어떤 포켓몬이 가장 강한지는 상황에 따라 다를 수 있습니다. \n",
      "\n",
      "또한, 각 세대마다 새로운 포켓몬이 추가되기 때문에, 최신 정보를 참고하는 것이 좋습니다. 어떤 포켓몬을 사용하고 싶은지에 따라 전략을 세우는 것이 중요합니다!\n"
     ]
    }
   ],
   "source": [
    "# 4. Chain -> 질의\n",
    "# questiom: 어떤 포켓몬이 가장 강해?\n",
    "chain= prompt | model | output_parser\n",
    "\n",
    "question = \"어떤 포켓몬이 가장 강해?\"\n",
    "response = chain.invoke({\"question\": question})\n",
    "\n",
    "print(response)"
   ]
  },
  {
   "cell_type": "code",
   "execution_count": 7,
   "metadata": {},
   "outputs": [
    {
     "data": {
      "text/plain": [
       "'포켓몬의 강함은 여러 요소에 따라 달라질 수 있습니다. 일반적으로는 전투 능력, 타입 상성, 기술 조합, 그리고 전략적인 사용 등이 중요한 요소입니다. \\n\\n현재 메타에서 강력한 포켓몬으로는 \"아르세우스\", \"메가 레쿠쟈\", \"무장조\", \"이브이\"의 진화형인 \"리피아\"와 \"블래키\" 등이 있습니다. 하지만 특정 상황이나 대전 방식에 따라 강한 포켓몬이 달라질 수 있으니, 어떤 포켓몬이 가장 강한지는 상황에 따라 다를 수 있습니다. \\n\\n또한, 포켓몬 게임의 업데이트나 새로운 세대가 출시되면 강력한 포켓몬이 바뀔 수 있으니, 최신 정보를 참고하는 것이 좋습니다!'"
      ]
     },
     "execution_count": 7,
     "metadata": {},
     "output_type": "execute_result"
    }
   ],
   "source": [
    "from langchain_core.runnables import RunnableSequence\n",
    "\n",
    "chain = RunnableSequence(prompt, model, output_parser)\n",
    "chain.invoke({'question': '어떤 포켓몬이 가장 강해?'})"
   ]
  },
  {
   "cell_type": "markdown",
   "metadata": {},
   "source": [
    "### 단계별 Chatbot\n",
    "- 첫 대화에서 내 이름을 알려주고, 다음 대화에서 내 이름 기억하는지 물어보기!"
   ]
  },
  {
   "cell_type": "markdown",
   "metadata": {},
   "source": [
    "1. 그냥 Chat\n",
    "- langchain_openai의 ChatopenAI\n",
    "- langchain_core.messages의 클래스"
   ]
  },
  {
   "cell_type": "code",
   "execution_count": 8,
   "metadata": {},
   "outputs": [],
   "source": [
    "from langchain_openai import ChatOpenAI\n",
    "\n",
    "model = ChatOpenAI(\n",
    "    model_name='gpt-4o-mini',\n",
    "    temperature=0.5\n",
    ")"
   ]
  },
  {
   "cell_type": "code",
   "execution_count": 11,
   "metadata": {},
   "outputs": [
    {
     "data": {
      "text/plain": [
       "'안녕, 주노! 만나서 반가워. 어떻게 지내?'"
      ]
     },
     "execution_count": 11,
     "metadata": {},
     "output_type": "execute_result"
    }
   ],
   "source": [
    "from langchain_core.messages import HumanMessage\n",
    "\n",
    "model.invoke([\n",
    "    HumanMessage('안녕! 내 이름은 주노야')\n",
    "]).content"
   ]
  },
  {
   "cell_type": "code",
   "execution_count": 12,
   "metadata": {},
   "outputs": [
    {
     "data": {
      "text/plain": [
       "'죄송하지만, 당신의 이름을 알 수 있는 정보가 없습니다. 당신의 이름을 말씀해 주시면 기억하겠습니다!'"
      ]
     },
     "execution_count": 12,
     "metadata": {},
     "output_type": "execute_result"
    }
   ],
   "source": [
    "model.invoke([\n",
    "    HumanMessage('내 이름이 뭐라고 했지?')\n",
    "]).content"
   ]
  },
  {
   "cell_type": "markdown",
   "metadata": {},
   "source": [
    "2. 직접 대화 맥락 유지\n",
    "- langchain_opai의 ChatOpenAI\n",
    "- langchain_core.messages의 클래스"
   ]
  },
  {
   "cell_type": "code",
   "execution_count": 14,
   "metadata": {},
   "outputs": [
    {
     "name": "stdout",
     "output_type": "stream",
     "text": [
      "human: 안녕! 내 이름은 주노야\n",
      "ai: 안녕하세요, 주노! 만나서 반가워요. 어떻게 도와드릴까요?\n",
      "human: 안녕! 내 이름은 주노야\n",
      "ai: 안녕하세요, 주노! 만나서 반가워요. 어떻게 도와드릴까요?\n",
      "human: 내 이름이 뭐라고 했지?\n",
      "ai: 당신의 이름은 주노라고 하셨습니다! 맞나요?\n"
     ]
    }
   ],
   "source": [
    "from langchain_core.messages import HumanMessage, AIMessage\n",
    "\n",
    "context = []\n",
    "\n",
    "context.append(HumanMessage(content=\"안녕! 내 이름은 주노야\"))\n",
    "\n",
    "ai_response = model.invoke(context)\n",
    "context.append(AIMessage(content=ai_response.content))\n",
    "\n",
    "for message in context:\n",
    "    print(f\"{message.type}: {message.content}\")\n",
    "\n",
    "context.append(HumanMessage(content=\"내 이름이 뭐라고 했지?\"))\n",
    "\n",
    "ai_response = model.invoke(context)\n",
    "context.append(AIMessage(content=ai_response.content))\n",
    "\n",
    "for message in context:\n",
    "    print(f\"{message.type}: {message.content}\")"
   ]
  },
  {
   "cell_type": "markdown",
   "metadata": {},
   "source": [
    "3. Memory로 대화 맥락 유지 \n",
    "- langchain_opai의 ChatOpenAI\n",
    "- langchain_core.messages의 클래스\n",
    "- langchain_core.runnables의 클래스\n",
    "- langchain_core.prompts의 클래스"
   ]
  },
  {
   "cell_type": "code",
   "execution_count": 38,
   "metadata": {},
   "outputs": [
    {
     "name": "stdout",
     "output_type": "stream",
     "text": [
      "안녕, 주노! 만나서 반가워. 어떻게 지내고 있어?\n",
      "주노라고 했지! 맞지?\n"
     ]
    }
   ],
   "source": [
    "from langchain_core.chat_history import BaseChatMessageHistory\n",
    "from langchain_core.runnables.history import RunnableWithMessageHistory\n",
    "from langchain_core.prompts import ChatPromptTemplate, MessagesPlaceholder\n",
    "from langchain_openai import ChatOpenAI\n",
    "\n",
    "class InMemoryHistory(BaseChatMessageHistory):\n",
    "    def __init__(self):\n",
    "        self.messages = []\n",
    "    \n",
    "    def add_messages(self, messages):\n",
    "        self.messages.extend(messages)\n",
    "    \n",
    "    def clear(self):\n",
    "        self.messages = []\n",
    "        \n",
    "    def __repr__(self):\n",
    "        return str(self.messages)\n",
    "\n",
    "\n",
    "prompt = ChatPromptTemplate.from_messages([\n",
    "    ('system', '{skill}을 잘하는 AI 어시스턴트야'), \n",
    "    MessagesPlaceholder(variable_name='history'),\n",
    "    ('human', '{query}')\n",
    "])\n",
    "\n",
    "store = {}  \n",
    "\n",
    "def get_by_session_id(session_id):\n",
    "    if session_id not in store:\n",
    "        store[session_id] = InMemoryHistory()\n",
    "    return store[session_id]\n",
    "\n",
    "model = ChatOpenAI(model_name='gpt-4o-mini', temperature=0.5)\n",
    "chain = prompt | model\n",
    "\n",
    "\n",
    "chat_with_history = RunnableWithMessageHistory(\n",
    "    chain,\n",
    "    get_session_history=get_by_session_id,\n",
    "    input_messages_key='query',\n",
    "    history_messages_key='history'\n",
    ")\n",
    "\n",
    "response = chat_with_history.invoke(\n",
    "    {'skill': '대화', 'query': '인녕! 내 이름은 주노야.'},\n",
    "    config={'configurable': {'session_id': '주노'}}\n",
    ")\n",
    "\n",
    "print(response.content)\n",
    "\n",
    "response = chat_with_history.invoke(\n",
    "    {'skill': '대화', 'query':'내 이름이 뭐라고?'},\n",
    "    config={'configurable':{'session_id':'주노'}}\n",
    ")\n",
    "\n",
    "print(response.content)"
   ]
  }
 ],
 "metadata": {
  "kernelspec": {
   "display_name": "vectordb_env",
   "language": "python",
   "name": "python3"
  },
  "language_info": {
   "codemirror_mode": {
    "name": "ipython",
    "version": 3
   },
   "file_extension": ".py",
   "mimetype": "text/x-python",
   "name": "python",
   "nbconvert_exporter": "python",
   "pygments_lexer": "ipython3",
   "version": "3.9.21"
  }
 },
 "nbformat": 4,
 "nbformat_minor": 2
}
